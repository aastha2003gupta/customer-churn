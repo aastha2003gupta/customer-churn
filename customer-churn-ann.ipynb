{
 "cells": [
  {
   "cell_type": "markdown",
   "id": "24263968",
   "metadata": {
    "papermill": {
     "duration": 0.016226,
     "end_time": "2023-12-02T11:34:37.256157",
     "exception": false,
     "start_time": "2023-12-02T11:34:37.239931",
     "status": "completed"
    },
    "tags": []
   },
   "source": [
    "# **Importing dependencies**\n"
   ]
  },
  {
   "cell_type": "code",
   "execution_count": 1,
   "id": "1d082f69",
   "metadata": {
    "execution": {
     "iopub.execute_input": "2023-12-02T11:34:37.289389Z",
     "iopub.status.busy": "2023-12-02T11:34:37.288730Z",
     "iopub.status.idle": "2023-12-02T11:34:38.942083Z",
     "shell.execute_reply": "2023-12-02T11:34:38.941226Z"
    },
    "papermill": {
     "duration": 1.672758,
     "end_time": "2023-12-02T11:34:38.944433",
     "exception": false,
     "start_time": "2023-12-02T11:34:37.271675",
     "status": "completed"
    },
    "tags": []
   },
   "outputs": [],
   "source": [
    "import pandas as pd\n",
    "import numpy as np\n",
    "from matplotlib import pyplot as plt\n",
    "%matplotlib inline \n",
    "import seaborn as sns"
   ]
  },
  {
   "cell_type": "markdown",
   "id": "c3dd5ee8",
   "metadata": {
    "papermill": {
     "duration": 0.015636,
     "end_time": "2023-12-02T11:34:38.976254",
     "exception": false,
     "start_time": "2023-12-02T11:34:38.960618",
     "status": "completed"
    },
    "tags": []
   },
   "source": [
    "# Loading data"
   ]
  },
  {
   "cell_type": "code",
   "execution_count": 2,
   "id": "293a0031",
   "metadata": {
    "execution": {
     "iopub.execute_input": "2023-12-02T11:34:39.010671Z",
     "iopub.status.busy": "2023-12-02T11:34:39.009702Z",
     "iopub.status.idle": "2023-12-02T11:34:39.078434Z",
     "shell.execute_reply": "2023-12-02T11:34:39.077124Z"
    },
    "papermill": {
     "duration": 0.089075,
     "end_time": "2023-12-02T11:34:39.081110",
     "exception": false,
     "start_time": "2023-12-02T11:34:38.992035",
     "status": "completed"
    },
    "tags": []
   },
   "outputs": [],
   "source": [
    "df=pd.read_csv('/kaggle/input/telco-customer-churn/WA_Fn-UseC_-Telco-Customer-Churn.csv')"
   ]
  },
  {
   "cell_type": "code",
   "execution_count": 3,
   "id": "42961716",
   "metadata": {
    "execution": {
     "iopub.execute_input": "2023-12-02T11:34:39.116952Z",
     "iopub.status.busy": "2023-12-02T11:34:39.116552Z",
     "iopub.status.idle": "2023-12-02T11:34:39.152423Z",
     "shell.execute_reply": "2023-12-02T11:34:39.151403Z"
    },
    "papermill": {
     "duration": 0.057706,
     "end_time": "2023-12-02T11:34:39.154586",
     "exception": false,
     "start_time": "2023-12-02T11:34:39.096880",
     "status": "completed"
    },
    "tags": []
   },
   "outputs": [
    {
     "data": {
      "text/html": [
       "<div>\n",
       "<style scoped>\n",
       "    .dataframe tbody tr th:only-of-type {\n",
       "        vertical-align: middle;\n",
       "    }\n",
       "\n",
       "    .dataframe tbody tr th {\n",
       "        vertical-align: top;\n",
       "    }\n",
       "\n",
       "    .dataframe thead th {\n",
       "        text-align: right;\n",
       "    }\n",
       "</style>\n",
       "<table border=\"1\" class=\"dataframe\">\n",
       "  <thead>\n",
       "    <tr style=\"text-align: right;\">\n",
       "      <th></th>\n",
       "      <th>customerID</th>\n",
       "      <th>gender</th>\n",
       "      <th>SeniorCitizen</th>\n",
       "      <th>Partner</th>\n",
       "      <th>Dependents</th>\n",
       "      <th>tenure</th>\n",
       "      <th>PhoneService</th>\n",
       "      <th>MultipleLines</th>\n",
       "      <th>InternetService</th>\n",
       "      <th>OnlineSecurity</th>\n",
       "      <th>...</th>\n",
       "      <th>DeviceProtection</th>\n",
       "      <th>TechSupport</th>\n",
       "      <th>StreamingTV</th>\n",
       "      <th>StreamingMovies</th>\n",
       "      <th>Contract</th>\n",
       "      <th>PaperlessBilling</th>\n",
       "      <th>PaymentMethod</th>\n",
       "      <th>MonthlyCharges</th>\n",
       "      <th>TotalCharges</th>\n",
       "      <th>Churn</th>\n",
       "    </tr>\n",
       "  </thead>\n",
       "  <tbody>\n",
       "    <tr>\n",
       "      <th>0</th>\n",
       "      <td>7590-VHVEG</td>\n",
       "      <td>Female</td>\n",
       "      <td>0</td>\n",
       "      <td>Yes</td>\n",
       "      <td>No</td>\n",
       "      <td>1</td>\n",
       "      <td>No</td>\n",
       "      <td>No phone service</td>\n",
       "      <td>DSL</td>\n",
       "      <td>No</td>\n",
       "      <td>...</td>\n",
       "      <td>No</td>\n",
       "      <td>No</td>\n",
       "      <td>No</td>\n",
       "      <td>No</td>\n",
       "      <td>Month-to-month</td>\n",
       "      <td>Yes</td>\n",
       "      <td>Electronic check</td>\n",
       "      <td>29.85</td>\n",
       "      <td>29.85</td>\n",
       "      <td>No</td>\n",
       "    </tr>\n",
       "    <tr>\n",
       "      <th>1</th>\n",
       "      <td>5575-GNVDE</td>\n",
       "      <td>Male</td>\n",
       "      <td>0</td>\n",
       "      <td>No</td>\n",
       "      <td>No</td>\n",
       "      <td>34</td>\n",
       "      <td>Yes</td>\n",
       "      <td>No</td>\n",
       "      <td>DSL</td>\n",
       "      <td>Yes</td>\n",
       "      <td>...</td>\n",
       "      <td>Yes</td>\n",
       "      <td>No</td>\n",
       "      <td>No</td>\n",
       "      <td>No</td>\n",
       "      <td>One year</td>\n",
       "      <td>No</td>\n",
       "      <td>Mailed check</td>\n",
       "      <td>56.95</td>\n",
       "      <td>1889.5</td>\n",
       "      <td>No</td>\n",
       "    </tr>\n",
       "    <tr>\n",
       "      <th>2</th>\n",
       "      <td>3668-QPYBK</td>\n",
       "      <td>Male</td>\n",
       "      <td>0</td>\n",
       "      <td>No</td>\n",
       "      <td>No</td>\n",
       "      <td>2</td>\n",
       "      <td>Yes</td>\n",
       "      <td>No</td>\n",
       "      <td>DSL</td>\n",
       "      <td>Yes</td>\n",
       "      <td>...</td>\n",
       "      <td>No</td>\n",
       "      <td>No</td>\n",
       "      <td>No</td>\n",
       "      <td>No</td>\n",
       "      <td>Month-to-month</td>\n",
       "      <td>Yes</td>\n",
       "      <td>Mailed check</td>\n",
       "      <td>53.85</td>\n",
       "      <td>108.15</td>\n",
       "      <td>Yes</td>\n",
       "    </tr>\n",
       "    <tr>\n",
       "      <th>3</th>\n",
       "      <td>7795-CFOCW</td>\n",
       "      <td>Male</td>\n",
       "      <td>0</td>\n",
       "      <td>No</td>\n",
       "      <td>No</td>\n",
       "      <td>45</td>\n",
       "      <td>No</td>\n",
       "      <td>No phone service</td>\n",
       "      <td>DSL</td>\n",
       "      <td>Yes</td>\n",
       "      <td>...</td>\n",
       "      <td>Yes</td>\n",
       "      <td>Yes</td>\n",
       "      <td>No</td>\n",
       "      <td>No</td>\n",
       "      <td>One year</td>\n",
       "      <td>No</td>\n",
       "      <td>Bank transfer (automatic)</td>\n",
       "      <td>42.30</td>\n",
       "      <td>1840.75</td>\n",
       "      <td>No</td>\n",
       "    </tr>\n",
       "    <tr>\n",
       "      <th>4</th>\n",
       "      <td>9237-HQITU</td>\n",
       "      <td>Female</td>\n",
       "      <td>0</td>\n",
       "      <td>No</td>\n",
       "      <td>No</td>\n",
       "      <td>2</td>\n",
       "      <td>Yes</td>\n",
       "      <td>No</td>\n",
       "      <td>Fiber optic</td>\n",
       "      <td>No</td>\n",
       "      <td>...</td>\n",
       "      <td>No</td>\n",
       "      <td>No</td>\n",
       "      <td>No</td>\n",
       "      <td>No</td>\n",
       "      <td>Month-to-month</td>\n",
       "      <td>Yes</td>\n",
       "      <td>Electronic check</td>\n",
       "      <td>70.70</td>\n",
       "      <td>151.65</td>\n",
       "      <td>Yes</td>\n",
       "    </tr>\n",
       "  </tbody>\n",
       "</table>\n",
       "<p>5 rows × 21 columns</p>\n",
       "</div>"
      ],
      "text/plain": [
       "   customerID  gender  SeniorCitizen Partner Dependents  tenure PhoneService  \\\n",
       "0  7590-VHVEG  Female              0     Yes         No       1           No   \n",
       "1  5575-GNVDE    Male              0      No         No      34          Yes   \n",
       "2  3668-QPYBK    Male              0      No         No       2          Yes   \n",
       "3  7795-CFOCW    Male              0      No         No      45           No   \n",
       "4  9237-HQITU  Female              0      No         No       2          Yes   \n",
       "\n",
       "      MultipleLines InternetService OnlineSecurity  ... DeviceProtection  \\\n",
       "0  No phone service             DSL             No  ...               No   \n",
       "1                No             DSL            Yes  ...              Yes   \n",
       "2                No             DSL            Yes  ...               No   \n",
       "3  No phone service             DSL            Yes  ...              Yes   \n",
       "4                No     Fiber optic             No  ...               No   \n",
       "\n",
       "  TechSupport StreamingTV StreamingMovies        Contract PaperlessBilling  \\\n",
       "0          No          No              No  Month-to-month              Yes   \n",
       "1          No          No              No        One year               No   \n",
       "2          No          No              No  Month-to-month              Yes   \n",
       "3         Yes          No              No        One year               No   \n",
       "4          No          No              No  Month-to-month              Yes   \n",
       "\n",
       "               PaymentMethod MonthlyCharges  TotalCharges Churn  \n",
       "0           Electronic check          29.85         29.85    No  \n",
       "1               Mailed check          56.95        1889.5    No  \n",
       "2               Mailed check          53.85        108.15   Yes  \n",
       "3  Bank transfer (automatic)          42.30       1840.75    No  \n",
       "4           Electronic check          70.70        151.65   Yes  \n",
       "\n",
       "[5 rows x 21 columns]"
      ]
     },
     "execution_count": 3,
     "metadata": {},
     "output_type": "execute_result"
    }
   ],
   "source": [
    "df.head()"
   ]
  },
  {
   "cell_type": "code",
   "execution_count": 4,
   "id": "f179bc48",
   "metadata": {
    "execution": {
     "iopub.execute_input": "2023-12-02T11:34:39.189802Z",
     "iopub.status.busy": "2023-12-02T11:34:39.188585Z",
     "iopub.status.idle": "2023-12-02T11:34:39.194770Z",
     "shell.execute_reply": "2023-12-02T11:34:39.193764Z"
    },
    "papermill": {
     "duration": 0.025399,
     "end_time": "2023-12-02T11:34:39.196682",
     "exception": false,
     "start_time": "2023-12-02T11:34:39.171283",
     "status": "completed"
    },
    "tags": []
   },
   "outputs": [
    {
     "data": {
      "text/plain": [
       "(7043, 21)"
      ]
     },
     "execution_count": 4,
     "metadata": {},
     "output_type": "execute_result"
    }
   ],
   "source": [
    "df.shape"
   ]
  },
  {
   "cell_type": "code",
   "execution_count": 5,
   "id": "ec45255f",
   "metadata": {
    "execution": {
     "iopub.execute_input": "2023-12-02T11:34:39.230764Z",
     "iopub.status.busy": "2023-12-02T11:34:39.230340Z",
     "iopub.status.idle": "2023-12-02T11:34:39.256783Z",
     "shell.execute_reply": "2023-12-02T11:34:39.255756Z"
    },
    "papermill": {
     "duration": 0.046228,
     "end_time": "2023-12-02T11:34:39.259098",
     "exception": false,
     "start_time": "2023-12-02T11:34:39.212870",
     "status": "completed"
    },
    "tags": []
   },
   "outputs": [
    {
     "data": {
      "text/plain": [
       "customerID          7043\n",
       "gender                 2\n",
       "SeniorCitizen          2\n",
       "Partner                2\n",
       "Dependents             2\n",
       "tenure                73\n",
       "PhoneService           2\n",
       "MultipleLines          3\n",
       "InternetService        3\n",
       "OnlineSecurity         3\n",
       "OnlineBackup           3\n",
       "DeviceProtection       3\n",
       "TechSupport            3\n",
       "StreamingTV            3\n",
       "StreamingMovies        3\n",
       "Contract               3\n",
       "PaperlessBilling       2\n",
       "PaymentMethod          4\n",
       "MonthlyCharges      1585\n",
       "TotalCharges        6531\n",
       "Churn                  2\n",
       "dtype: int64"
      ]
     },
     "execution_count": 5,
     "metadata": {},
     "output_type": "execute_result"
    }
   ],
   "source": [
    "df.nunique()"
   ]
  },
  {
   "cell_type": "code",
   "execution_count": 6,
   "id": "ac96e351",
   "metadata": {
    "execution": {
     "iopub.execute_input": "2023-12-02T11:34:39.293362Z",
     "iopub.status.busy": "2023-12-02T11:34:39.292973Z",
     "iopub.status.idle": "2023-12-02T11:34:39.308291Z",
     "shell.execute_reply": "2023-12-02T11:34:39.307086Z"
    },
    "papermill": {
     "duration": 0.034944,
     "end_time": "2023-12-02T11:34:39.310390",
     "exception": false,
     "start_time": "2023-12-02T11:34:39.275446",
     "status": "completed"
    },
    "tags": []
   },
   "outputs": [
    {
     "data": {
      "text/plain": [
       "customerID          0\n",
       "gender              0\n",
       "SeniorCitizen       0\n",
       "Partner             0\n",
       "Dependents          0\n",
       "tenure              0\n",
       "PhoneService        0\n",
       "MultipleLines       0\n",
       "InternetService     0\n",
       "OnlineSecurity      0\n",
       "OnlineBackup        0\n",
       "DeviceProtection    0\n",
       "TechSupport         0\n",
       "StreamingTV         0\n",
       "StreamingMovies     0\n",
       "Contract            0\n",
       "PaperlessBilling    0\n",
       "PaymentMethod       0\n",
       "MonthlyCharges      0\n",
       "TotalCharges        0\n",
       "Churn               0\n",
       "dtype: int64"
      ]
     },
     "execution_count": 6,
     "metadata": {},
     "output_type": "execute_result"
    }
   ],
   "source": [
    "df.isnull().sum()"
   ]
  },
  {
   "cell_type": "code",
   "execution_count": 7,
   "id": "40054eb0",
   "metadata": {
    "execution": {
     "iopub.execute_input": "2023-12-02T11:34:39.348362Z",
     "iopub.status.busy": "2023-12-02T11:34:39.347296Z",
     "iopub.status.idle": "2023-12-02T11:34:39.353929Z",
     "shell.execute_reply": "2023-12-02T11:34:39.352910Z"
    },
    "papermill": {
     "duration": 0.029101,
     "end_time": "2023-12-02T11:34:39.356085",
     "exception": false,
     "start_time": "2023-12-02T11:34:39.326984",
     "status": "completed"
    },
    "tags": []
   },
   "outputs": [
    {
     "data": {
      "text/plain": [
       "array(['customerID', 'gender', 'SeniorCitizen', 'Partner', 'Dependents',\n",
       "       'tenure', 'PhoneService', 'MultipleLines', 'InternetService',\n",
       "       'OnlineSecurity', 'OnlineBackup', 'DeviceProtection',\n",
       "       'TechSupport', 'StreamingTV', 'StreamingMovies', 'Contract',\n",
       "       'PaperlessBilling', 'PaymentMethod', 'MonthlyCharges',\n",
       "       'TotalCharges', 'Churn'], dtype=object)"
      ]
     },
     "execution_count": 7,
     "metadata": {},
     "output_type": "execute_result"
    }
   ],
   "source": [
    "df.columns.values"
   ]
  },
  {
   "cell_type": "markdown",
   "id": "7039b013",
   "metadata": {
    "papermill": {
     "duration": 0.016394,
     "end_time": "2023-12-02T11:34:39.447391",
     "exception": false,
     "start_time": "2023-12-02T11:34:39.430997",
     "status": "completed"
    },
    "tags": []
   },
   "source": [
    "\n",
    "*   **Customer identification**:'customerID', 'gender', 'SeniorCitizen','Partner', 'Dependents'\n",
    "*   **Customer account identification:**'tenure','Contract',\n",
    "       'PaperlessBilling', 'PaymentMethod', 'MonthlyCharges',\n",
    "       'TotalCharges'\n",
    "\n",
    "\n",
    "*  **Services:**'PhoneService', 'MultipleLines', 'InternetService',\n",
    "       'OnlineSecurity', 'OnlineBackup', 'DeviceProtection',\n",
    "       'TechSupport', 'StreamingTV', 'StreamingMovies'\n",
    "*  **Retention:**'Churn'\n"
   ]
  },
  {
   "cell_type": "markdown",
   "id": "cbb3bb58",
   "metadata": {
    "papermill": {
     "duration": 0.016518,
     "end_time": "2023-12-02T11:34:39.480975",
     "exception": false,
     "start_time": "2023-12-02T11:34:39.464457",
     "status": "completed"
    },
    "tags": []
   },
   "source": [
    "# Data manipulation"
   ]
  },
  {
   "cell_type": "code",
   "execution_count": 8,
   "id": "a031a368",
   "metadata": {
    "execution": {
     "iopub.execute_input": "2023-12-02T11:34:39.516131Z",
     "iopub.status.busy": "2023-12-02T11:34:39.515743Z",
     "iopub.status.idle": "2023-12-02T11:34:39.523907Z",
     "shell.execute_reply": "2023-12-02T11:34:39.522757Z"
    },
    "papermill": {
     "duration": 0.028454,
     "end_time": "2023-12-02T11:34:39.526146",
     "exception": false,
     "start_time": "2023-12-02T11:34:39.497692",
     "status": "completed"
    },
    "tags": []
   },
   "outputs": [],
   "source": [
    "df.drop('customerID',axis='columns',inplace=True)"
   ]
  },
  {
   "cell_type": "code",
   "execution_count": 9,
   "id": "4ce03db1",
   "metadata": {
    "execution": {
     "iopub.execute_input": "2023-12-02T11:34:39.561845Z",
     "iopub.status.busy": "2023-12-02T11:34:39.561435Z",
     "iopub.status.idle": "2023-12-02T11:34:39.569421Z",
     "shell.execute_reply": "2023-12-02T11:34:39.568387Z"
    },
    "papermill": {
     "duration": 0.027974,
     "end_time": "2023-12-02T11:34:39.571619",
     "exception": false,
     "start_time": "2023-12-02T11:34:39.543645",
     "status": "completed"
    },
    "tags": []
   },
   "outputs": [
    {
     "data": {
      "text/plain": [
       "gender               object\n",
       "SeniorCitizen         int64\n",
       "Partner              object\n",
       "Dependents           object\n",
       "tenure                int64\n",
       "PhoneService         object\n",
       "MultipleLines        object\n",
       "InternetService      object\n",
       "OnlineSecurity       object\n",
       "OnlineBackup         object\n",
       "DeviceProtection     object\n",
       "TechSupport          object\n",
       "StreamingTV          object\n",
       "StreamingMovies      object\n",
       "Contract             object\n",
       "PaperlessBilling     object\n",
       "PaymentMethod        object\n",
       "MonthlyCharges      float64\n",
       "TotalCharges         object\n",
       "Churn                object\n",
       "dtype: object"
      ]
     },
     "execution_count": 9,
     "metadata": {},
     "output_type": "execute_result"
    }
   ],
   "source": [
    "df.dtypes"
   ]
  },
  {
   "cell_type": "markdown",
   "id": "bcd3caec",
   "metadata": {
    "papermill": {
     "duration": 0.016167,
     "end_time": "2023-12-02T11:34:39.604422",
     "exception": false,
     "start_time": "2023-12-02T11:34:39.588255",
     "status": "completed"
    },
    "tags": []
   },
   "source": [
    "Categorical features:'customerID', 'gender', 'Partner', 'Dependents', 'PhoneService', 'MultipleLines', 'InternetService', 'OnlineSecurity', 'OnlineBackup', 'DeviceProtection', 'TechSupport', 'StreamingTV', 'StreamingMovies', 'Contract', 'PaperlessBilling', 'PaymentMethod', 'TotalCharges', 'Churn'\n",
    "Numeric features:, 'SeniorCitizen',, 'tenure', 'MonthlyCharges'"
   ]
  },
  {
   "cell_type": "code",
   "execution_count": 10,
   "id": "e087c910",
   "metadata": {
    "execution": {
     "iopub.execute_input": "2023-12-02T11:34:39.639970Z",
     "iopub.status.busy": "2023-12-02T11:34:39.639309Z",
     "iopub.status.idle": "2023-12-02T11:34:39.650195Z",
     "shell.execute_reply": "2023-12-02T11:34:39.649212Z"
    },
    "papermill": {
     "duration": 0.030828,
     "end_time": "2023-12-02T11:34:39.652265",
     "exception": false,
     "start_time": "2023-12-02T11:34:39.621437",
     "status": "completed"
    },
    "tags": []
   },
   "outputs": [
    {
     "data": {
      "text/plain": [
       "0         29.85\n",
       "1       1889.50\n",
       "2        108.15\n",
       "3       1840.75\n",
       "4        151.65\n",
       "         ...   \n",
       "7038    1990.50\n",
       "7039    7362.90\n",
       "7040     346.45\n",
       "7041     306.60\n",
       "7042    6844.50\n",
       "Name: TotalCharges, Length: 7043, dtype: float64"
      ]
     },
     "execution_count": 10,
     "metadata": {},
     "output_type": "execute_result"
    }
   ],
   "source": [
    "pd.to_numeric(df.TotalCharges,errors='coerce')"
   ]
  },
  {
   "cell_type": "code",
   "execution_count": 11,
   "id": "d97a6e01",
   "metadata": {
    "execution": {
     "iopub.execute_input": "2023-12-02T11:34:39.687917Z",
     "iopub.status.busy": "2023-12-02T11:34:39.687505Z",
     "iopub.status.idle": "2023-12-02T11:34:39.695825Z",
     "shell.execute_reply": "2023-12-02T11:34:39.694669Z"
    },
    "papermill": {
     "duration": 0.028953,
     "end_time": "2023-12-02T11:34:39.698141",
     "exception": false,
     "start_time": "2023-12-02T11:34:39.669188",
     "status": "completed"
    },
    "tags": []
   },
   "outputs": [],
   "source": [
    "df_final=df[df.TotalCharges!=\" \"]"
   ]
  },
  {
   "cell_type": "code",
   "execution_count": 12,
   "id": "629423d2",
   "metadata": {
    "execution": {
     "iopub.execute_input": "2023-12-02T11:34:39.733808Z",
     "iopub.status.busy": "2023-12-02T11:34:39.733385Z",
     "iopub.status.idle": "2023-12-02T11:34:39.740062Z",
     "shell.execute_reply": "2023-12-02T11:34:39.739041Z"
    },
    "papermill": {
     "duration": 0.026935,
     "end_time": "2023-12-02T11:34:39.742086",
     "exception": false,
     "start_time": "2023-12-02T11:34:39.715151",
     "status": "completed"
    },
    "tags": []
   },
   "outputs": [
    {
     "data": {
      "text/plain": [
       "(7032, 20)"
      ]
     },
     "execution_count": 12,
     "metadata": {},
     "output_type": "execute_result"
    }
   ],
   "source": [
    "df_final.shape"
   ]
  },
  {
   "cell_type": "code",
   "execution_count": 13,
   "id": "4ddaee30",
   "metadata": {
    "execution": {
     "iopub.execute_input": "2023-12-02T11:34:39.778071Z",
     "iopub.status.busy": "2023-12-02T11:34:39.777675Z",
     "iopub.status.idle": "2023-12-02T11:34:39.786697Z",
     "shell.execute_reply": "2023-12-02T11:34:39.785527Z"
    },
    "papermill": {
     "duration": 0.031198,
     "end_time": "2023-12-02T11:34:39.790295",
     "exception": false,
     "start_time": "2023-12-02T11:34:39.759097",
     "status": "completed"
    },
    "tags": []
   },
   "outputs": [
    {
     "name": "stderr",
     "output_type": "stream",
     "text": [
      "/tmp/ipykernel_19/2824507644.py:1: SettingWithCopyWarning: \n",
      "A value is trying to be set on a copy of a slice from a DataFrame.\n",
      "Try using .loc[row_indexer,col_indexer] = value instead\n",
      "\n",
      "See the caveats in the documentation: https://pandas.pydata.org/pandas-docs/stable/user_guide/indexing.html#returning-a-view-versus-a-copy\n",
      "  df_final['TotalCharges'] = pd.to_numeric(df_final['TotalCharges'], errors='coerce')\n"
     ]
    }
   ],
   "source": [
    "df_final['TotalCharges'] = pd.to_numeric(df_final['TotalCharges'], errors='coerce')"
   ]
  },
  {
   "cell_type": "code",
   "execution_count": 14,
   "id": "6af6510c",
   "metadata": {
    "execution": {
     "iopub.execute_input": "2023-12-02T11:34:39.826229Z",
     "iopub.status.busy": "2023-12-02T11:34:39.825857Z",
     "iopub.status.idle": "2023-12-02T11:34:39.833107Z",
     "shell.execute_reply": "2023-12-02T11:34:39.831950Z"
    },
    "papermill": {
     "duration": 0.027914,
     "end_time": "2023-12-02T11:34:39.835299",
     "exception": false,
     "start_time": "2023-12-02T11:34:39.807385",
     "status": "completed"
    },
    "tags": []
   },
   "outputs": [
    {
     "data": {
      "text/plain": [
       "dtype('float64')"
      ]
     },
     "execution_count": 14,
     "metadata": {},
     "output_type": "execute_result"
    }
   ],
   "source": [
    "df_final.TotalCharges.dtypes"
   ]
  },
  {
   "cell_type": "markdown",
   "id": "5b52ae10",
   "metadata": {
    "papermill": {
     "duration": 0.016948,
     "end_time": "2023-12-02T11:34:39.869520",
     "exception": false,
     "start_time": "2023-12-02T11:34:39.852572",
     "status": "completed"
    },
    "tags": []
   },
   "source": [
    "# Visualisation"
   ]
  },
  {
   "cell_type": "code",
   "execution_count": 15,
   "id": "7dd0efbc",
   "metadata": {
    "execution": {
     "iopub.execute_input": "2023-12-02T11:34:39.905668Z",
     "iopub.status.busy": "2023-12-02T11:34:39.905312Z",
     "iopub.status.idle": "2023-12-02T11:34:39.927637Z",
     "shell.execute_reply": "2023-12-02T11:34:39.926861Z"
    },
    "papermill": {
     "duration": 0.042772,
     "end_time": "2023-12-02T11:34:39.929700",
     "exception": false,
     "start_time": "2023-12-02T11:34:39.886928",
     "status": "completed"
    },
    "tags": []
   },
   "outputs": [
    {
     "data": {
      "text/html": [
       "<div>\n",
       "<style scoped>\n",
       "    .dataframe tbody tr th:only-of-type {\n",
       "        vertical-align: middle;\n",
       "    }\n",
       "\n",
       "    .dataframe tbody tr th {\n",
       "        vertical-align: top;\n",
       "    }\n",
       "\n",
       "    .dataframe thead th {\n",
       "        text-align: right;\n",
       "    }\n",
       "</style>\n",
       "<table border=\"1\" class=\"dataframe\">\n",
       "  <thead>\n",
       "    <tr style=\"text-align: right;\">\n",
       "      <th></th>\n",
       "      <th>tenure</th>\n",
       "      <th>MonthlyCharges</th>\n",
       "      <th>TotalCharges</th>\n",
       "    </tr>\n",
       "  </thead>\n",
       "  <tbody>\n",
       "    <tr>\n",
       "      <th>count</th>\n",
       "      <td>7032.000000</td>\n",
       "      <td>7032.000000</td>\n",
       "      <td>7032.000000</td>\n",
       "    </tr>\n",
       "    <tr>\n",
       "      <th>mean</th>\n",
       "      <td>32.421786</td>\n",
       "      <td>64.798208</td>\n",
       "      <td>2283.300441</td>\n",
       "    </tr>\n",
       "    <tr>\n",
       "      <th>std</th>\n",
       "      <td>24.545260</td>\n",
       "      <td>30.085974</td>\n",
       "      <td>2266.771362</td>\n",
       "    </tr>\n",
       "    <tr>\n",
       "      <th>min</th>\n",
       "      <td>1.000000</td>\n",
       "      <td>18.250000</td>\n",
       "      <td>18.800000</td>\n",
       "    </tr>\n",
       "    <tr>\n",
       "      <th>25%</th>\n",
       "      <td>9.000000</td>\n",
       "      <td>35.587500</td>\n",
       "      <td>401.450000</td>\n",
       "    </tr>\n",
       "    <tr>\n",
       "      <th>50%</th>\n",
       "      <td>29.000000</td>\n",
       "      <td>70.350000</td>\n",
       "      <td>1397.475000</td>\n",
       "    </tr>\n",
       "    <tr>\n",
       "      <th>75%</th>\n",
       "      <td>55.000000</td>\n",
       "      <td>89.862500</td>\n",
       "      <td>3794.737500</td>\n",
       "    </tr>\n",
       "    <tr>\n",
       "      <th>max</th>\n",
       "      <td>72.000000</td>\n",
       "      <td>118.750000</td>\n",
       "      <td>8684.800000</td>\n",
       "    </tr>\n",
       "  </tbody>\n",
       "</table>\n",
       "</div>"
      ],
      "text/plain": [
       "            tenure  MonthlyCharges  TotalCharges\n",
       "count  7032.000000     7032.000000   7032.000000\n",
       "mean     32.421786       64.798208   2283.300441\n",
       "std      24.545260       30.085974   2266.771362\n",
       "min       1.000000       18.250000     18.800000\n",
       "25%       9.000000       35.587500    401.450000\n",
       "50%      29.000000       70.350000   1397.475000\n",
       "75%      55.000000       89.862500   3794.737500\n",
       "max      72.000000      118.750000   8684.800000"
      ]
     },
     "execution_count": 15,
     "metadata": {},
     "output_type": "execute_result"
    }
   ],
   "source": [
    "numeric_features=['tenure', 'MonthlyCharges', 'TotalCharges']\n",
    "df_final[numeric_features].describe()\n"
   ]
  },
  {
   "cell_type": "code",
   "execution_count": 16,
   "id": "f2c39768",
   "metadata": {
    "execution": {
     "iopub.execute_input": "2023-12-02T11:34:39.966917Z",
     "iopub.status.busy": "2023-12-02T11:34:39.966152Z",
     "iopub.status.idle": "2023-12-02T11:34:39.978906Z",
     "shell.execute_reply": "2023-12-02T11:34:39.977804Z"
    },
    "papermill": {
     "duration": 0.03402,
     "end_time": "2023-12-02T11:34:39.981444",
     "exception": false,
     "start_time": "2023-12-02T11:34:39.947424",
     "status": "completed"
    },
    "tags": []
   },
   "outputs": [
    {
     "data": {
      "text/plain": [
       "count            7032\n",
       "unique              3\n",
       "top       Fiber optic\n",
       "freq             3096\n",
       "Name: InternetService, dtype: object"
      ]
     },
     "execution_count": 16,
     "metadata": {},
     "output_type": "execute_result"
    }
   ],
   "source": [
    "#analysis of objects\n",
    "#Internet Service\n",
    "df_final[\"InternetService\"].describe(include=['object', 'bool'])"
   ]
  },
  {
   "cell_type": "code",
   "execution_count": 17,
   "id": "73a62d1c",
   "metadata": {
    "execution": {
     "iopub.execute_input": "2023-12-02T11:34:40.018475Z",
     "iopub.status.busy": "2023-12-02T11:34:40.018120Z",
     "iopub.status.idle": "2023-12-02T11:34:40.028338Z",
     "shell.execute_reply": "2023-12-02T11:34:40.027143Z"
    },
    "papermill": {
     "duration": 0.031422,
     "end_time": "2023-12-02T11:34:40.030609",
     "exception": false,
     "start_time": "2023-12-02T11:34:39.999187",
     "status": "completed"
    },
    "tags": []
   },
   "outputs": [
    {
     "data": {
      "text/plain": [
       "count                 7032\n",
       "unique                   4\n",
       "top       Electronic check\n",
       "freq                  2365\n",
       "Name: PaymentMethod, dtype: object"
      ]
     },
     "execution_count": 17,
     "metadata": {},
     "output_type": "execute_result"
    }
   ],
   "source": [
    "df_final[\"PaymentMethod\"].describe(include=['object', 'bool'])"
   ]
  },
  {
   "cell_type": "code",
   "execution_count": 18,
   "id": "1656456d",
   "metadata": {
    "execution": {
     "iopub.execute_input": "2023-12-02T11:34:40.068848Z",
     "iopub.status.busy": "2023-12-02T11:34:40.067630Z",
     "iopub.status.idle": "2023-12-02T11:34:40.076060Z",
     "shell.execute_reply": "2023-12-02T11:34:40.075073Z"
    },
    "papermill": {
     "duration": 0.029392,
     "end_time": "2023-12-02T11:34:40.078007",
     "exception": false,
     "start_time": "2023-12-02T11:34:40.048615",
     "status": "completed"
    },
    "tags": []
   },
   "outputs": [
    {
     "data": {
      "text/plain": [
       "Churn\n",
       "No     5163\n",
       "Yes    1869\n",
       "Name: count, dtype: int64"
      ]
     },
     "execution_count": 18,
     "metadata": {},
     "output_type": "execute_result"
    }
   ],
   "source": [
    "df_final['Churn'].value_counts()"
   ]
  },
  {
   "cell_type": "code",
   "execution_count": 19,
   "id": "00fd4fb3",
   "metadata": {
    "execution": {
     "iopub.execute_input": "2023-12-02T11:34:40.117916Z",
     "iopub.status.busy": "2023-12-02T11:34:40.116840Z",
     "iopub.status.idle": "2023-12-02T11:34:40.410387Z",
     "shell.execute_reply": "2023-12-02T11:34:40.409209Z"
    },
    "papermill": {
     "duration": 0.317746,
     "end_time": "2023-12-02T11:34:40.414124",
     "exception": false,
     "start_time": "2023-12-02T11:34:40.096378",
     "status": "completed"
    },
    "tags": []
   },
   "outputs": [
    {
     "data": {
      "image/png": "[encoded data removed]",
      "text/plain": [
       "<Figure size 1000x800 with 1 Axes>"
      ]
     },
     "metadata": {},
     "output_type": "display_data"
    }
   ],
   "source": [
    "labels = 'Exited', 'Retained'\n",
    "sizes = [df_final.Churn[df_final['Churn']=='Yes'].count(), df_final.Churn[df_final['Churn']=='No'].count()]\n",
    "explode = (0, 0.1)\n",
    "fig1, ax1 = plt.subplots(figsize=(10, 8))\n",
    "ax1.pie(sizes, explode=explode, labels=labels, autopct='%1.1f%%',\n",
    "        shadow=True, startangle=90)\n",
    "ax1.axis('equal')\n",
    "plt.title(\"Proportion of customer churned and retained\", size = 20)\n",
    "plt.show()"
   ]
  },
  {
   "cell_type": "code",
   "execution_count": 20,
   "id": "8e87c4e4",
   "metadata": {
    "execution": {
     "iopub.execute_input": "2023-12-02T11:34:40.477281Z",
     "iopub.status.busy": "2023-12-02T11:34:40.476768Z",
     "iopub.status.idle": "2023-12-02T11:34:42.926639Z",
     "shell.execute_reply": "2023-12-02T11:34:42.925784Z"
    },
    "papermill": {
     "duration": 2.482812,
     "end_time": "2023-12-02T11:34:42.928815",
     "exception": false,
     "start_time": "2023-12-02T11:34:40.446003",
     "status": "completed"
    },
    "tags": []
   },
   "outputs": [
    {
     "data": {
      "image/png": "[encoded data removed]",
      "text/plain": [
       "<Figure size 1200x2000 with 17 Axes>"
      ]
     },
     "metadata": {},
     "output_type": "display_data"
    }
   ],
   "source": [
    "categorical_columns = [\n",
    "    'gender', 'SeniorCitizen', 'Partner', 'Dependents', 'PhoneService',\n",
    "    'MultipleLines', 'InternetService', 'OnlineSecurity', 'OnlineBackup',\n",
    "    'DeviceProtection', 'TechSupport', 'StreamingTV', 'StreamingMovies',\n",
    "    'Contract', 'PaperlessBilling', 'PaymentMethod', 'Churn'\n",
    "]\n",
    "\n",
    "# Calculate the number of rows and columns for subplots\n",
    "num_rows = len(categorical_columns) // 2  # 2 columns per row\n",
    "if len(categorical_columns) % 2 != 0:\n",
    "    num_rows += 1\n",
    "\n",
    "# Create subplots\n",
    "fig, axes = plt.subplots(num_rows, 2, figsize=(12, 20))\n",
    "fig.subplots_adjust(hspace=0.5)  # Adjust vertical spacing between subplots\n",
    "\n",
    "# Flatten the 2D array of subplots for easier iteration\n",
    "axes = axes.flatten()\n",
    "\n",
    "# Loop through categorical columns and create bar charts\n",
    "for i, column in enumerate(categorical_columns):\n",
    "    ax = axes[i]\n",
    "    df_final[column].value_counts().plot(kind='bar', ax=ax)\n",
    "    ax.set_title(f'{column} Distribution')\n",
    "    ax.set_xlabel(column)\n",
    "    ax.set_ylabel('Count')\n",
    "\n",
    "# Remove empty subplots if the number of columns is odd\n",
    "if len(categorical_columns) % 2 != 0:\n",
    "    fig.delaxes(axes[-1])\n",
    "\n",
    "# Display the plots\n",
    "plt.show()\n"
   ]
  },
  {
   "cell_type": "code",
   "execution_count": 21,
   "id": "eac54bbb",
   "metadata": {
    "execution": {
     "iopub.execute_input": "2023-12-02T11:34:42.975498Z",
     "iopub.status.busy": "2023-12-02T11:34:42.974491Z",
     "iopub.status.idle": "2023-12-02T11:34:43.814771Z",
     "shell.execute_reply": "2023-12-02T11:34:43.813542Z"
    },
    "papermill": {
     "duration": 0.866683,
     "end_time": "2023-12-02T11:34:43.817482",
     "exception": false,
     "start_time": "2023-12-02T11:34:42.950799",
     "status": "completed"
    },
    "tags": []
   },
   "outputs": [
    {
     "data": {
      "image/png": "[encoded data removed]",
      "text/plain": [
       "<Figure size 800x1200 with 3 Axes>"
      ]
     },
     "metadata": {},
     "output_type": "display_data"
    }
   ],
   "source": [
    "num_rows = len(numeric_features)\n",
    "num_cols = 1  # We want one column for histograms\n",
    "\n",
    "# Create subplots\n",
    "fig, axes = plt.subplots(num_rows, num_cols, figsize=(8, 12))\n",
    "fig.subplots_adjust(hspace=0.5)  # Adjust vertical spacing between subplots\n",
    "\n",
    "# If there's only one numeric feature, axes will not be an array, so we need to wrap it in a list\n",
    "if len(numeric_features) == 1:\n",
    "    axes = [axes]\n",
    "\n",
    "# Loop through numeric features and create histograms\n",
    "for i, column in enumerate(numeric_features):\n",
    "    ax = axes[i]\n",
    "    df_final[column].hist(ax=ax, bins=20)  # Adjust the number of bins as needed\n",
    "    ax.set_title(f'{column} Histogram')\n",
    "    ax.set_xlabel(column)\n",
    "    ax.set_ylabel('Frequency')\n",
    "\n",
    "# Display the plots\n",
    "plt.show()"
   ]
  },
  {
   "cell_type": "code",
   "execution_count": 22,
   "id": "fd01b595",
   "metadata": {
    "execution": {
     "iopub.execute_input": "2023-12-02T11:34:43.864497Z",
     "iopub.status.busy": "2023-12-02T11:34:43.864123Z",
     "iopub.status.idle": "2023-12-02T11:34:44.128439Z",
     "shell.execute_reply": "2023-12-02T11:34:44.127352Z"
    },
    "papermill": {
     "duration": 0.291238,
     "end_time": "2023-12-02T11:34:44.131356",
     "exception": false,
     "start_time": "2023-12-02T11:34:43.840118",
     "status": "completed"
    },
    "tags": []
   },
   "outputs": [
    {
     "data": {
      "image/png": "[encoded data removed]",
      "text/plain": [
       "<Figure size 1000x600 with 1 Axes>"
      ]
     },
     "metadata": {},
     "output_type": "display_data"
    }
   ],
   "source": [
    "plt.figure(figsize=(10, 6))\n",
    "df_final[numeric_features].boxplot()\n",
    "plt.title('Boxplots of Numerical Features')\n",
    "plt.ylabel('Values')\n",
    "\n",
    "# Display the plot\n",
    "plt.show()"
   ]
  },
  {
   "cell_type": "code",
   "execution_count": 23,
   "id": "03c32a48",
   "metadata": {
    "execution": {
     "iopub.execute_input": "2023-12-02T11:34:44.192306Z",
     "iopub.status.busy": "2023-12-02T11:34:44.191177Z",
     "iopub.status.idle": "2023-12-02T11:34:44.506317Z",
     "shell.execute_reply": "2023-12-02T11:34:44.505251Z"
    },
    "papermill": {
     "duration": 0.346483,
     "end_time": "2023-12-02T11:34:44.508539",
     "exception": false,
     "start_time": "2023-12-02T11:34:44.162056",
     "status": "completed"
    },
    "tags": []
   },
   "outputs": [
    {
     "data": {
      "image/png": "[encoded data removed]",
      "text/plain": [
       "<Figure size 800x600 with 2 Axes>"
      ]
     },
     "metadata": {},
     "output_type": "display_data"
    }
   ],
   "source": [
    "correlation_matrix = df_final[numeric_features].corr()\n",
    "\n",
    "# Create a heatmap\n",
    "plt.figure(figsize=(8, 6))\n",
    "sns.heatmap(correlation_matrix, annot=True, cmap='coolwarm', fmt=\".2f\", linewidths=0.5)\n",
    "plt.title('Correlation Heatmap of Numerical Features')\n",
    "\n",
    "# Display the heatmap\n",
    "plt.show()"
   ]
  },
  {
   "cell_type": "code",
   "execution_count": 24,
   "id": "b2451334",
   "metadata": {
    "execution": {
     "iopub.execute_input": "2023-12-02T11:34:44.557249Z",
     "iopub.status.busy": "2023-12-02T11:34:44.556611Z",
     "iopub.status.idle": "2023-12-02T11:34:44.803274Z",
     "shell.execute_reply": "2023-12-02T11:34:44.802045Z"
    },
    "papermill": {
     "duration": 0.27393,
     "end_time": "2023-12-02T11:34:44.805546",
     "exception": false,
     "start_time": "2023-12-02T11:34:44.531616",
     "status": "completed"
    },
    "tags": []
   },
   "outputs": [
    {
     "data": {
      "image/png": "[encoded data removed]",
      "text/plain": [
       "<Figure size 800x600 with 1 Axes>"
      ]
     },
     "metadata": {},
     "output_type": "display_data"
    }
   ],
   "source": [
    "churn_gender = df_final.groupby(['gender', 'Churn']).size().unstack()\n",
    "\n",
    "width = 0.35\n",
    "x = np.arange(len(churn_gender.index))\n",
    "labels = churn_gender.index\n",
    "churn_labels = churn_gender.columns\n",
    "\n",
    "fig, ax = plt.subplots(figsize=(8, 6))\n",
    "\n",
    "for i, churn_label in enumerate(churn_labels):\n",
    "    ax.bar(x + i * width, churn_gender[churn_label], width, label=churn_label)\n",
    "\n",
    "ax.set_xlabel('Gender')\n",
    "ax.set_ylabel('Count')\n",
    "ax.set_title('Churn Based on Gender')\n",
    "ax.set_xticks(x + width / 2)\n",
    "ax.set_xticklabels(labels)\n",
    "ax.legend(title='Churn')\n",
    "plt.show()"
   ]
  },
  {
   "cell_type": "code",
   "execution_count": 25,
   "id": "3653ab4b",
   "metadata": {
    "execution": {
     "iopub.execute_input": "2023-12-02T11:34:44.855392Z",
     "iopub.status.busy": "2023-12-02T11:34:44.854362Z",
     "iopub.status.idle": "2023-12-02T11:34:45.217446Z",
     "shell.execute_reply": "2023-12-02T11:34:45.216273Z"
    },
    "papermill": {
     "duration": 0.391897,
     "end_time": "2023-12-02T11:34:45.221159",
     "exception": false,
     "start_time": "2023-12-02T11:34:44.829262",
     "status": "completed"
    },
    "tags": []
   },
   "outputs": [
    {
     "data": {
      "image/png": "[encoded data removed]",
      "text/plain": [
       "<Figure size 1000x600 with 1 Axes>"
      ]
     },
     "metadata": {},
     "output_type": "display_data"
    }
   ],
   "source": [
    "churn_payment = df_final.groupby(['PaymentMethod', 'Churn']).size().unstack()\n",
    "\n",
    "width = 0.35\n",
    "x = np.arange(len(churn_payment.index))\n",
    "labels = churn_payment.index\n",
    "churn_labels = churn_payment.columns\n",
    "\n",
    "fig, ax = plt.subplots(figsize=(10, 6))\n",
    "\n",
    "for i, churn_label in enumerate(churn_labels):\n",
    "    ax.bar(x + i * width, churn_payment[churn_label], width, label=churn_label)\n",
    "\n",
    "ax.set_xlabel('Payment Method')\n",
    "ax.set_ylabel('Count')\n",
    "ax.set_title('Churn Based on Payment Method')\n",
    "ax.set_xticks(x + width / 2)\n",
    "ax.set_xticklabels(labels, rotation=45, ha='right')\n",
    "ax.legend(title='Churn')\n",
    "plt.tight_layout()\n",
    "plt.show()"
   ]
  },
  {
   "cell_type": "code",
   "execution_count": 26,
   "id": "38c707b9",
   "metadata": {
    "execution": {
     "iopub.execute_input": "2023-12-02T11:34:45.277359Z",
     "iopub.status.busy": "2023-12-02T11:34:45.276968Z",
     "iopub.status.idle": "2023-12-02T11:34:45.574809Z",
     "shell.execute_reply": "2023-12-02T11:34:45.573595Z"
    },
    "papermill": {
     "duration": 0.325924,
     "end_time": "2023-12-02T11:34:45.577034",
     "exception": false,
     "start_time": "2023-12-02T11:34:45.251110",
     "status": "completed"
    },
    "tags": []
   },
   "outputs": [
    {
     "data": {
      "image/png": "[encoded data removed]",
      "text/plain": [
       "<Figure size 1000x600 with 1 Axes>"
      ]
     },
     "metadata": {},
     "output_type": "display_data"
    }
   ],
   "source": [
    "churn_contract = df_final.groupby(['Contract', 'Churn']).size().unstack()\n",
    "\n",
    "width = 0.35\n",
    "x = np.arange(len(churn_contract.index))\n",
    "labels = churn_contract.index\n",
    "churn_labels = churn_contract.columns\n",
    "\n",
    "fig, ax = plt.subplots(figsize=(10, 6))\n",
    "\n",
    "for i, churn_label in enumerate(churn_labels):\n",
    "    ax.bar(x + i * width, churn_contract[churn_label], width, label=churn_label)\n",
    "\n",
    "ax.set_xlabel('Contract')\n",
    "ax.set_ylabel('Count')\n",
    "ax.set_title('Churn Based on Contract')\n",
    "ax.set_xticks(x + width / 2)\n",
    "ax.set_xticklabels(labels, rotation=45, ha='right')\n",
    "ax.legend(title='Churn')\n",
    "plt.tight_layout()\n",
    "plt.show()"
   ]
  },
  {
   "cell_type": "markdown",
   "id": "03c26e0c",
   "metadata": {
    "papermill": {
     "duration": 0.029169,
     "end_time": "2023-12-02T11:34:45.630923",
     "exception": false,
     "start_time": "2023-12-02T11:34:45.601754",
     "status": "completed"
    },
    "tags": []
   },
   "source": [
    "Tenure and churn"
   ]
  },
  {
   "cell_type": "code",
   "execution_count": 27,
   "id": "32158dde",
   "metadata": {
    "execution": {
     "iopub.execute_input": "2023-12-02T11:34:45.688345Z",
     "iopub.status.busy": "2023-12-02T11:34:45.687227Z",
     "iopub.status.idle": "2023-12-02T11:34:46.046524Z",
     "shell.execute_reply": "2023-12-02T11:34:46.045450Z"
    },
    "papermill": {
     "duration": 0.389829,
     "end_time": "2023-12-02T11:34:46.048866",
     "exception": false,
     "start_time": "2023-12-02T11:34:45.659037",
     "status": "completed"
    },
    "tags": []
   },
   "outputs": [
    {
     "data": {
      "text/plain": [
       "<matplotlib.legend.Legend at 0x7d6a4d0a5a80>"
      ]
     },
     "execution_count": 27,
     "metadata": {},
     "output_type": "execute_result"
    },
    {
     "data": {
      "image/png": "[encoded data removed]",
      "text/plain": [
       "<Figure size 640x480 with 1 Axes>"
      ]
     },
     "metadata": {},
     "output_type": "display_data"
    }
   ],
   "source": [
    "tenure_churn_no=df_final[df_final.Churn=='No'].tenure\n",
    "tenure_churn_yes=df_final[df_final.Churn=='Yes'].tenure\n",
    "\n",
    "plt.xlabel(\"Tenure\")\n",
    "plt.ylabel(\"Customers\")\n",
    "plt.title(\"Customer churn wrt tenure\")\n",
    "plt.hist([tenure_churn_yes,tenure_churn_no],label=['Churn=Yes','Churn=No'])\n",
    "plt.legend()"
   ]
  },
  {
   "cell_type": "code",
   "execution_count": 28,
   "id": "fde23910",
   "metadata": {
    "execution": {
     "iopub.execute_input": "2023-12-02T11:34:46.102946Z",
     "iopub.status.busy": "2023-12-02T11:34:46.102303Z",
     "iopub.status.idle": "2023-12-02T11:34:46.492515Z",
     "shell.execute_reply": "2023-12-02T11:34:46.491733Z"
    },
    "papermill": {
     "duration": 0.419836,
     "end_time": "2023-12-02T11:34:46.494845",
     "exception": false,
     "start_time": "2023-12-02T11:34:46.075009",
     "status": "completed"
    },
    "tags": []
   },
   "outputs": [
    {
     "data": {
      "text/plain": [
       "<matplotlib.legend.Legend at 0x7d6a4d18e4d0>"
      ]
     },
     "execution_count": 28,
     "metadata": {},
     "output_type": "execute_result"
    },
    {
     "data": {
      "image/png": "[encoded data removed]",
      "text/plain": [
       "<Figure size 640x480 with 1 Axes>"
      ]
     },
     "metadata": {},
     "output_type": "display_data"
    }
   ],
   "source": [
    "monthly_charge_no=df_final[df_final.Churn=='No'].MonthlyCharges\n",
    "monthly_charge_yes=df_final[df_final.Churn=='Yes'].MonthlyCharges\n",
    "\n",
    "plt.xlabel(\"Monthly Charges\")\n",
    "plt.ylabel(\"Customers\")\n",
    "plt.title(\"Customer churn wrt Monthly Charges\")\n",
    "plt.hist([monthly_charge_yes,monthly_charge_no],label=['Churn=Yes','Churn=No'])\n",
    "plt.legend()"
   ]
  },
  {
   "cell_type": "code",
   "execution_count": 29,
   "id": "cad8d081",
   "metadata": {
    "execution": {
     "iopub.execute_input": "2023-12-02T11:34:46.550533Z",
     "iopub.status.busy": "2023-12-02T11:34:46.549938Z",
     "iopub.status.idle": "2023-12-02T11:34:46.576340Z",
     "shell.execute_reply": "2023-12-02T11:34:46.575222Z"
    },
    "papermill": {
     "duration": 0.057271,
     "end_time": "2023-12-02T11:34:46.579026",
     "exception": false,
     "start_time": "2023-12-02T11:34:46.521755",
     "status": "completed"
    },
    "tags": []
   },
   "outputs": [
    {
     "name": "stderr",
     "output_type": "stream",
     "text": [
      "/tmp/ipykernel_19/3818021257.py:1: SettingWithCopyWarning: \n",
      "A value is trying to be set on a copy of a slice from a DataFrame\n",
      "\n",
      "See the caveats in the documentation: https://pandas.pydata.org/pandas-docs/stable/user_guide/indexing.html#returning-a-view-versus-a-copy\n",
      "  df_final.replace('No internet service','No',inplace=True)\n",
      "/tmp/ipykernel_19/3818021257.py:2: SettingWithCopyWarning: \n",
      "A value is trying to be set on a copy of a slice from a DataFrame\n",
      "\n",
      "See the caveats in the documentation: https://pandas.pydata.org/pandas-docs/stable/user_guide/indexing.html#returning-a-view-versus-a-copy\n",
      "  df_final.replace('No phone service','No',inplace=True)\n"
     ]
    }
   ],
   "source": [
    "df_final.replace('No internet service','No',inplace=True)\n",
    "df_final.replace('No phone service','No',inplace=True)"
   ]
  },
  {
   "cell_type": "code",
   "execution_count": 30,
   "id": "d0afe695",
   "metadata": {
    "execution": {
     "iopub.execute_input": "2023-12-02T11:34:46.633645Z",
     "iopub.status.busy": "2023-12-02T11:34:46.633276Z",
     "iopub.status.idle": "2023-12-02T11:34:46.638583Z",
     "shell.execute_reply": "2023-12-02T11:34:46.637407Z"
    },
    "papermill": {
     "duration": 0.035142,
     "end_time": "2023-12-02T11:34:46.640569",
     "exception": false,
     "start_time": "2023-12-02T11:34:46.605427",
     "status": "completed"
    },
    "tags": []
   },
   "outputs": [],
   "source": [
    "def unique_col_values(df):\n",
    "       for column in df:\n",
    "            if df[column].dtypes=='object':\n",
    "                print(f'{column}: {df[column].unique()}') "
   ]
  },
  {
   "cell_type": "code",
   "execution_count": 31,
   "id": "c7b4879a",
   "metadata": {
    "execution": {
     "iopub.execute_input": "2023-12-02T11:34:46.696437Z",
     "iopub.status.busy": "2023-12-02T11:34:46.695496Z",
     "iopub.status.idle": "2023-12-02T11:34:46.711634Z",
     "shell.execute_reply": "2023-12-02T11:34:46.710656Z"
    },
    "papermill": {
     "duration": 0.046876,
     "end_time": "2023-12-02T11:34:46.714063",
     "exception": false,
     "start_time": "2023-12-02T11:34:46.667187",
     "status": "completed"
    },
    "tags": []
   },
   "outputs": [
    {
     "name": "stdout",
     "output_type": "stream",
     "text": [
      "gender: ['Female' 'Male']\n",
      "Partner: ['Yes' 'No']\n",
      "Dependents: ['No' 'Yes']\n",
      "PhoneService: ['No' 'Yes']\n",
      "MultipleLines: ['No' 'Yes']\n",
      "InternetService: ['DSL' 'Fiber optic' 'No']\n",
      "OnlineSecurity: ['No' 'Yes']\n",
      "OnlineBackup: ['Yes' 'No']\n",
      "DeviceProtection: ['No' 'Yes']\n",
      "TechSupport: ['No' 'Yes']\n",
      "StreamingTV: ['No' 'Yes']\n",
      "StreamingMovies: ['No' 'Yes']\n",
      "Contract: ['Month-to-month' 'One year' 'Two year']\n",
      "PaperlessBilling: ['Yes' 'No']\n",
      "PaymentMethod: ['Electronic check' 'Mailed check' 'Bank transfer (automatic)'\n",
      " 'Credit card (automatic)']\n",
      "Churn: ['No' 'Yes']\n"
     ]
    }
   ],
   "source": [
    "unique_col_values(df_final)"
   ]
  },
  {
   "cell_type": "code",
   "execution_count": 32,
   "id": "36c693d7",
   "metadata": {
    "execution": {
     "iopub.execute_input": "2023-12-02T11:34:46.768332Z",
     "iopub.status.busy": "2023-12-02T11:34:46.767921Z",
     "iopub.status.idle": "2023-12-02T11:34:46.809436Z",
     "shell.execute_reply": "2023-12-02T11:34:46.808347Z"
    },
    "papermill": {
     "duration": 0.071952,
     "end_time": "2023-12-02T11:34:46.812174",
     "exception": false,
     "start_time": "2023-12-02T11:34:46.740222",
     "status": "completed"
    },
    "tags": []
   },
   "outputs": [
    {
     "name": "stderr",
     "output_type": "stream",
     "text": [
      "/tmp/ipykernel_19/478286150.py:4: SettingWithCopyWarning: \n",
      "A value is trying to be set on a copy of a slice from a DataFrame\n",
      "\n",
      "See the caveats in the documentation: https://pandas.pydata.org/pandas-docs/stable/user_guide/indexing.html#returning-a-view-versus-a-copy\n",
      "  df_final[col].replace({'Yes': 1,'No': 0},inplace=True)\n"
     ]
    }
   ],
   "source": [
    "booleans=['Partner','Dependents','PhoneService','MultipleLines','OnlineSecurity','OnlineBackup',\n",
    "                  'DeviceProtection','TechSupport','StreamingTV','StreamingMovies','PaperlessBilling','Churn']\n",
    "for col in booleans:\n",
    "    df_final[col].replace({'Yes': 1,'No': 0},inplace=True)"
   ]
  },
  {
   "cell_type": "code",
   "execution_count": 33,
   "id": "2c046ea7",
   "metadata": {
    "execution": {
     "iopub.execute_input": "2023-12-02T11:34:46.866768Z",
     "iopub.status.busy": "2023-12-02T11:34:46.866366Z",
     "iopub.status.idle": "2023-12-02T11:34:46.880106Z",
     "shell.execute_reply": "2023-12-02T11:34:46.878768Z"
    },
    "papermill": {
     "duration": 0.043817,
     "end_time": "2023-12-02T11:34:46.882588",
     "exception": false,
     "start_time": "2023-12-02T11:34:46.838771",
     "status": "completed"
    },
    "tags": []
   },
   "outputs": [
    {
     "name": "stdout",
     "output_type": "stream",
     "text": [
      "gender: ['Female' 'Male']\n",
      "SeniorCitizen: [0 1]\n",
      "Partner: [1 0]\n",
      "Dependents: [0 1]\n",
      "tenure: [ 1 34  2 45  8 22 10 28 62 13 16 58 49 25 69 52 71 21 12 30 47 72 17 27\n",
      "  5 46 11 70 63 43 15 60 18 66  9  3 31 50 64 56  7 42 35 48 29 65 38 68\n",
      " 32 55 37 36 41  6  4 33 67 23 57 61 14 20 53 40 59 24 44 19 54 51 26 39]\n",
      "PhoneService: [0 1]\n",
      "MultipleLines: [0 1]\n",
      "InternetService: ['DSL' 'Fiber optic' 'No']\n",
      "OnlineSecurity: [0 1]\n",
      "OnlineBackup: [1 0]\n",
      "DeviceProtection: [0 1]\n",
      "TechSupport: [0 1]\n",
      "StreamingTV: [0 1]\n",
      "StreamingMovies: [0 1]\n",
      "Contract: ['Month-to-month' 'One year' 'Two year']\n",
      "PaperlessBilling: [1 0]\n",
      "PaymentMethod: ['Electronic check' 'Mailed check' 'Bank transfer (automatic)'\n",
      " 'Credit card (automatic)']\n",
      "MonthlyCharges: [29.85 56.95 53.85 ... 63.1  44.2  78.7 ]\n",
      "TotalCharges: [  29.85 1889.5   108.15 ...  346.45  306.6  6844.5 ]\n",
      "Churn: [0 1]\n"
     ]
    }
   ],
   "source": [
    "for col in df_final:\n",
    "    print(f'{col}: {df_final[col].unique()}')"
   ]
  },
  {
   "cell_type": "code",
   "execution_count": 34,
   "id": "53caff21",
   "metadata": {
    "execution": {
     "iopub.execute_input": "2023-12-02T11:34:46.938804Z",
     "iopub.status.busy": "2023-12-02T11:34:46.937543Z",
     "iopub.status.idle": "2023-12-02T11:34:46.947798Z",
     "shell.execute_reply": "2023-12-02T11:34:46.946558Z"
    },
    "papermill": {
     "duration": 0.040862,
     "end_time": "2023-12-02T11:34:46.950329",
     "exception": false,
     "start_time": "2023-12-02T11:34:46.909467",
     "status": "completed"
    },
    "tags": []
   },
   "outputs": [
    {
     "name": "stderr",
     "output_type": "stream",
     "text": [
      "/tmp/ipykernel_19/1342593147.py:1: SettingWithCopyWarning: \n",
      "A value is trying to be set on a copy of a slice from a DataFrame\n",
      "\n",
      "See the caveats in the documentation: https://pandas.pydata.org/pandas-docs/stable/user_guide/indexing.html#returning-a-view-versus-a-copy\n",
      "  df_final['gender'].replace({'Female':1,'Male':0},inplace=True)\n"
     ]
    }
   ],
   "source": [
    "df_final['gender'].replace({'Female':1,'Male':0},inplace=True)"
   ]
  },
  {
   "cell_type": "code",
   "execution_count": 35,
   "id": "215965b1",
   "metadata": {
    "execution": {
     "iopub.execute_input": "2023-12-02T11:34:47.005356Z",
     "iopub.status.busy": "2023-12-02T11:34:47.004981Z",
     "iopub.status.idle": "2023-12-02T11:34:47.011899Z",
     "shell.execute_reply": "2023-12-02T11:34:47.010604Z"
    },
    "papermill": {
     "duration": 0.037146,
     "end_time": "2023-12-02T11:34:47.014203",
     "exception": false,
     "start_time": "2023-12-02T11:34:46.977057",
     "status": "completed"
    },
    "tags": []
   },
   "outputs": [
    {
     "data": {
      "text/plain": [
       "array([1, 0])"
      ]
     },
     "execution_count": 35,
     "metadata": {},
     "output_type": "execute_result"
    }
   ],
   "source": [
    "df_final.gender.unique()"
   ]
  },
  {
   "cell_type": "code",
   "execution_count": 36,
   "id": "7f62f894",
   "metadata": {
    "execution": {
     "iopub.execute_input": "2023-12-02T11:34:47.069762Z",
     "iopub.status.busy": "2023-12-02T11:34:47.069362Z",
     "iopub.status.idle": "2023-12-02T11:34:47.084781Z",
     "shell.execute_reply": "2023-12-02T11:34:47.083681Z"
    },
    "papermill": {
     "duration": 0.046471,
     "end_time": "2023-12-02T11:34:47.087154",
     "exception": false,
     "start_time": "2023-12-02T11:34:47.040683",
     "status": "completed"
    },
    "tags": []
   },
   "outputs": [
    {
     "data": {
      "text/plain": [
       "Index(['gender', 'SeniorCitizen', 'Partner', 'Dependents', 'tenure',\n",
       "       'PhoneService', 'MultipleLines', 'OnlineSecurity', 'OnlineBackup',\n",
       "       'DeviceProtection', 'TechSupport', 'StreamingTV', 'StreamingMovies',\n",
       "       'PaperlessBilling', 'MonthlyCharges', 'TotalCharges', 'Churn',\n",
       "       'InternetService_DSL', 'InternetService_Fiber optic',\n",
       "       'InternetService_No', 'Contract_Month-to-month', 'Contract_One year',\n",
       "       'Contract_Two year', 'PaymentMethod_Bank transfer (automatic)',\n",
       "       'PaymentMethod_Credit card (automatic)',\n",
       "       'PaymentMethod_Electronic check', 'PaymentMethod_Mailed check'],\n",
       "      dtype='object')"
      ]
     },
     "execution_count": 36,
     "metadata": {},
     "output_type": "execute_result"
    }
   ],
   "source": [
    "df_dataset = pd.get_dummies(data=df_final, columns=['InternetService','Contract','PaymentMethod'],dtype=int)\n",
    "df_dataset.columns"
   ]
  },
  {
   "cell_type": "code",
   "execution_count": 37,
   "id": "4dcf92e9",
   "metadata": {
    "execution": {
     "iopub.execute_input": "2023-12-02T11:34:47.143875Z",
     "iopub.status.busy": "2023-12-02T11:34:47.143458Z",
     "iopub.status.idle": "2023-12-02T11:34:47.160536Z",
     "shell.execute_reply": "2023-12-02T11:34:47.159392Z"
    },
    "papermill": {
     "duration": 0.049248,
     "end_time": "2023-12-02T11:34:47.162997",
     "exception": false,
     "start_time": "2023-12-02T11:34:47.113749",
     "status": "completed"
    },
    "tags": []
   },
   "outputs": [
    {
     "data": {
      "text/plain": [
       "<bound method DataFrame.info of       gender  SeniorCitizen  Partner  Dependents  tenure  PhoneService  \\\n",
       "0          1              0        1           0       1             0   \n",
       "1          0              0        0           0      34             1   \n",
       "2          0              0        0           0       2             1   \n",
       "3          0              0        0           0      45             0   \n",
       "4          1              0        0           0       2             1   \n",
       "...      ...            ...      ...         ...     ...           ...   \n",
       "7038       0              0        1           1      24             1   \n",
       "7039       1              0        1           1      72             1   \n",
       "7040       1              0        1           1      11             0   \n",
       "7041       0              1        1           0       4             1   \n",
       "7042       0              0        0           0      66             1   \n",
       "\n",
       "      MultipleLines  OnlineSecurity  OnlineBackup  DeviceProtection  ...  \\\n",
       "0                 0               0             1                 0  ...   \n",
       "1                 0               1             0                 1  ...   \n",
       "2                 0               1             1                 0  ...   \n",
       "3                 0               1             0                 1  ...   \n",
       "4                 0               0             0                 0  ...   \n",
       "...             ...             ...           ...               ...  ...   \n",
       "7038              1               1             0                 1  ...   \n",
       "7039              1               0             1                 1  ...   \n",
       "7040              0               1             0                 0  ...   \n",
       "7041              1               0             0                 0  ...   \n",
       "7042              0               1             0                 1  ...   \n",
       "\n",
       "      InternetService_DSL  InternetService_Fiber optic  InternetService_No  \\\n",
       "0                       1                            0                   0   \n",
       "1                       1                            0                   0   \n",
       "2                       1                            0                   0   \n",
       "3                       1                            0                   0   \n",
       "4                       0                            1                   0   \n",
       "...                   ...                          ...                 ...   \n",
       "7038                    1                            0                   0   \n",
       "7039                    0                            1                   0   \n",
       "7040                    1                            0                   0   \n",
       "7041                    0                            1                   0   \n",
       "7042                    0                            1                   0   \n",
       "\n",
       "      Contract_Month-to-month  Contract_One year  Contract_Two year  \\\n",
       "0                           1                  0                  0   \n",
       "1                           0                  1                  0   \n",
       "2                           1                  0                  0   \n",
       "3                           0                  1                  0   \n",
       "4                           1                  0                  0   \n",
       "...                       ...                ...                ...   \n",
       "7038                        0                  1                  0   \n",
       "7039                        0                  1                  0   \n",
       "7040                        1                  0                  0   \n",
       "7041                        1                  0                  0   \n",
       "7042                        0                  0                  1   \n",
       "\n",
       "      PaymentMethod_Bank transfer (automatic)  \\\n",
       "0                                           0   \n",
       "1                                           0   \n",
       "2                                           0   \n",
       "3                                           1   \n",
       "4                                           0   \n",
       "...                                       ...   \n",
       "7038                                        0   \n",
       "7039                                        0   \n",
       "7040                                        0   \n",
       "7041                                        0   \n",
       "7042                                        1   \n",
       "\n",
       "      PaymentMethod_Credit card (automatic)  PaymentMethod_Electronic check  \\\n",
       "0                                         0                               1   \n",
       "1                                         0                               0   \n",
       "2                                         0                               0   \n",
       "3                                         0                               0   \n",
       "4                                         0                               1   \n",
       "...                                     ...                             ...   \n",
       "7038                                      0                               0   \n",
       "7039                                      1                               0   \n",
       "7040                                      0                               1   \n",
       "7041                                      0                               0   \n",
       "7042                                      0                               0   \n",
       "\n",
       "      PaymentMethod_Mailed check  \n",
       "0                              0  \n",
       "1                              1  \n",
       "2                              1  \n",
       "3                              0  \n",
       "4                              0  \n",
       "...                          ...  \n",
       "7038                           1  \n",
       "7039                           0  \n",
       "7040                           0  \n",
       "7041                           1  \n",
       "7042                           0  \n",
       "\n",
       "[7032 rows x 27 columns]>"
      ]
     },
     "execution_count": 37,
     "metadata": {},
     "output_type": "execute_result"
    }
   ],
   "source": [
    "df_dataset.info"
   ]
  },
  {
   "cell_type": "code",
   "execution_count": 38,
   "id": "29c602af",
   "metadata": {
    "execution": {
     "iopub.execute_input": "2023-12-02T11:34:47.221118Z",
     "iopub.status.busy": "2023-12-02T11:34:47.220701Z",
     "iopub.status.idle": "2023-12-02T11:34:47.229739Z",
     "shell.execute_reply": "2023-12-02T11:34:47.228657Z"
    },
    "papermill": {
     "duration": 0.041064,
     "end_time": "2023-12-02T11:34:47.232089",
     "exception": false,
     "start_time": "2023-12-02T11:34:47.191025",
     "status": "completed"
    },
    "tags": []
   },
   "outputs": [
    {
     "data": {
      "text/plain": [
       "gender                                       int64\n",
       "SeniorCitizen                                int64\n",
       "Partner                                      int64\n",
       "Dependents                                   int64\n",
       "tenure                                       int64\n",
       "PhoneService                                 int64\n",
       "MultipleLines                                int64\n",
       "OnlineSecurity                               int64\n",
       "OnlineBackup                                 int64\n",
       "DeviceProtection                             int64\n",
       "TechSupport                                  int64\n",
       "StreamingTV                                  int64\n",
       "StreamingMovies                              int64\n",
       "PaperlessBilling                             int64\n",
       "MonthlyCharges                             float64\n",
       "TotalCharges                               float64\n",
       "Churn                                        int64\n",
       "InternetService_DSL                          int64\n",
       "InternetService_Fiber optic                  int64\n",
       "InternetService_No                           int64\n",
       "Contract_Month-to-month                      int64\n",
       "Contract_One year                            int64\n",
       "Contract_Two year                            int64\n",
       "PaymentMethod_Bank transfer (automatic)      int64\n",
       "PaymentMethod_Credit card (automatic)        int64\n",
       "PaymentMethod_Electronic check               int64\n",
       "PaymentMethod_Mailed check                   int64\n",
       "dtype: object"
      ]
     },
     "execution_count": 38,
     "metadata": {},
     "output_type": "execute_result"
    }
   ],
   "source": [
    "df_dataset.dtypes"
   ]
  },
  {
   "cell_type": "markdown",
   "id": "adb2e334",
   "metadata": {
    "papermill": {
     "duration": 0.028175,
     "end_time": "2023-12-02T11:34:47.287842",
     "exception": false,
     "start_time": "2023-12-02T11:34:47.259667",
     "status": "completed"
    },
    "tags": []
   },
   "source": [
    "# Scaling numerical data"
   ]
  },
  {
   "cell_type": "code",
   "execution_count": 39,
   "id": "509c0289",
   "metadata": {
    "execution": {
     "iopub.execute_input": "2023-12-02T11:34:47.343853Z",
     "iopub.status.busy": "2023-12-02T11:34:47.343487Z",
     "iopub.status.idle": "2023-12-02T11:34:47.500303Z",
     "shell.execute_reply": "2023-12-02T11:34:47.499342Z"
    },
    "papermill": {
     "duration": 0.187874,
     "end_time": "2023-12-02T11:34:47.503015",
     "exception": false,
     "start_time": "2023-12-02T11:34:47.315141",
     "status": "completed"
    },
    "tags": []
   },
   "outputs": [],
   "source": [
    "from sklearn.preprocessing import MinMaxScaler\n",
    "scaler=MinMaxScaler()"
   ]
  },
  {
   "cell_type": "code",
   "execution_count": 40,
   "id": "a4601c2f",
   "metadata": {
    "execution": {
     "iopub.execute_input": "2023-12-02T11:34:47.559467Z",
     "iopub.status.busy": "2023-12-02T11:34:47.559085Z",
     "iopub.status.idle": "2023-12-02T11:34:47.570495Z",
     "shell.execute_reply": "2023-12-02T11:34:47.569588Z"
    },
    "papermill": {
     "duration": 0.042374,
     "end_time": "2023-12-02T11:34:47.572771",
     "exception": false,
     "start_time": "2023-12-02T11:34:47.530397",
     "status": "completed"
    },
    "tags": []
   },
   "outputs": [],
   "source": [
    "scaled_columns=['tenure','TotalCharges','MonthlyCharges']\n",
    "df_dataset[scaled_columns]=scaler.fit_transform(df_dataset[scaled_columns])\n"
   ]
  },
  {
   "cell_type": "code",
   "execution_count": 41,
   "id": "3112aa9d",
   "metadata": {
    "execution": {
     "iopub.execute_input": "2023-12-02T11:34:47.629124Z",
     "iopub.status.busy": "2023-12-02T11:34:47.628759Z",
     "iopub.status.idle": "2023-12-02T11:34:47.648727Z",
     "shell.execute_reply": "2023-12-02T11:34:47.647575Z"
    },
    "papermill": {
     "duration": 0.051612,
     "end_time": "2023-12-02T11:34:47.651231",
     "exception": false,
     "start_time": "2023-12-02T11:34:47.599619",
     "status": "completed"
    },
    "tags": []
   },
   "outputs": [
    {
     "data": {
      "text/html": [
       "<div>\n",
       "<style scoped>\n",
       "    .dataframe tbody tr th:only-of-type {\n",
       "        vertical-align: middle;\n",
       "    }\n",
       "\n",
       "    .dataframe tbody tr th {\n",
       "        vertical-align: top;\n",
       "    }\n",
       "\n",
       "    .dataframe thead th {\n",
       "        text-align: right;\n",
       "    }\n",
       "</style>\n",
       "<table border=\"1\" class=\"dataframe\">\n",
       "  <thead>\n",
       "    <tr style=\"text-align: right;\">\n",
       "      <th></th>\n",
       "      <th>gender</th>\n",
       "      <th>SeniorCitizen</th>\n",
       "      <th>Partner</th>\n",
       "      <th>Dependents</th>\n",
       "      <th>tenure</th>\n",
       "      <th>PhoneService</th>\n",
       "      <th>MultipleLines</th>\n",
       "      <th>OnlineSecurity</th>\n",
       "      <th>OnlineBackup</th>\n",
       "      <th>DeviceProtection</th>\n",
       "      <th>...</th>\n",
       "      <th>InternetService_DSL</th>\n",
       "      <th>InternetService_Fiber optic</th>\n",
       "      <th>InternetService_No</th>\n",
       "      <th>Contract_Month-to-month</th>\n",
       "      <th>Contract_One year</th>\n",
       "      <th>Contract_Two year</th>\n",
       "      <th>PaymentMethod_Bank transfer (automatic)</th>\n",
       "      <th>PaymentMethod_Credit card (automatic)</th>\n",
       "      <th>PaymentMethod_Electronic check</th>\n",
       "      <th>PaymentMethod_Mailed check</th>\n",
       "    </tr>\n",
       "  </thead>\n",
       "  <tbody>\n",
       "    <tr>\n",
       "      <th>0</th>\n",
       "      <td>1</td>\n",
       "      <td>0</td>\n",
       "      <td>1</td>\n",
       "      <td>0</td>\n",
       "      <td>0.000000</td>\n",
       "      <td>0</td>\n",
       "      <td>0</td>\n",
       "      <td>0</td>\n",
       "      <td>1</td>\n",
       "      <td>0</td>\n",
       "      <td>...</td>\n",
       "      <td>1</td>\n",
       "      <td>0</td>\n",
       "      <td>0</td>\n",
       "      <td>1</td>\n",
       "      <td>0</td>\n",
       "      <td>0</td>\n",
       "      <td>0</td>\n",
       "      <td>0</td>\n",
       "      <td>1</td>\n",
       "      <td>0</td>\n",
       "    </tr>\n",
       "    <tr>\n",
       "      <th>1</th>\n",
       "      <td>0</td>\n",
       "      <td>0</td>\n",
       "      <td>0</td>\n",
       "      <td>0</td>\n",
       "      <td>0.464789</td>\n",
       "      <td>1</td>\n",
       "      <td>0</td>\n",
       "      <td>1</td>\n",
       "      <td>0</td>\n",
       "      <td>1</td>\n",
       "      <td>...</td>\n",
       "      <td>1</td>\n",
       "      <td>0</td>\n",
       "      <td>0</td>\n",
       "      <td>0</td>\n",
       "      <td>1</td>\n",
       "      <td>0</td>\n",
       "      <td>0</td>\n",
       "      <td>0</td>\n",
       "      <td>0</td>\n",
       "      <td>1</td>\n",
       "    </tr>\n",
       "    <tr>\n",
       "      <th>2</th>\n",
       "      <td>0</td>\n",
       "      <td>0</td>\n",
       "      <td>0</td>\n",
       "      <td>0</td>\n",
       "      <td>0.014085</td>\n",
       "      <td>1</td>\n",
       "      <td>0</td>\n",
       "      <td>1</td>\n",
       "      <td>1</td>\n",
       "      <td>0</td>\n",
       "      <td>...</td>\n",
       "      <td>1</td>\n",
       "      <td>0</td>\n",
       "      <td>0</td>\n",
       "      <td>1</td>\n",
       "      <td>0</td>\n",
       "      <td>0</td>\n",
       "      <td>0</td>\n",
       "      <td>0</td>\n",
       "      <td>0</td>\n",
       "      <td>1</td>\n",
       "    </tr>\n",
       "    <tr>\n",
       "      <th>3</th>\n",
       "      <td>0</td>\n",
       "      <td>0</td>\n",
       "      <td>0</td>\n",
       "      <td>0</td>\n",
       "      <td>0.619718</td>\n",
       "      <td>0</td>\n",
       "      <td>0</td>\n",
       "      <td>1</td>\n",
       "      <td>0</td>\n",
       "      <td>1</td>\n",
       "      <td>...</td>\n",
       "      <td>1</td>\n",
       "      <td>0</td>\n",
       "      <td>0</td>\n",
       "      <td>0</td>\n",
       "      <td>1</td>\n",
       "      <td>0</td>\n",
       "      <td>1</td>\n",
       "      <td>0</td>\n",
       "      <td>0</td>\n",
       "      <td>0</td>\n",
       "    </tr>\n",
       "    <tr>\n",
       "      <th>4</th>\n",
       "      <td>1</td>\n",
       "      <td>0</td>\n",
       "      <td>0</td>\n",
       "      <td>0</td>\n",
       "      <td>0.014085</td>\n",
       "      <td>1</td>\n",
       "      <td>0</td>\n",
       "      <td>0</td>\n",
       "      <td>0</td>\n",
       "      <td>0</td>\n",
       "      <td>...</td>\n",
       "      <td>0</td>\n",
       "      <td>1</td>\n",
       "      <td>0</td>\n",
       "      <td>1</td>\n",
       "      <td>0</td>\n",
       "      <td>0</td>\n",
       "      <td>0</td>\n",
       "      <td>0</td>\n",
       "      <td>1</td>\n",
       "      <td>0</td>\n",
       "    </tr>\n",
       "  </tbody>\n",
       "</table>\n",
       "<p>5 rows × 27 columns</p>\n",
       "</div>"
      ],
      "text/plain": [
       "   gender  SeniorCitizen  Partner  Dependents    tenure  PhoneService  \\\n",
       "0       1              0        1           0  0.000000             0   \n",
       "1       0              0        0           0  0.464789             1   \n",
       "2       0              0        0           0  0.014085             1   \n",
       "3       0              0        0           0  0.619718             0   \n",
       "4       1              0        0           0  0.014085             1   \n",
       "\n",
       "   MultipleLines  OnlineSecurity  OnlineBackup  DeviceProtection  ...  \\\n",
       "0              0               0             1                 0  ...   \n",
       "1              0               1             0                 1  ...   \n",
       "2              0               1             1                 0  ...   \n",
       "3              0               1             0                 1  ...   \n",
       "4              0               0             0                 0  ...   \n",
       "\n",
       "   InternetService_DSL  InternetService_Fiber optic  InternetService_No  \\\n",
       "0                    1                            0                   0   \n",
       "1                    1                            0                   0   \n",
       "2                    1                            0                   0   \n",
       "3                    1                            0                   0   \n",
       "4                    0                            1                   0   \n",
       "\n",
       "   Contract_Month-to-month  Contract_One year  Contract_Two year  \\\n",
       "0                        1                  0                  0   \n",
       "1                        0                  1                  0   \n",
       "2                        1                  0                  0   \n",
       "3                        0                  1                  0   \n",
       "4                        1                  0                  0   \n",
       "\n",
       "   PaymentMethod_Bank transfer (automatic)  \\\n",
       "0                                        0   \n",
       "1                                        0   \n",
       "2                                        0   \n",
       "3                                        1   \n",
       "4                                        0   \n",
       "\n",
       "   PaymentMethod_Credit card (automatic)  PaymentMethod_Electronic check  \\\n",
       "0                                      0                               1   \n",
       "1                                      0                               0   \n",
       "2                                      0                               0   \n",
       "3                                      0                               0   \n",
       "4                                      0                               1   \n",
       "\n",
       "   PaymentMethod_Mailed check  \n",
       "0                           0  \n",
       "1                           1  \n",
       "2                           1  \n",
       "3                           0  \n",
       "4                           0  \n",
       "\n",
       "[5 rows x 27 columns]"
      ]
     },
     "execution_count": 41,
     "metadata": {},
     "output_type": "execute_result"
    }
   ],
   "source": [
    "df_dataset.head()"
   ]
  },
  {
   "cell_type": "markdown",
   "id": "f8708e20",
   "metadata": {
    "papermill": {
     "duration": 0.027005,
     "end_time": "2023-12-02T11:34:47.705942",
     "exception": false,
     "start_time": "2023-12-02T11:34:47.678937",
     "status": "completed"
    },
    "tags": []
   },
   "source": [
    "# Train test split"
   ]
  },
  {
   "cell_type": "code",
   "execution_count": 42,
   "id": "7d772f6a",
   "metadata": {
    "execution": {
     "iopub.execute_input": "2023-12-02T11:34:47.762291Z",
     "iopub.status.busy": "2023-12-02T11:34:47.761911Z",
     "iopub.status.idle": "2023-12-02T11:34:47.769603Z",
     "shell.execute_reply": "2023-12-02T11:34:47.768440Z"
    },
    "papermill": {
     "duration": 0.038776,
     "end_time": "2023-12-02T11:34:47.771920",
     "exception": false,
     "start_time": "2023-12-02T11:34:47.733144",
     "status": "completed"
    },
    "tags": []
   },
   "outputs": [],
   "source": [
    "x=df_dataset.drop('Churn',axis='columns')\n",
    "y=df_dataset['Churn']"
   ]
  },
  {
   "cell_type": "code",
   "execution_count": 43,
   "id": "a0f0cd2d",
   "metadata": {
    "execution": {
     "iopub.execute_input": "2023-12-02T11:34:47.828047Z",
     "iopub.status.busy": "2023-12-02T11:34:47.827643Z",
     "iopub.status.idle": "2023-12-02T11:34:47.849280Z",
     "shell.execute_reply": "2023-12-02T11:34:47.848049Z"
    },
    "papermill": {
     "duration": 0.052334,
     "end_time": "2023-12-02T11:34:47.851380",
     "exception": false,
     "start_time": "2023-12-02T11:34:47.799046",
     "status": "completed"
    },
    "tags": []
   },
   "outputs": [
    {
     "data": {
      "text/html": [
       "<div>\n",
       "<style scoped>\n",
       "    .dataframe tbody tr th:only-of-type {\n",
       "        vertical-align: middle;\n",
       "    }\n",
       "\n",
       "    .dataframe tbody tr th {\n",
       "        vertical-align: top;\n",
       "    }\n",
       "\n",
       "    .dataframe thead th {\n",
       "        text-align: right;\n",
       "    }\n",
       "</style>\n",
       "<table border=\"1\" class=\"dataframe\">\n",
       "  <thead>\n",
       "    <tr style=\"text-align: right;\">\n",
       "      <th></th>\n",
       "      <th>gender</th>\n",
       "      <th>SeniorCitizen</th>\n",
       "      <th>Partner</th>\n",
       "      <th>Dependents</th>\n",
       "      <th>tenure</th>\n",
       "      <th>PhoneService</th>\n",
       "      <th>MultipleLines</th>\n",
       "      <th>OnlineSecurity</th>\n",
       "      <th>OnlineBackup</th>\n",
       "      <th>DeviceProtection</th>\n",
       "      <th>...</th>\n",
       "      <th>InternetService_DSL</th>\n",
       "      <th>InternetService_Fiber optic</th>\n",
       "      <th>InternetService_No</th>\n",
       "      <th>Contract_Month-to-month</th>\n",
       "      <th>Contract_One year</th>\n",
       "      <th>Contract_Two year</th>\n",
       "      <th>PaymentMethod_Bank transfer (automatic)</th>\n",
       "      <th>PaymentMethod_Credit card (automatic)</th>\n",
       "      <th>PaymentMethod_Electronic check</th>\n",
       "      <th>PaymentMethod_Mailed check</th>\n",
       "    </tr>\n",
       "  </thead>\n",
       "  <tbody>\n",
       "    <tr>\n",
       "      <th>0</th>\n",
       "      <td>1</td>\n",
       "      <td>0</td>\n",
       "      <td>1</td>\n",
       "      <td>0</td>\n",
       "      <td>0.000000</td>\n",
       "      <td>0</td>\n",
       "      <td>0</td>\n",
       "      <td>0</td>\n",
       "      <td>1</td>\n",
       "      <td>0</td>\n",
       "      <td>...</td>\n",
       "      <td>1</td>\n",
       "      <td>0</td>\n",
       "      <td>0</td>\n",
       "      <td>1</td>\n",
       "      <td>0</td>\n",
       "      <td>0</td>\n",
       "      <td>0</td>\n",
       "      <td>0</td>\n",
       "      <td>1</td>\n",
       "      <td>0</td>\n",
       "    </tr>\n",
       "    <tr>\n",
       "      <th>1</th>\n",
       "      <td>0</td>\n",
       "      <td>0</td>\n",
       "      <td>0</td>\n",
       "      <td>0</td>\n",
       "      <td>0.464789</td>\n",
       "      <td>1</td>\n",
       "      <td>0</td>\n",
       "      <td>1</td>\n",
       "      <td>0</td>\n",
       "      <td>1</td>\n",
       "      <td>...</td>\n",
       "      <td>1</td>\n",
       "      <td>0</td>\n",
       "      <td>0</td>\n",
       "      <td>0</td>\n",
       "      <td>1</td>\n",
       "      <td>0</td>\n",
       "      <td>0</td>\n",
       "      <td>0</td>\n",
       "      <td>0</td>\n",
       "      <td>1</td>\n",
       "    </tr>\n",
       "    <tr>\n",
       "      <th>2</th>\n",
       "      <td>0</td>\n",
       "      <td>0</td>\n",
       "      <td>0</td>\n",
       "      <td>0</td>\n",
       "      <td>0.014085</td>\n",
       "      <td>1</td>\n",
       "      <td>0</td>\n",
       "      <td>1</td>\n",
       "      <td>1</td>\n",
       "      <td>0</td>\n",
       "      <td>...</td>\n",
       "      <td>1</td>\n",
       "      <td>0</td>\n",
       "      <td>0</td>\n",
       "      <td>1</td>\n",
       "      <td>0</td>\n",
       "      <td>0</td>\n",
       "      <td>0</td>\n",
       "      <td>0</td>\n",
       "      <td>0</td>\n",
       "      <td>1</td>\n",
       "    </tr>\n",
       "    <tr>\n",
       "      <th>3</th>\n",
       "      <td>0</td>\n",
       "      <td>0</td>\n",
       "      <td>0</td>\n",
       "      <td>0</td>\n",
       "      <td>0.619718</td>\n",
       "      <td>0</td>\n",
       "      <td>0</td>\n",
       "      <td>1</td>\n",
       "      <td>0</td>\n",
       "      <td>1</td>\n",
       "      <td>...</td>\n",
       "      <td>1</td>\n",
       "      <td>0</td>\n",
       "      <td>0</td>\n",
       "      <td>0</td>\n",
       "      <td>1</td>\n",
       "      <td>0</td>\n",
       "      <td>1</td>\n",
       "      <td>0</td>\n",
       "      <td>0</td>\n",
       "      <td>0</td>\n",
       "    </tr>\n",
       "    <tr>\n",
       "      <th>4</th>\n",
       "      <td>1</td>\n",
       "      <td>0</td>\n",
       "      <td>0</td>\n",
       "      <td>0</td>\n",
       "      <td>0.014085</td>\n",
       "      <td>1</td>\n",
       "      <td>0</td>\n",
       "      <td>0</td>\n",
       "      <td>0</td>\n",
       "      <td>0</td>\n",
       "      <td>...</td>\n",
       "      <td>0</td>\n",
       "      <td>1</td>\n",
       "      <td>0</td>\n",
       "      <td>1</td>\n",
       "      <td>0</td>\n",
       "      <td>0</td>\n",
       "      <td>0</td>\n",
       "      <td>0</td>\n",
       "      <td>1</td>\n",
       "      <td>0</td>\n",
       "    </tr>\n",
       "  </tbody>\n",
       "</table>\n",
       "<p>5 rows × 26 columns</p>\n",
       "</div>"
      ],
      "text/plain": [
       "   gender  SeniorCitizen  Partner  Dependents    tenure  PhoneService  \\\n",
       "0       1              0        1           0  0.000000             0   \n",
       "1       0              0        0           0  0.464789             1   \n",
       "2       0              0        0           0  0.014085             1   \n",
       "3       0              0        0           0  0.619718             0   \n",
       "4       1              0        0           0  0.014085             1   \n",
       "\n",
       "   MultipleLines  OnlineSecurity  OnlineBackup  DeviceProtection  ...  \\\n",
       "0              0               0             1                 0  ...   \n",
       "1              0               1             0                 1  ...   \n",
       "2              0               1             1                 0  ...   \n",
       "3              0               1             0                 1  ...   \n",
       "4              0               0             0                 0  ...   \n",
       "\n",
       "   InternetService_DSL  InternetService_Fiber optic  InternetService_No  \\\n",
       "0                    1                            0                   0   \n",
       "1                    1                            0                   0   \n",
       "2                    1                            0                   0   \n",
       "3                    1                            0                   0   \n",
       "4                    0                            1                   0   \n",
       "\n",
       "   Contract_Month-to-month  Contract_One year  Contract_Two year  \\\n",
       "0                        1                  0                  0   \n",
       "1                        0                  1                  0   \n",
       "2                        1                  0                  0   \n",
       "3                        0                  1                  0   \n",
       "4                        1                  0                  0   \n",
       "\n",
       "   PaymentMethod_Bank transfer (automatic)  \\\n",
       "0                                        0   \n",
       "1                                        0   \n",
       "2                                        0   \n",
       "3                                        1   \n",
       "4                                        0   \n",
       "\n",
       "   PaymentMethod_Credit card (automatic)  PaymentMethod_Electronic check  \\\n",
       "0                                      0                               1   \n",
       "1                                      0                               0   \n",
       "2                                      0                               0   \n",
       "3                                      0                               0   \n",
       "4                                      0                               1   \n",
       "\n",
       "   PaymentMethod_Mailed check  \n",
       "0                           0  \n",
       "1                           1  \n",
       "2                           1  \n",
       "3                           0  \n",
       "4                           0  \n",
       "\n",
       "[5 rows x 26 columns]"
      ]
     },
     "execution_count": 43,
     "metadata": {},
     "output_type": "execute_result"
    }
   ],
   "source": [
    "x.head()"
   ]
  },
  {
   "cell_type": "code",
   "execution_count": 44,
   "id": "d34393a9",
   "metadata": {
    "execution": {
     "iopub.execute_input": "2023-12-02T11:34:47.908262Z",
     "iopub.status.busy": "2023-12-02T11:34:47.907488Z",
     "iopub.status.idle": "2023-12-02T11:34:47.915295Z",
     "shell.execute_reply": "2023-12-02T11:34:47.914127Z"
    },
    "papermill": {
     "duration": 0.038397,
     "end_time": "2023-12-02T11:34:47.917303",
     "exception": false,
     "start_time": "2023-12-02T11:34:47.878906",
     "status": "completed"
    },
    "tags": []
   },
   "outputs": [
    {
     "data": {
      "text/plain": [
       "0    0\n",
       "1    0\n",
       "2    1\n",
       "3    0\n",
       "4    1\n",
       "Name: Churn, dtype: int64"
      ]
     },
     "execution_count": 44,
     "metadata": {},
     "output_type": "execute_result"
    }
   ],
   "source": [
    "y.head()"
   ]
  },
  {
   "cell_type": "markdown",
   "id": "b178eed7",
   "metadata": {
    "papermill": {
     "duration": 0.027614,
     "end_time": "2023-12-02T11:34:47.972755",
     "exception": false,
     "start_time": "2023-12-02T11:34:47.945141",
     "status": "completed"
    },
    "tags": []
   },
   "source": [
    "# Model building and training"
   ]
  },
  {
   "cell_type": "code",
   "execution_count": 45,
   "id": "464822e9",
   "metadata": {
    "execution": {
     "iopub.execute_input": "2023-12-02T11:34:48.031695Z",
     "iopub.status.busy": "2023-12-02T11:34:48.030972Z",
     "iopub.status.idle": "2023-12-02T11:34:48.140514Z",
     "shell.execute_reply": "2023-12-02T11:34:48.138925Z"
    },
    "papermill": {
     "duration": 0.143016,
     "end_time": "2023-12-02T11:34:48.143350",
     "exception": false,
     "start_time": "2023-12-02T11:34:48.000334",
     "status": "completed"
    },
    "tags": []
   },
   "outputs": [],
   "source": [
    "from sklearn.model_selection import train_test_split\n",
    "x_train,x_test,y_train,y_test=train_test_split(x,y,test_size=0.2,random_state=5)"
   ]
  },
  {
   "cell_type": "code",
   "execution_count": 46,
   "id": "f9e2b20a",
   "metadata": {
    "execution": {
     "iopub.execute_input": "2023-12-02T11:34:48.200839Z",
     "iopub.status.busy": "2023-12-02T11:34:48.200111Z",
     "iopub.status.idle": "2023-12-02T11:35:28.726427Z",
     "shell.execute_reply": "2023-12-02T11:35:28.725178Z"
    },
    "papermill": {
     "duration": 40.557551,
     "end_time": "2023-12-02T11:35:28.728734",
     "exception": false,
     "start_time": "2023-12-02T11:34:48.171183",
     "status": "completed"
    },
    "tags": []
   },
   "outputs": [
    {
     "name": "stdout",
     "output_type": "stream",
     "text": [
      "Epoch 1/100\n",
      "176/176 [==============================] - 1s 2ms/step - loss: 0.5192 - accuracy: 0.7385\n",
      "Epoch 2/100\n",
      "176/176 [==============================] - 0s 2ms/step - loss: 0.4339 - accuracy: 0.7893\n",
      "Epoch 3/100\n",
      "176/176 [==============================] - 0s 2ms/step - loss: 0.4216 - accuracy: 0.7989\n",
      "Epoch 4/100\n",
      "176/176 [==============================] - 0s 2ms/step - loss: 0.4170 - accuracy: 0.8000\n",
      "Epoch 5/100\n",
      "176/176 [==============================] - 0s 1ms/step - loss: 0.4150 - accuracy: 0.8037\n",
      "Epoch 6/100\n",
      "176/176 [==============================] - 0s 1ms/step - loss: 0.4124 - accuracy: 0.8039\n",
      "Epoch 7/100\n",
      "176/176 [==============================] - 0s 2ms/step - loss: 0.4109 - accuracy: 0.8052\n",
      "Epoch 8/100\n",
      "176/176 [==============================] - 0s 1ms/step - loss: 0.4099 - accuracy: 0.8055\n",
      "Epoch 9/100\n",
      "176/176 [==============================] - 0s 2ms/step - loss: 0.4086 - accuracy: 0.8066\n",
      "Epoch 10/100\n",
      "176/176 [==============================] - 0s 2ms/step - loss: 0.4082 - accuracy: 0.8060\n",
      "Epoch 11/100\n",
      "176/176 [==============================] - 0s 2ms/step - loss: 0.4069 - accuracy: 0.8091\n",
      "Epoch 12/100\n",
      "176/176 [==============================] - 0s 2ms/step - loss: 0.4058 - accuracy: 0.8112\n",
      "Epoch 13/100\n",
      "176/176 [==============================] - 0s 2ms/step - loss: 0.4052 - accuracy: 0.8089\n",
      "Epoch 14/100\n",
      "176/176 [==============================] - 0s 2ms/step - loss: 0.4045 - accuracy: 0.8098\n",
      "Epoch 15/100\n",
      "176/176 [==============================] - 0s 1ms/step - loss: 0.4038 - accuracy: 0.8112\n",
      "Epoch 16/100\n",
      "176/176 [==============================] - 0s 2ms/step - loss: 0.4036 - accuracy: 0.8098\n",
      "Epoch 17/100\n",
      "176/176 [==============================] - 0s 1ms/step - loss: 0.4024 - accuracy: 0.8101\n",
      "Epoch 18/100\n",
      "176/176 [==============================] - 0s 2ms/step - loss: 0.4022 - accuracy: 0.8112\n",
      "Epoch 19/100\n",
      "176/176 [==============================] - 0s 2ms/step - loss: 0.4010 - accuracy: 0.8110\n",
      "Epoch 20/100\n",
      "176/176 [==============================] - 0s 2ms/step - loss: 0.4010 - accuracy: 0.8114\n",
      "Epoch 21/100\n",
      "176/176 [==============================] - 0s 2ms/step - loss: 0.4004 - accuracy: 0.8114\n",
      "Epoch 22/100\n",
      "176/176 [==============================] - 0s 1ms/step - loss: 0.3996 - accuracy: 0.8107\n",
      "Epoch 23/100\n",
      "176/176 [==============================] - 0s 1ms/step - loss: 0.3988 - accuracy: 0.8121\n",
      "Epoch 24/100\n",
      "176/176 [==============================] - 0s 1ms/step - loss: 0.3980 - accuracy: 0.8149\n",
      "Epoch 25/100\n",
      "176/176 [==============================] - 0s 1ms/step - loss: 0.3977 - accuracy: 0.8144\n",
      "Epoch 26/100\n",
      "176/176 [==============================] - 0s 2ms/step - loss: 0.3969 - accuracy: 0.8171\n",
      "Epoch 27/100\n",
      "176/176 [==============================] - 0s 2ms/step - loss: 0.3966 - accuracy: 0.8156\n",
      "Epoch 28/100\n",
      "176/176 [==============================] - 0s 2ms/step - loss: 0.3964 - accuracy: 0.8139\n",
      "Epoch 29/100\n",
      "176/176 [==============================] - 0s 2ms/step - loss: 0.3955 - accuracy: 0.8165\n",
      "Epoch 30/100\n",
      "176/176 [==============================] - 0s 1ms/step - loss: 0.3948 - accuracy: 0.8162\n",
      "Epoch 31/100\n",
      "176/176 [==============================] - 0s 1ms/step - loss: 0.3941 - accuracy: 0.8164\n",
      "Epoch 32/100\n",
      "176/176 [==============================] - 0s 1ms/step - loss: 0.3938 - accuracy: 0.8155\n",
      "Epoch 33/100\n",
      "176/176 [==============================] - 0s 1ms/step - loss: 0.3935 - accuracy: 0.8174\n",
      "Epoch 34/100\n",
      "176/176 [==============================] - 0s 1ms/step - loss: 0.3935 - accuracy: 0.8167\n",
      "Epoch 35/100\n",
      "176/176 [==============================] - 0s 1ms/step - loss: 0.3927 - accuracy: 0.8171\n",
      "Epoch 36/100\n",
      "176/176 [==============================] - 0s 2ms/step - loss: 0.3922 - accuracy: 0.8181\n",
      "Epoch 37/100\n",
      "176/176 [==============================] - 0s 2ms/step - loss: 0.3916 - accuracy: 0.8190\n",
      "Epoch 38/100\n",
      "176/176 [==============================] - 0s 2ms/step - loss: 0.3911 - accuracy: 0.8188\n",
      "Epoch 39/100\n",
      "176/176 [==============================] - 0s 2ms/step - loss: 0.3911 - accuracy: 0.8165\n",
      "Epoch 40/100\n",
      "176/176 [==============================] - 0s 2ms/step - loss: 0.3907 - accuracy: 0.8194\n",
      "Epoch 41/100\n",
      "176/176 [==============================] - 0s 2ms/step - loss: 0.3912 - accuracy: 0.8192\n",
      "Epoch 42/100\n",
      "176/176 [==============================] - 0s 2ms/step - loss: 0.3896 - accuracy: 0.8188\n",
      "Epoch 43/100\n",
      "176/176 [==============================] - 0s 2ms/step - loss: 0.3900 - accuracy: 0.8160\n",
      "Epoch 44/100\n",
      "176/176 [==============================] - 0s 2ms/step - loss: 0.3894 - accuracy: 0.8181\n",
      "Epoch 45/100\n",
      "176/176 [==============================] - 0s 2ms/step - loss: 0.3888 - accuracy: 0.8174\n",
      "Epoch 46/100\n",
      "176/176 [==============================] - 0s 2ms/step - loss: 0.3889 - accuracy: 0.8208\n",
      "Epoch 47/100\n",
      "176/176 [==============================] - 0s 1ms/step - loss: 0.3885 - accuracy: 0.8188\n",
      "Epoch 48/100\n",
      "176/176 [==============================] - 0s 1ms/step - loss: 0.3873 - accuracy: 0.8213\n",
      "Epoch 49/100\n",
      "176/176 [==============================] - 0s 1ms/step - loss: 0.3873 - accuracy: 0.8188\n",
      "Epoch 50/100\n",
      "176/176 [==============================] - 0s 1ms/step - loss: 0.3868 - accuracy: 0.8199\n",
      "Epoch 51/100\n",
      "176/176 [==============================] - 0s 1ms/step - loss: 0.3879 - accuracy: 0.8183\n",
      "Epoch 52/100\n",
      "176/176 [==============================] - 0s 1ms/step - loss: 0.3867 - accuracy: 0.8201\n",
      "Epoch 53/100\n",
      "176/176 [==============================] - 0s 1ms/step - loss: 0.3865 - accuracy: 0.8180\n",
      "Epoch 54/100\n",
      "176/176 [==============================] - 0s 2ms/step - loss: 0.3858 - accuracy: 0.8206\n",
      "Epoch 55/100\n",
      "176/176 [==============================] - 0s 1ms/step - loss: 0.3858 - accuracy: 0.8185\n",
      "Epoch 56/100\n",
      "176/176 [==============================] - 0s 1ms/step - loss: 0.3851 - accuracy: 0.8204\n",
      "Epoch 57/100\n",
      "176/176 [==============================] - 0s 1ms/step - loss: 0.3854 - accuracy: 0.8213\n",
      "Epoch 58/100\n",
      "176/176 [==============================] - 0s 2ms/step - loss: 0.3846 - accuracy: 0.8212\n",
      "Epoch 59/100\n",
      "176/176 [==============================] - 0s 1ms/step - loss: 0.3847 - accuracy: 0.8199\n",
      "Epoch 60/100\n",
      "176/176 [==============================] - 0s 1ms/step - loss: 0.3846 - accuracy: 0.8206\n",
      "Epoch 61/100\n",
      "176/176 [==============================] - 0s 2ms/step - loss: 0.3839 - accuracy: 0.8201\n",
      "Epoch 62/100\n",
      "176/176 [==============================] - 0s 2ms/step - loss: 0.3844 - accuracy: 0.8222\n",
      "Epoch 63/100\n",
      "176/176 [==============================] - 0s 2ms/step - loss: 0.3838 - accuracy: 0.8201\n",
      "Epoch 64/100\n",
      "176/176 [==============================] - 0s 1ms/step - loss: 0.3835 - accuracy: 0.8187\n",
      "Epoch 65/100\n",
      "176/176 [==============================] - 0s 1ms/step - loss: 0.3838 - accuracy: 0.8210\n",
      "Epoch 66/100\n",
      "176/176 [==============================] - 0s 1ms/step - loss: 0.3832 - accuracy: 0.8197\n",
      "Epoch 67/100\n",
      "176/176 [==============================] - 0s 1ms/step - loss: 0.3835 - accuracy: 0.8208\n",
      "Epoch 68/100\n",
      "176/176 [==============================] - 0s 2ms/step - loss: 0.3825 - accuracy: 0.8208\n",
      "Epoch 69/100\n",
      "176/176 [==============================] - 0s 2ms/step - loss: 0.3829 - accuracy: 0.8208\n",
      "Epoch 70/100\n",
      "176/176 [==============================] - 0s 2ms/step - loss: 0.3826 - accuracy: 0.8217\n",
      "Epoch 71/100\n",
      "176/176 [==============================] - 0s 2ms/step - loss: 0.3823 - accuracy: 0.8204\n",
      "Epoch 72/100\n",
      "176/176 [==============================] - 0s 1ms/step - loss: 0.3826 - accuracy: 0.8192\n",
      "Epoch 73/100\n",
      "176/176 [==============================] - 0s 1ms/step - loss: 0.3819 - accuracy: 0.8203\n",
      "Epoch 74/100\n",
      "176/176 [==============================] - 0s 1ms/step - loss: 0.3810 - accuracy: 0.8242\n",
      "Epoch 75/100\n",
      "176/176 [==============================] - 0s 1ms/step - loss: 0.3813 - accuracy: 0.8197\n",
      "Epoch 76/100\n",
      "176/176 [==============================] - 0s 1ms/step - loss: 0.3813 - accuracy: 0.8229\n",
      "Epoch 77/100\n",
      "176/176 [==============================] - 0s 1ms/step - loss: 0.3811 - accuracy: 0.8226\n",
      "Epoch 78/100\n",
      "176/176 [==============================] - 0s 1ms/step - loss: 0.3801 - accuracy: 0.8229\n",
      "Epoch 79/100\n",
      "176/176 [==============================] - 0s 2ms/step - loss: 0.3811 - accuracy: 0.8192\n",
      "Epoch 80/100\n",
      "176/176 [==============================] - 0s 1ms/step - loss: 0.3805 - accuracy: 0.8235\n",
      "Epoch 81/100\n",
      "176/176 [==============================] - 0s 1ms/step - loss: 0.3802 - accuracy: 0.8210\n",
      "Epoch 82/100\n",
      "176/176 [==============================] - 0s 1ms/step - loss: 0.3805 - accuracy: 0.8217\n",
      "Epoch 83/100\n",
      "176/176 [==============================] - 0s 1ms/step - loss: 0.3801 - accuracy: 0.8217\n",
      "Epoch 84/100\n",
      "176/176 [==============================] - 0s 2ms/step - loss: 0.3799 - accuracy: 0.8219\n",
      "Epoch 85/100\n",
      "176/176 [==============================] - 0s 1ms/step - loss: 0.3798 - accuracy: 0.8219\n",
      "Epoch 86/100\n",
      "176/176 [==============================] - 0s 1ms/step - loss: 0.3795 - accuracy: 0.8233\n",
      "Epoch 87/100\n",
      "176/176 [==============================] - 0s 2ms/step - loss: 0.3794 - accuracy: 0.8215\n",
      "Epoch 88/100\n",
      "176/176 [==============================] - 0s 1ms/step - loss: 0.3795 - accuracy: 0.8213\n",
      "Epoch 89/100\n",
      "176/176 [==============================] - 0s 2ms/step - loss: 0.3789 - accuracy: 0.8220\n",
      "Epoch 90/100\n",
      "176/176 [==============================] - 0s 2ms/step - loss: 0.3792 - accuracy: 0.8192\n",
      "Epoch 91/100\n",
      "176/176 [==============================] - 0s 1ms/step - loss: 0.3782 - accuracy: 0.8235\n",
      "Epoch 92/100\n",
      "176/176 [==============================] - 0s 2ms/step - loss: 0.3799 - accuracy: 0.8212\n",
      "Epoch 93/100\n",
      "176/176 [==============================] - 0s 1ms/step - loss: 0.3785 - accuracy: 0.8208\n",
      "Epoch 94/100\n",
      "176/176 [==============================] - 0s 2ms/step - loss: 0.3785 - accuracy: 0.8222\n",
      "Epoch 95/100\n",
      "176/176 [==============================] - 0s 2ms/step - loss: 0.3786 - accuracy: 0.8217\n",
      "Epoch 96/100\n",
      "176/176 [==============================] - 0s 2ms/step - loss: 0.3778 - accuracy: 0.8240\n",
      "Epoch 97/100\n",
      "176/176 [==============================] - 0s 2ms/step - loss: 0.3781 - accuracy: 0.8236\n",
      "Epoch 98/100\n",
      "176/176 [==============================] - 0s 2ms/step - loss: 0.3777 - accuracy: 0.8228\n",
      "Epoch 99/100\n",
      "176/176 [==============================] - 0s 2ms/step - loss: 0.3782 - accuracy: 0.8213\n",
      "Epoch 100/100\n",
      "176/176 [==============================] - 0s 2ms/step - loss: 0.3777 - accuracy: 0.8229\n"
     ]
    },
    {
     "data": {
      "text/plain": [
       "<keras.src.callbacks.History at 0x7d69fbeee920>"
      ]
     },
     "execution_count": 46,
     "metadata": {},
     "output_type": "execute_result"
    }
   ],
   "source": [
    "import tensorflow as tf\n",
    "from tensorflow import keras\n",
    "\n",
    "model=keras.Sequential([\n",
    "    keras.layers.Dense(20,input_shape=(26,),activation='relu'),\n",
    "    keras.layers.Dense(1,activation='sigmoid'),\n",
    "    \n",
    "    \n",
    "])\n",
    "\n",
    "model.compile(optimizer='adam',loss='binary_crossentropy',metrics=['accuracy'])\n",
    "\n",
    "model.fit(x_train,y_train,epochs=100)"
   ]
  },
  {
   "cell_type": "code",
   "execution_count": 47,
   "id": "7ef42c62",
   "metadata": {
    "execution": {
     "iopub.execute_input": "2023-12-02T11:35:28.884271Z",
     "iopub.status.busy": "2023-12-02T11:35:28.883872Z",
     "iopub.status.idle": "2023-12-02T11:35:29.168371Z",
     "shell.execute_reply": "2023-12-02T11:35:29.167598Z"
    },
    "papermill": {
     "duration": 0.364708,
     "end_time": "2023-12-02T11:35:29.170437",
     "exception": false,
     "start_time": "2023-12-02T11:35:28.805729",
     "status": "completed"
    },
    "tags": []
   },
   "outputs": [
    {
     "name": "stdout",
     "output_type": "stream",
     "text": [
      "44/44 [==============================] - 0s 1ms/step - loss: 0.4523 - accuracy: 0.7925\n"
     ]
    },
    {
     "data": {
      "text/plain": [
       "[0.45228081941604614, 0.7924662232398987]"
      ]
     },
     "execution_count": 47,
     "metadata": {},
     "output_type": "execute_result"
    }
   ],
   "source": [
    "model.evaluate(x_test,y_test)"
   ]
  },
  {
   "cell_type": "code",
   "execution_count": 48,
   "id": "b9278a3d",
   "metadata": {
    "execution": {
     "iopub.execute_input": "2023-12-02T11:35:29.327248Z",
     "iopub.status.busy": "2023-12-02T11:35:29.326618Z",
     "iopub.status.idle": "2023-12-02T11:35:29.552592Z",
     "shell.execute_reply": "2023-12-02T11:35:29.551521Z"
    },
    "papermill": {
     "duration": 0.308191,
     "end_time": "2023-12-02T11:35:29.555182",
     "exception": false,
     "start_time": "2023-12-02T11:35:29.246991",
     "status": "completed"
    },
    "tags": []
   },
   "outputs": [
    {
     "name": "stdout",
     "output_type": "stream",
     "text": [
      "44/44 [==============================] - 0s 1ms/step\n"
     ]
    }
   ],
   "source": [
    "y_pred=model.predict(x_test)"
   ]
  },
  {
   "cell_type": "code",
   "execution_count": 49,
   "id": "9b0e93d8",
   "metadata": {
    "execution": {
     "iopub.execute_input": "2023-12-02T11:35:29.714255Z",
     "iopub.status.busy": "2023-12-02T11:35:29.713852Z",
     "iopub.status.idle": "2023-12-02T11:35:29.721284Z",
     "shell.execute_reply": "2023-12-02T11:35:29.720295Z"
    },
    "papermill": {
     "duration": 0.089306,
     "end_time": "2023-12-02T11:35:29.723441",
     "exception": false,
     "start_time": "2023-12-02T11:35:29.634135",
     "status": "completed"
    },
    "tags": []
   },
   "outputs": [
    {
     "data": {
      "text/plain": [
       "array([[0.33979157],\n",
       "       [0.6141764 ],\n",
       "       [0.01952801],\n",
       "       ...,\n",
       "       [0.70573413],\n",
       "       [0.6543392 ],\n",
       "       [0.6410428 ]], dtype=float32)"
      ]
     },
     "execution_count": 49,
     "metadata": {},
     "output_type": "execute_result"
    }
   ],
   "source": [
    "y_pred"
   ]
  },
  {
   "cell_type": "code",
   "execution_count": 50,
   "id": "a53b14aa",
   "metadata": {
    "execution": {
     "iopub.execute_input": "2023-12-02T11:35:29.883907Z",
     "iopub.status.busy": "2023-12-02T11:35:29.883137Z",
     "iopub.status.idle": "2023-12-02T11:35:29.891152Z",
     "shell.execute_reply": "2023-12-02T11:35:29.890299Z"
    },
    "papermill": {
     "duration": 0.090836,
     "end_time": "2023-12-02T11:35:29.893479",
     "exception": false,
     "start_time": "2023-12-02T11:35:29.802643",
     "status": "completed"
    },
    "tags": []
   },
   "outputs": [],
   "source": [
    "y_prediction=[]\n",
    "for pred in y_pred:\n",
    "    if pred>0.5:\n",
    "        y_prediction.append(1)\n",
    "    else:\n",
    "        y_prediction.append(0)"
   ]
  },
  {
   "cell_type": "code",
   "execution_count": 51,
   "id": "2bfbe91f",
   "metadata": {
    "execution": {
     "iopub.execute_input": "2023-12-02T11:35:30.052752Z",
     "iopub.status.busy": "2023-12-02T11:35:30.052271Z",
     "iopub.status.idle": "2023-12-02T11:35:30.059648Z",
     "shell.execute_reply": "2023-12-02T11:35:30.058473Z"
    },
    "papermill": {
     "duration": 0.090219,
     "end_time": "2023-12-02T11:35:30.061994",
     "exception": false,
     "start_time": "2023-12-02T11:35:29.971775",
     "status": "completed"
    },
    "tags": []
   },
   "outputs": [
    {
     "data": {
      "text/plain": [
       "[0, 1, 0, 1, 0]"
      ]
     },
     "execution_count": 51,
     "metadata": {},
     "output_type": "execute_result"
    }
   ],
   "source": [
    "y_prediction[:5]"
   ]
  },
  {
   "cell_type": "markdown",
   "id": "c44106bb",
   "metadata": {
    "papermill": {
     "duration": 0.078654,
     "end_time": "2023-12-02T11:35:30.219271",
     "exception": false,
     "start_time": "2023-12-02T11:35:30.140617",
     "status": "completed"
    },
    "tags": []
   },
   "source": [
    "Classification report"
   ]
  },
  {
   "cell_type": "markdown",
   "id": "14e0643a",
   "metadata": {
    "papermill": {
     "duration": 0.078511,
     "end_time": "2023-12-02T11:35:30.375950",
     "exception": false,
     "start_time": "2023-12-02T11:35:30.297439",
     "status": "completed"
    },
    "tags": []
   },
   "source": [
    "# Classification report"
   ]
  },
  {
   "cell_type": "code",
   "execution_count": 52,
   "id": "7d3538b2",
   "metadata": {
    "execution": {
     "iopub.execute_input": "2023-12-02T11:35:30.536868Z",
     "iopub.status.busy": "2023-12-02T11:35:30.536463Z",
     "iopub.status.idle": "2023-12-02T11:35:30.553328Z",
     "shell.execute_reply": "2023-12-02T11:35:30.551892Z"
    },
    "papermill": {
     "duration": 0.100106,
     "end_time": "2023-12-02T11:35:30.555574",
     "exception": false,
     "start_time": "2023-12-02T11:35:30.455468",
     "status": "completed"
    },
    "tags": []
   },
   "outputs": [
    {
     "name": "stdout",
     "output_type": "stream",
     "text": [
      "              precision    recall  f1-score   support\n",
      "\n",
      "           0       0.83      0.89      0.86       999\n",
      "           1       0.68      0.54      0.60       408\n",
      "\n",
      "    accuracy                           0.79      1407\n",
      "   macro avg       0.75      0.72      0.73      1407\n",
      "weighted avg       0.78      0.79      0.78      1407\n",
      "\n"
     ]
    }
   ],
   "source": [
    "from sklearn.metrics import confusion_matrix,classification_report\n",
    "\n",
    "print(classification_report(y_test,y_prediction))"
   ]
  },
  {
   "cell_type": "markdown",
   "id": "7f217714",
   "metadata": {
    "papermill": {
     "duration": 0.077453,
     "end_time": "2023-12-02T11:35:30.711584",
     "exception": false,
     "start_time": "2023-12-02T11:35:30.634131",
     "status": "completed"
    },
    "tags": []
   },
   "source": [
    "Undersampling technique"
   ]
  },
  {
   "cell_type": "code",
   "execution_count": 53,
   "id": "98c5879a",
   "metadata": {
    "execution": {
     "iopub.execute_input": "2023-12-02T11:35:30.869561Z",
     "iopub.status.busy": "2023-12-02T11:35:30.868796Z",
     "iopub.status.idle": "2023-12-02T11:35:30.879180Z",
     "shell.execute_reply": "2023-12-02T11:35:30.878009Z"
    },
    "papermill": {
     "duration": 0.092734,
     "end_time": "2023-12-02T11:35:30.881645",
     "exception": false,
     "start_time": "2023-12-02T11:35:30.788911",
     "status": "completed"
    },
    "tags": []
   },
   "outputs": [],
   "source": [
    "count_class_0,count_class_1=df_final.Churn.value_counts()\n",
    "\n",
    "df_class_0=df_dataset[df_dataset['Churn']==0]\n",
    "df_class_1=df_dataset[df_dataset['Churn']==1]"
   ]
  },
  {
   "cell_type": "code",
   "execution_count": 54,
   "id": "19507390",
   "metadata": {
    "execution": {
     "iopub.execute_input": "2023-12-02T11:35:31.038802Z",
     "iopub.status.busy": "2023-12-02T11:35:31.038401Z",
     "iopub.status.idle": "2023-12-02T11:35:31.045011Z",
     "shell.execute_reply": "2023-12-02T11:35:31.043922Z"
    },
    "papermill": {
     "duration": 0.087083,
     "end_time": "2023-12-02T11:35:31.047084",
     "exception": false,
     "start_time": "2023-12-02T11:35:30.960001",
     "status": "completed"
    },
    "tags": []
   },
   "outputs": [
    {
     "data": {
      "text/plain": [
       "(5163, 27)"
      ]
     },
     "execution_count": 54,
     "metadata": {},
     "output_type": "execute_result"
    }
   ],
   "source": [
    "df_class_0.shape"
   ]
  },
  {
   "cell_type": "code",
   "execution_count": 55,
   "id": "112b5838",
   "metadata": {
    "execution": {
     "iopub.execute_input": "2023-12-02T11:35:31.206601Z",
     "iopub.status.busy": "2023-12-02T11:35:31.205815Z",
     "iopub.status.idle": "2023-12-02T11:35:31.211703Z",
     "shell.execute_reply": "2023-12-02T11:35:31.210972Z"
    },
    "papermill": {
     "duration": 0.089364,
     "end_time": "2023-12-02T11:35:31.213569",
     "exception": false,
     "start_time": "2023-12-02T11:35:31.124205",
     "status": "completed"
    },
    "tags": []
   },
   "outputs": [
    {
     "data": {
      "text/plain": [
       "(1869, 27)"
      ]
     },
     "execution_count": 55,
     "metadata": {},
     "output_type": "execute_result"
    }
   ],
   "source": [
    "df_class_1.shape"
   ]
  },
  {
   "cell_type": "markdown",
   "id": "694d55c4",
   "metadata": {
    "papermill": {
     "duration": 0.081082,
     "end_time": "2023-12-02T11:35:31.373209",
     "exception": false,
     "start_time": "2023-12-02T11:35:31.292127",
     "status": "completed"
    },
    "tags": []
   },
   "source": [
    "# Solving data imbalance"
   ]
  },
  {
   "cell_type": "markdown",
   "id": "58b99be7",
   "metadata": {
    "papermill": {
     "duration": 0.077158,
     "end_time": "2023-12-02T11:35:31.528020",
     "exception": false,
     "start_time": "2023-12-02T11:35:31.450862",
     "status": "completed"
    },
    "tags": []
   },
   "source": [
    "Undersampling"
   ]
  },
  {
   "cell_type": "code",
   "execution_count": 56,
   "id": "f2654d97",
   "metadata": {
    "execution": {
     "iopub.execute_input": "2023-12-02T11:35:31.685782Z",
     "iopub.status.busy": "2023-12-02T11:35:31.685056Z",
     "iopub.status.idle": "2023-12-02T11:35:31.694723Z",
     "shell.execute_reply": "2023-12-02T11:35:31.693730Z"
    },
    "papermill": {
     "duration": 0.09086,
     "end_time": "2023-12-02T11:35:31.697029",
     "exception": false,
     "start_time": "2023-12-02T11:35:31.606169",
     "status": "completed"
    },
    "tags": []
   },
   "outputs": [
    {
     "data": {
      "text/plain": [
       "(1869, 27)"
      ]
     },
     "execution_count": 56,
     "metadata": {},
     "output_type": "execute_result"
    }
   ],
   "source": [
    "df_class_0_under=df_class_0.sample(count_class_1)\n",
    "df_class_0_under.shape"
   ]
  },
  {
   "cell_type": "code",
   "execution_count": 57,
   "id": "214bba28",
   "metadata": {
    "execution": {
     "iopub.execute_input": "2023-12-02T11:35:31.854735Z",
     "iopub.status.busy": "2023-12-02T11:35:31.854324Z",
     "iopub.status.idle": "2023-12-02T11:35:31.864538Z",
     "shell.execute_reply": "2023-12-02T11:35:31.863781Z"
    },
    "papermill": {
     "duration": 0.091383,
     "end_time": "2023-12-02T11:35:31.866476",
     "exception": false,
     "start_time": "2023-12-02T11:35:31.775093",
     "status": "completed"
    },
    "tags": []
   },
   "outputs": [
    {
     "data": {
      "text/plain": [
       "(3738, 27)"
      ]
     },
     "execution_count": 57,
     "metadata": {},
     "output_type": "execute_result"
    }
   ],
   "source": [
    "df_test_under=pd.concat([df_class_0_under,df_class_1],axis=0)\n",
    "df_test_under.shape"
   ]
  },
  {
   "cell_type": "code",
   "execution_count": 58,
   "id": "a00e563c",
   "metadata": {
    "execution": {
     "iopub.execute_input": "2023-12-02T11:35:32.025654Z",
     "iopub.status.busy": "2023-12-02T11:35:32.025251Z",
     "iopub.status.idle": "2023-12-02T11:35:32.039673Z",
     "shell.execute_reply": "2023-12-02T11:35:32.038815Z"
    },
    "papermill": {
     "duration": 0.096753,
     "end_time": "2023-12-02T11:35:32.041865",
     "exception": false,
     "start_time": "2023-12-02T11:35:31.945112",
     "status": "completed"
    },
    "tags": []
   },
   "outputs": [],
   "source": [
    "x=df_test_under.drop('Churn',axis='columns')\n",
    "y=df_test_under['Churn']\n",
    "from sklearn.model_selection import train_test_split\n",
    "x_train_under,x_test_under,y_train_under,y_test_under=train_test_split(x,y,test_size=0.2,random_state=15,stratify=y)"
   ]
  },
  {
   "cell_type": "code",
   "execution_count": 59,
   "id": "18612f2a",
   "metadata": {
    "execution": {
     "iopub.execute_input": "2023-12-02T11:35:32.202087Z",
     "iopub.status.busy": "2023-12-02T11:35:32.200951Z",
     "iopub.status.idle": "2023-12-02T11:35:32.209139Z",
     "shell.execute_reply": "2023-12-02T11:35:32.208017Z"
    },
    "papermill": {
     "duration": 0.090372,
     "end_time": "2023-12-02T11:35:32.211396",
     "exception": false,
     "start_time": "2023-12-02T11:35:32.121024",
     "status": "completed"
    },
    "tags": []
   },
   "outputs": [
    {
     "data": {
      "text/plain": [
       "Churn\n",
       "0    1495\n",
       "1    1495\n",
       "Name: count, dtype: int64"
      ]
     },
     "execution_count": 59,
     "metadata": {},
     "output_type": "execute_result"
    }
   ],
   "source": [
    "y_train_under.value_counts()"
   ]
  },
  {
   "cell_type": "markdown",
   "id": "36dfd706",
   "metadata": {
    "papermill": {
     "duration": 0.080172,
     "end_time": "2023-12-02T11:35:32.372266",
     "exception": false,
     "start_time": "2023-12-02T11:35:32.292094",
     "status": "completed"
    },
    "tags": []
   },
   "source": [
    "Oversampling"
   ]
  },
  {
   "cell_type": "code",
   "execution_count": 60,
   "id": "5b3ac5a0",
   "metadata": {
    "execution": {
     "iopub.execute_input": "2023-12-02T11:35:32.532178Z",
     "iopub.status.busy": "2023-12-02T11:35:32.531767Z",
     "iopub.status.idle": "2023-12-02T11:35:32.538215Z",
     "shell.execute_reply": "2023-12-02T11:35:32.536852Z"
    },
    "papermill": {
     "duration": 0.089157,
     "end_time": "2023-12-02T11:35:32.540315",
     "exception": false,
     "start_time": "2023-12-02T11:35:32.451158",
     "status": "completed"
    },
    "tags": []
   },
   "outputs": [
    {
     "data": {
      "text/plain": [
       "(5163, 1869)"
      ]
     },
     "execution_count": 60,
     "metadata": {},
     "output_type": "execute_result"
    }
   ],
   "source": [
    "count_class_0,count_class_1"
   ]
  },
  {
   "cell_type": "code",
   "execution_count": 61,
   "id": "48d123c0",
   "metadata": {
    "execution": {
     "iopub.execute_input": "2023-12-02T11:35:32.703471Z",
     "iopub.status.busy": "2023-12-02T11:35:32.702777Z",
     "iopub.status.idle": "2023-12-02T11:35:32.714457Z",
     "shell.execute_reply": "2023-12-02T11:35:32.713226Z"
    },
    "papermill": {
     "duration": 0.094148,
     "end_time": "2023-12-02T11:35:32.716971",
     "exception": false,
     "start_time": "2023-12-02T11:35:32.622823",
     "status": "completed"
    },
    "tags": []
   },
   "outputs": [],
   "source": [
    "df_class_1_over=df_class_1.sample(count_class_0,replace=True)\n",
    "df_test_over=pd.concat([df_class_0,df_class_1_over],axis=0)"
   ]
  },
  {
   "cell_type": "code",
   "execution_count": 62,
   "id": "5036339e",
   "metadata": {
    "execution": {
     "iopub.execute_input": "2023-12-02T11:35:32.879041Z",
     "iopub.status.busy": "2023-12-02T11:35:32.878614Z",
     "iopub.status.idle": "2023-12-02T11:35:32.886096Z",
     "shell.execute_reply": "2023-12-02T11:35:32.885307Z"
    },
    "papermill": {
     "duration": 0.09,
     "end_time": "2023-12-02T11:35:32.887904",
     "exception": false,
     "start_time": "2023-12-02T11:35:32.797904",
     "status": "completed"
    },
    "tags": []
   },
   "outputs": [
    {
     "data": {
      "text/plain": [
       "Churn\n",
       "0    5163\n",
       "1    5163\n",
       "Name: count, dtype: int64"
      ]
     },
     "execution_count": 62,
     "metadata": {},
     "output_type": "execute_result"
    }
   ],
   "source": [
    "df_test_over.Churn.value_counts()"
   ]
  },
  {
   "cell_type": "markdown",
   "id": "8c30030c",
   "metadata": {
    "papermill": {
     "duration": 0.077743,
     "end_time": "2023-12-02T11:35:33.043616",
     "exception": false,
     "start_time": "2023-12-02T11:35:32.965873",
     "status": "completed"
    },
    "tags": []
   },
   "source": [
    "SMOTE"
   ]
  },
  {
   "cell_type": "code",
   "execution_count": 63,
   "id": "47206c1d",
   "metadata": {
    "execution": {
     "iopub.execute_input": "2023-12-02T11:35:33.205071Z",
     "iopub.status.busy": "2023-12-02T11:35:33.204397Z",
     "iopub.status.idle": "2023-12-02T11:35:33.211563Z",
     "shell.execute_reply": "2023-12-02T11:35:33.210732Z"
    },
    "papermill": {
     "duration": 0.091113,
     "end_time": "2023-12-02T11:35:33.213928",
     "exception": false,
     "start_time": "2023-12-02T11:35:33.122815",
     "status": "completed"
    },
    "tags": []
   },
   "outputs": [],
   "source": [
    "x=df_dataset.drop('Churn',axis='columns')\n",
    "y=df_dataset['Churn']"
   ]
  },
  {
   "cell_type": "code",
   "execution_count": 64,
   "id": "d225ff43",
   "metadata": {
    "execution": {
     "iopub.execute_input": "2023-12-02T11:35:33.374472Z",
     "iopub.status.busy": "2023-12-02T11:35:33.374074Z",
     "iopub.status.idle": "2023-12-02T11:35:33.834581Z",
     "shell.execute_reply": "2023-12-02T11:35:33.833411Z"
    },
    "papermill": {
     "duration": 0.544515,
     "end_time": "2023-12-02T11:35:33.837178",
     "exception": false,
     "start_time": "2023-12-02T11:35:33.292663",
     "status": "completed"
    },
    "tags": []
   },
   "outputs": [],
   "source": [
    "from imblearn.over_sampling import SMOTE\n",
    "\n",
    "smote=SMOTE(sampling_strategy='minority')\n",
    "x_sm,y_sm=smote.fit_resample(x,y)"
   ]
  },
  {
   "cell_type": "code",
   "execution_count": 65,
   "id": "7fe58533",
   "metadata": {
    "execution": {
     "iopub.execute_input": "2023-12-02T11:35:33.998137Z",
     "iopub.status.busy": "2023-12-02T11:35:33.997403Z",
     "iopub.status.idle": "2023-12-02T11:35:34.006124Z",
     "shell.execute_reply": "2023-12-02T11:35:34.004960Z"
    },
    "papermill": {
     "duration": 0.090787,
     "end_time": "2023-12-02T11:35:34.008262",
     "exception": false,
     "start_time": "2023-12-02T11:35:33.917475",
     "status": "completed"
    },
    "tags": []
   },
   "outputs": [
    {
     "data": {
      "text/plain": [
       "Churn\n",
       "0    5163\n",
       "1    5163\n",
       "Name: count, dtype: int64"
      ]
     },
     "execution_count": 65,
     "metadata": {},
     "output_type": "execute_result"
    }
   ],
   "source": [
    "y_sm.value_counts()"
   ]
  }
 ],
 "metadata": {
  "kaggle": {
   "accelerator": "none",
   "dataSources": [
    {
     "datasetId": 13996,
     "sourceId": 18858,
     "sourceType": "datasetVersion"
    }
   ],
   "dockerImageVersionId": 30587,
   "isGpuEnabled": false,
   "isInternetEnabled": true,
   "language": "python",
   "sourceType": "notebook"
  },
  "kernelspec": {
   "display_name": "Python 3",
   "language": "python",
   "name": "python3"
  },
  "language_info": {
   "codemirror_mode": {
    "name": "ipython",
    "version": 3
   },
   "file_extension": ".py",
   "mimetype": "text/x-python",
   "name": "python",
   "nbconvert_exporter": "python",
   "pygments_lexer": "ipython3",
   "version": "3.10.12"
  },
  "papermill": {
   "default_parameters": {},
   "duration": 62.413632,
   "end_time": "2023-12-02T11:35:36.617781",
   "environment_variables": {},
   "exception": null,
   "input_path": "__notebook__.ipynb",
   "output_path": "__notebook__.ipynb",
   "parameters": {},
   "start_time": "2023-12-02T11:34:34.204149",
   "version": "2.4.0"
  }
 },
 "nbformat": 4,
 "nbformat_minor": 5
}
