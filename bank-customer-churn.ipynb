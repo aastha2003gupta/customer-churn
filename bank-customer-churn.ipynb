{
 "cells": [
  {
   "cell_type": "markdown",
   "id": "ae73b0c3",
   "metadata": {
    "papermill": {
     "duration": 0.009074,
     "end_time": "2023-12-06T05:32:59.929222",
     "exception": false,
     "start_time": "2023-12-06T05:32:59.920148",
     "status": "completed"
    },
    "tags": []
   },
   "source": [
    "# Importing Dependencies"
   ]
  },
  {
   "cell_type": "code",
   "execution_count": 1,
   "id": "62d87821",
   "metadata": {
    "execution": {
     "iopub.execute_input": "2023-12-06T05:32:59.948451Z",
     "iopub.status.busy": "2023-12-06T05:32:59.948021Z",
     "iopub.status.idle": "2023-12-06T05:33:12.551997Z",
     "shell.execute_reply": "2023-12-06T05:33:12.550812Z"
    },
    "papermill": {
     "duration": 12.616913,
     "end_time": "2023-12-06T05:33:12.554778",
     "exception": false,
     "start_time": "2023-12-06T05:32:59.937865",
     "status": "completed"
    },
    "tags": []
   },
   "outputs": [],
   "source": [
    "import numpy as np\n",
    "import pandas as pd\n",
    "import seaborn as sns\n",
    "import matplotlib.pyplot as plt\n",
    "\n",
    "import tensorflow as tf\n",
    "from tensorflow import keras \n"
   ]
  },
  {
   "cell_type": "markdown",
   "id": "abded038",
   "metadata": {
    "papermill": {
     "duration": 0.008276,
     "end_time": "2023-12-06T05:33:12.572317",
     "exception": false,
     "start_time": "2023-12-06T05:33:12.564041",
     "status": "completed"
    },
    "tags": []
   },
   "source": [
    "# Loading data "
   ]
  },
  {
   "cell_type": "code",
   "execution_count": 2,
   "id": "a0c4fca3",
   "metadata": {
    "execution": {
     "iopub.execute_input": "2023-12-06T05:33:12.592045Z",
     "iopub.status.busy": "2023-12-06T05:33:12.591107Z",
     "iopub.status.idle": "2023-12-06T05:33:12.641807Z",
     "shell.execute_reply": "2023-12-06T05:33:12.640240Z"
    },
    "papermill": {
     "duration": 0.063555,
     "end_time": "2023-12-06T05:33:12.644186",
     "exception": false,
     "start_time": "2023-12-06T05:33:12.580631",
     "status": "completed"
    },
    "tags": []
   },
   "outputs": [],
   "source": [
    "df=pd.read_csv('/kaggle/input/bank-customers/Churn_Modelling.csv')"
   ]
  },
  {
   "cell_type": "code",
   "execution_count": 3,
   "id": "acb7e44b",
   "metadata": {
    "execution": {
     "iopub.execute_input": "2023-12-06T05:33:12.664678Z",
     "iopub.status.busy": "2023-12-06T05:33:12.664311Z",
     "iopub.status.idle": "2023-12-06T05:33:12.693940Z",
     "shell.execute_reply": "2023-12-06T05:33:12.692173Z"
    },
    "papermill": {
     "duration": 0.04369,
     "end_time": "2023-12-06T05:33:12.696648",
     "exception": false,
     "start_time": "2023-12-06T05:33:12.652958",
     "status": "completed"
    },
    "tags": []
   },
   "outputs": [
    {
     "data": {
      "text/html": [
       "<div>\n",
       "<style scoped>\n",
       "    .dataframe tbody tr th:only-of-type {\n",
       "        vertical-align: middle;\n",
       "    }\n",
       "\n",
       "    .dataframe tbody tr th {\n",
       "        vertical-align: top;\n",
       "    }\n",
       "\n",
       "    .dataframe thead th {\n",
       "        text-align: right;\n",
       "    }\n",
       "</style>\n",
       "<table border=\"1\" class=\"dataframe\">\n",
       "  <thead>\n",
       "    <tr style=\"text-align: right;\">\n",
       "      <th></th>\n",
       "      <th>RowNumber</th>\n",
       "      <th>CustomerId</th>\n",
       "      <th>Surname</th>\n",
       "      <th>CreditScore</th>\n",
       "      <th>Geography</th>\n",
       "      <th>Gender</th>\n",
       "      <th>Age</th>\n",
       "      <th>Tenure</th>\n",
       "      <th>Balance</th>\n",
       "      <th>NumOfProducts</th>\n",
       "      <th>HasCrCard</th>\n",
       "      <th>IsActiveMember</th>\n",
       "      <th>EstimatedSalary</th>\n",
       "      <th>Exited</th>\n",
       "    </tr>\n",
       "  </thead>\n",
       "  <tbody>\n",
       "    <tr>\n",
       "      <th>0</th>\n",
       "      <td>1</td>\n",
       "      <td>15634602</td>\n",
       "      <td>Hargrave</td>\n",
       "      <td>619</td>\n",
       "      <td>France</td>\n",
       "      <td>Female</td>\n",
       "      <td>42</td>\n",
       "      <td>2</td>\n",
       "      <td>0.00</td>\n",
       "      <td>1</td>\n",
       "      <td>1</td>\n",
       "      <td>1</td>\n",
       "      <td>101348.88</td>\n",
       "      <td>1</td>\n",
       "    </tr>\n",
       "    <tr>\n",
       "      <th>1</th>\n",
       "      <td>2</td>\n",
       "      <td>15647311</td>\n",
       "      <td>Hill</td>\n",
       "      <td>608</td>\n",
       "      <td>Spain</td>\n",
       "      <td>Female</td>\n",
       "      <td>41</td>\n",
       "      <td>1</td>\n",
       "      <td>83807.86</td>\n",
       "      <td>1</td>\n",
       "      <td>0</td>\n",
       "      <td>1</td>\n",
       "      <td>112542.58</td>\n",
       "      <td>0</td>\n",
       "    </tr>\n",
       "    <tr>\n",
       "      <th>2</th>\n",
       "      <td>3</td>\n",
       "      <td>15619304</td>\n",
       "      <td>Onio</td>\n",
       "      <td>502</td>\n",
       "      <td>France</td>\n",
       "      <td>Female</td>\n",
       "      <td>42</td>\n",
       "      <td>8</td>\n",
       "      <td>159660.80</td>\n",
       "      <td>3</td>\n",
       "      <td>1</td>\n",
       "      <td>0</td>\n",
       "      <td>113931.57</td>\n",
       "      <td>1</td>\n",
       "    </tr>\n",
       "    <tr>\n",
       "      <th>3</th>\n",
       "      <td>4</td>\n",
       "      <td>15701354</td>\n",
       "      <td>Boni</td>\n",
       "      <td>699</td>\n",
       "      <td>France</td>\n",
       "      <td>Female</td>\n",
       "      <td>39</td>\n",
       "      <td>1</td>\n",
       "      <td>0.00</td>\n",
       "      <td>2</td>\n",
       "      <td>0</td>\n",
       "      <td>0</td>\n",
       "      <td>93826.63</td>\n",
       "      <td>0</td>\n",
       "    </tr>\n",
       "    <tr>\n",
       "      <th>4</th>\n",
       "      <td>5</td>\n",
       "      <td>15737888</td>\n",
       "      <td>Mitchell</td>\n",
       "      <td>850</td>\n",
       "      <td>Spain</td>\n",
       "      <td>Female</td>\n",
       "      <td>43</td>\n",
       "      <td>2</td>\n",
       "      <td>125510.82</td>\n",
       "      <td>1</td>\n",
       "      <td>1</td>\n",
       "      <td>1</td>\n",
       "      <td>79084.10</td>\n",
       "      <td>0</td>\n",
       "    </tr>\n",
       "  </tbody>\n",
       "</table>\n",
       "</div>"
      ],
      "text/plain": [
       "   RowNumber  CustomerId   Surname  CreditScore Geography  Gender  Age  \\\n",
       "0          1    15634602  Hargrave          619    France  Female   42   \n",
       "1          2    15647311      Hill          608     Spain  Female   41   \n",
       "2          3    15619304      Onio          502    France  Female   42   \n",
       "3          4    15701354      Boni          699    France  Female   39   \n",
       "4          5    15737888  Mitchell          850     Spain  Female   43   \n",
       "\n",
       "   Tenure    Balance  NumOfProducts  HasCrCard  IsActiveMember  \\\n",
       "0       2       0.00              1          1               1   \n",
       "1       1   83807.86              1          0               1   \n",
       "2       8  159660.80              3          1               0   \n",
       "3       1       0.00              2          0               0   \n",
       "4       2  125510.82              1          1               1   \n",
       "\n",
       "   EstimatedSalary  Exited  \n",
       "0        101348.88       1  \n",
       "1        112542.58       0  \n",
       "2        113931.57       1  \n",
       "3         93826.63       0  \n",
       "4         79084.10       0  "
      ]
     },
     "execution_count": 3,
     "metadata": {},
     "output_type": "execute_result"
    }
   ],
   "source": [
    "df.head()"
   ]
  },
  {
   "cell_type": "code",
   "execution_count": 4,
   "id": "f3291c9e",
   "metadata": {
    "execution": {
     "iopub.execute_input": "2023-12-06T05:33:12.717305Z",
     "iopub.status.busy": "2023-12-06T05:33:12.716938Z",
     "iopub.status.idle": "2023-12-06T05:33:12.724189Z",
     "shell.execute_reply": "2023-12-06T05:33:12.722490Z"
    },
    "papermill": {
     "duration": 0.019756,
     "end_time": "2023-12-06T05:33:12.726166",
     "exception": false,
     "start_time": "2023-12-06T05:33:12.706410",
     "status": "completed"
    },
    "tags": []
   },
   "outputs": [
    {
     "data": {
      "text/plain": [
       "(10000, 14)"
      ]
     },
     "execution_count": 4,
     "metadata": {},
     "output_type": "execute_result"
    }
   ],
   "source": [
    "df.shape"
   ]
  },
  {
   "cell_type": "code",
   "execution_count": 5,
   "id": "416ec509",
   "metadata": {
    "execution": {
     "iopub.execute_input": "2023-12-06T05:33:12.745800Z",
     "iopub.status.busy": "2023-12-06T05:33:12.745469Z",
     "iopub.status.idle": "2023-12-06T05:33:12.772010Z",
     "shell.execute_reply": "2023-12-06T05:33:12.770517Z"
    },
    "papermill": {
     "duration": 0.038818,
     "end_time": "2023-12-06T05:33:12.774120",
     "exception": false,
     "start_time": "2023-12-06T05:33:12.735302",
     "status": "completed"
    },
    "tags": []
   },
   "outputs": [
    {
     "name": "stdout",
     "output_type": "stream",
     "text": [
      "<class 'pandas.core.frame.DataFrame'>\n",
      "RangeIndex: 10000 entries, 0 to 9999\n",
      "Data columns (total 14 columns):\n",
      " #   Column           Non-Null Count  Dtype  \n",
      "---  ------           --------------  -----  \n",
      " 0   RowNumber        10000 non-null  int64  \n",
      " 1   CustomerId       10000 non-null  int64  \n",
      " 2   Surname          10000 non-null  object \n",
      " 3   CreditScore      10000 non-null  int64  \n",
      " 4   Geography        10000 non-null  object \n",
      " 5   Gender           10000 non-null  object \n",
      " 6   Age              10000 non-null  int64  \n",
      " 7   Tenure           10000 non-null  int64  \n",
      " 8   Balance          10000 non-null  float64\n",
      " 9   NumOfProducts    10000 non-null  int64  \n",
      " 10  HasCrCard        10000 non-null  int64  \n",
      " 11  IsActiveMember   10000 non-null  int64  \n",
      " 12  EstimatedSalary  10000 non-null  float64\n",
      " 13  Exited           10000 non-null  int64  \n",
      "dtypes: float64(2), int64(9), object(3)\n",
      "memory usage: 1.1+ MB\n"
     ]
    }
   ],
   "source": [
    "df.info()"
   ]
  },
  {
   "cell_type": "code",
   "execution_count": 6,
   "id": "57d34e95",
   "metadata": {
    "execution": {
     "iopub.execute_input": "2023-12-06T05:33:12.795271Z",
     "iopub.status.busy": "2023-12-06T05:33:12.793873Z",
     "iopub.status.idle": "2023-12-06T05:33:12.803704Z",
     "shell.execute_reply": "2023-12-06T05:33:12.803044Z"
    },
    "papermill": {
     "duration": 0.022289,
     "end_time": "2023-12-06T05:33:12.805739",
     "exception": false,
     "start_time": "2023-12-06T05:33:12.783450",
     "status": "completed"
    },
    "tags": []
   },
   "outputs": [
    {
     "data": {
      "text/plain": [
       "RowNumber          0\n",
       "CustomerId         0\n",
       "Surname            0\n",
       "CreditScore        0\n",
       "Geography          0\n",
       "Gender             0\n",
       "Age                0\n",
       "Tenure             0\n",
       "Balance            0\n",
       "NumOfProducts      0\n",
       "HasCrCard          0\n",
       "IsActiveMember     0\n",
       "EstimatedSalary    0\n",
       "Exited             0\n",
       "dtype: int64"
      ]
     },
     "execution_count": 6,
     "metadata": {},
     "output_type": "execute_result"
    }
   ],
   "source": [
    "df.isnull().sum()"
   ]
  },
  {
   "cell_type": "code",
   "execution_count": 7,
   "id": "ff4c547f",
   "metadata": {
    "execution": {
     "iopub.execute_input": "2023-12-06T05:33:12.827900Z",
     "iopub.status.busy": "2023-12-06T05:33:12.826641Z",
     "iopub.status.idle": "2023-12-06T05:33:12.843237Z",
     "shell.execute_reply": "2023-12-06T05:33:12.842039Z"
    },
    "papermill": {
     "duration": 0.029673,
     "end_time": "2023-12-06T05:33:12.845297",
     "exception": false,
     "start_time": "2023-12-06T05:33:12.815624",
     "status": "completed"
    },
    "tags": []
   },
   "outputs": [
    {
     "data": {
      "text/plain": [
       "RowNumber          10000\n",
       "CustomerId         10000\n",
       "Surname             2932\n",
       "CreditScore          460\n",
       "Geography              3\n",
       "Gender                 2\n",
       "Age                   70\n",
       "Tenure                11\n",
       "Balance             6382\n",
       "NumOfProducts          4\n",
       "HasCrCard              2\n",
       "IsActiveMember         2\n",
       "EstimatedSalary     9999\n",
       "Exited                 2\n",
       "dtype: int64"
      ]
     },
     "execution_count": 7,
     "metadata": {},
     "output_type": "execute_result"
    }
   ],
   "source": [
    "df.nunique()"
   ]
  },
  {
   "cell_type": "code",
   "execution_count": 8,
   "id": "44339dfa",
   "metadata": {
    "execution": {
     "iopub.execute_input": "2023-12-06T05:33:12.866369Z",
     "iopub.status.busy": "2023-12-06T05:33:12.865996Z",
     "iopub.status.idle": "2023-12-06T05:33:12.872515Z",
     "shell.execute_reply": "2023-12-06T05:33:12.871378Z"
    },
    "papermill": {
     "duration": 0.019407,
     "end_time": "2023-12-06T05:33:12.874311",
     "exception": false,
     "start_time": "2023-12-06T05:33:12.854904",
     "status": "completed"
    },
    "tags": []
   },
   "outputs": [
    {
     "data": {
      "text/plain": [
       "array(['RowNumber', 'CustomerId', 'Surname', 'CreditScore', 'Geography',\n",
       "       'Gender', 'Age', 'Tenure', 'Balance', 'NumOfProducts', 'HasCrCard',\n",
       "       'IsActiveMember', 'EstimatedSalary', 'Exited'], dtype=object)"
      ]
     },
     "execution_count": 8,
     "metadata": {},
     "output_type": "execute_result"
    }
   ],
   "source": [
    "df.columns.values"
   ]
  },
  {
   "cell_type": "markdown",
   "id": "910bf4f8",
   "metadata": {
    "papermill": {
     "duration": 0.009274,
     "end_time": "2023-12-06T05:33:12.893161",
     "exception": false,
     "start_time": "2023-12-06T05:33:12.883887",
     "status": "completed"
    },
    "tags": []
   },
   "source": [
    "# Data Manipulation"
   ]
  },
  {
   "cell_type": "code",
   "execution_count": 9,
   "id": "87d8059f",
   "metadata": {
    "execution": {
     "iopub.execute_input": "2023-12-06T05:33:12.915125Z",
     "iopub.status.busy": "2023-12-06T05:33:12.913433Z",
     "iopub.status.idle": "2023-12-06T05:33:12.925411Z",
     "shell.execute_reply": "2023-12-06T05:33:12.924291Z"
    },
    "papermill": {
     "duration": 0.025187,
     "end_time": "2023-12-06T05:33:12.927807",
     "exception": false,
     "start_time": "2023-12-06T05:33:12.902620",
     "status": "completed"
    },
    "tags": []
   },
   "outputs": [],
   "source": [
    "df.drop('CustomerId',axis='columns',inplace=True)\n"
   ]
  },
  {
   "cell_type": "code",
   "execution_count": 10,
   "id": "09f0574f",
   "metadata": {
    "execution": {
     "iopub.execute_input": "2023-12-06T05:33:13.001631Z",
     "iopub.status.busy": "2023-12-06T05:33:13.001106Z",
     "iopub.status.idle": "2023-12-06T05:33:13.011246Z",
     "shell.execute_reply": "2023-12-06T05:33:13.009137Z"
    },
    "papermill": {
     "duration": 0.024454,
     "end_time": "2023-12-06T05:33:13.013841",
     "exception": false,
     "start_time": "2023-12-06T05:33:12.989387",
     "status": "completed"
    },
    "tags": []
   },
   "outputs": [],
   "source": [
    "df.drop('RowNumber',axis='columns',inplace=True)"
   ]
  },
  {
   "cell_type": "code",
   "execution_count": 11,
   "id": "68f669e4",
   "metadata": {
    "execution": {
     "iopub.execute_input": "2023-12-06T05:33:13.035112Z",
     "iopub.status.busy": "2023-12-06T05:33:13.034692Z",
     "iopub.status.idle": "2023-12-06T05:33:13.042640Z",
     "shell.execute_reply": "2023-12-06T05:33:13.040936Z"
    },
    "papermill": {
     "duration": 0.020927,
     "end_time": "2023-12-06T05:33:13.044572",
     "exception": false,
     "start_time": "2023-12-06T05:33:13.023645",
     "status": "completed"
    },
    "tags": []
   },
   "outputs": [],
   "source": [
    "df.drop('Surname',axis='columns',inplace=True)"
   ]
  },
  {
   "cell_type": "code",
   "execution_count": 12,
   "id": "c7cdd147",
   "metadata": {
    "execution": {
     "iopub.execute_input": "2023-12-06T05:33:13.066034Z",
     "iopub.status.busy": "2023-12-06T05:33:13.065623Z",
     "iopub.status.idle": "2023-12-06T05:33:13.081660Z",
     "shell.execute_reply": "2023-12-06T05:33:13.080339Z"
    },
    "papermill": {
     "duration": 0.029052,
     "end_time": "2023-12-06T05:33:13.083779",
     "exception": false,
     "start_time": "2023-12-06T05:33:13.054727",
     "status": "completed"
    },
    "tags": []
   },
   "outputs": [
    {
     "data": {
      "text/html": [
       "<div>\n",
       "<style scoped>\n",
       "    .dataframe tbody tr th:only-of-type {\n",
       "        vertical-align: middle;\n",
       "    }\n",
       "\n",
       "    .dataframe tbody tr th {\n",
       "        vertical-align: top;\n",
       "    }\n",
       "\n",
       "    .dataframe thead th {\n",
       "        text-align: right;\n",
       "    }\n",
       "</style>\n",
       "<table border=\"1\" class=\"dataframe\">\n",
       "  <thead>\n",
       "    <tr style=\"text-align: right;\">\n",
       "      <th></th>\n",
       "      <th>CreditScore</th>\n",
       "      <th>Geography</th>\n",
       "      <th>Gender</th>\n",
       "      <th>Age</th>\n",
       "      <th>Tenure</th>\n",
       "      <th>Balance</th>\n",
       "      <th>NumOfProducts</th>\n",
       "      <th>HasCrCard</th>\n",
       "      <th>IsActiveMember</th>\n",
       "      <th>EstimatedSalary</th>\n",
       "      <th>Exited</th>\n",
       "    </tr>\n",
       "  </thead>\n",
       "  <tbody>\n",
       "    <tr>\n",
       "      <th>0</th>\n",
       "      <td>619</td>\n",
       "      <td>France</td>\n",
       "      <td>Female</td>\n",
       "      <td>42</td>\n",
       "      <td>2</td>\n",
       "      <td>0.00</td>\n",
       "      <td>1</td>\n",
       "      <td>1</td>\n",
       "      <td>1</td>\n",
       "      <td>101348.88</td>\n",
       "      <td>1</td>\n",
       "    </tr>\n",
       "    <tr>\n",
       "      <th>1</th>\n",
       "      <td>608</td>\n",
       "      <td>Spain</td>\n",
       "      <td>Female</td>\n",
       "      <td>41</td>\n",
       "      <td>1</td>\n",
       "      <td>83807.86</td>\n",
       "      <td>1</td>\n",
       "      <td>0</td>\n",
       "      <td>1</td>\n",
       "      <td>112542.58</td>\n",
       "      <td>0</td>\n",
       "    </tr>\n",
       "    <tr>\n",
       "      <th>2</th>\n",
       "      <td>502</td>\n",
       "      <td>France</td>\n",
       "      <td>Female</td>\n",
       "      <td>42</td>\n",
       "      <td>8</td>\n",
       "      <td>159660.80</td>\n",
       "      <td>3</td>\n",
       "      <td>1</td>\n",
       "      <td>0</td>\n",
       "      <td>113931.57</td>\n",
       "      <td>1</td>\n",
       "    </tr>\n",
       "    <tr>\n",
       "      <th>3</th>\n",
       "      <td>699</td>\n",
       "      <td>France</td>\n",
       "      <td>Female</td>\n",
       "      <td>39</td>\n",
       "      <td>1</td>\n",
       "      <td>0.00</td>\n",
       "      <td>2</td>\n",
       "      <td>0</td>\n",
       "      <td>0</td>\n",
       "      <td>93826.63</td>\n",
       "      <td>0</td>\n",
       "    </tr>\n",
       "    <tr>\n",
       "      <th>4</th>\n",
       "      <td>850</td>\n",
       "      <td>Spain</td>\n",
       "      <td>Female</td>\n",
       "      <td>43</td>\n",
       "      <td>2</td>\n",
       "      <td>125510.82</td>\n",
       "      <td>1</td>\n",
       "      <td>1</td>\n",
       "      <td>1</td>\n",
       "      <td>79084.10</td>\n",
       "      <td>0</td>\n",
       "    </tr>\n",
       "  </tbody>\n",
       "</table>\n",
       "</div>"
      ],
      "text/plain": [
       "   CreditScore Geography  Gender  Age  Tenure    Balance  NumOfProducts  \\\n",
       "0          619    France  Female   42       2       0.00              1   \n",
       "1          608     Spain  Female   41       1   83807.86              1   \n",
       "2          502    France  Female   42       8  159660.80              3   \n",
       "3          699    France  Female   39       1       0.00              2   \n",
       "4          850     Spain  Female   43       2  125510.82              1   \n",
       "\n",
       "   HasCrCard  IsActiveMember  EstimatedSalary  Exited  \n",
       "0          1               1        101348.88       1  \n",
       "1          0               1        112542.58       0  \n",
       "2          1               0        113931.57       1  \n",
       "3          0               0         93826.63       0  \n",
       "4          1               1         79084.10       0  "
      ]
     },
     "execution_count": 12,
     "metadata": {},
     "output_type": "execute_result"
    }
   ],
   "source": [
    "df.head()"
   ]
  },
  {
   "cell_type": "code",
   "execution_count": 13,
   "id": "f3b41fb3",
   "metadata": {
    "execution": {
     "iopub.execute_input": "2023-12-06T05:33:13.106272Z",
     "iopub.status.busy": "2023-12-06T05:33:13.105810Z",
     "iopub.status.idle": "2023-12-06T05:33:13.113706Z",
     "shell.execute_reply": "2023-12-06T05:33:13.113039Z"
    },
    "papermill": {
     "duration": 0.021113,
     "end_time": "2023-12-06T05:33:13.115368",
     "exception": false,
     "start_time": "2023-12-06T05:33:13.094255",
     "status": "completed"
    },
    "tags": []
   },
   "outputs": [
    {
     "data": {
      "text/plain": [
       "CreditScore          int64\n",
       "Geography           object\n",
       "Gender              object\n",
       "Age                  int64\n",
       "Tenure               int64\n",
       "Balance            float64\n",
       "NumOfProducts        int64\n",
       "HasCrCard            int64\n",
       "IsActiveMember       int64\n",
       "EstimatedSalary    float64\n",
       "Exited               int64\n",
       "dtype: object"
      ]
     },
     "execution_count": 13,
     "metadata": {},
     "output_type": "execute_result"
    }
   ],
   "source": [
    "df.dtypes"
   ]
  },
  {
   "cell_type": "markdown",
   "id": "f5e80b32",
   "metadata": {
    "papermill": {
     "duration": 0.009472,
     "end_time": "2023-12-06T05:33:13.135285",
     "exception": false,
     "start_time": "2023-12-06T05:33:13.125813",
     "status": "completed"
    },
    "tags": []
   },
   "source": [
    "# Data Visualisation"
   ]
  },
  {
   "cell_type": "code",
   "execution_count": 14,
   "id": "06d010af",
   "metadata": {
    "execution": {
     "iopub.execute_input": "2023-12-06T05:33:13.155914Z",
     "iopub.status.busy": "2023-12-06T05:33:13.155587Z",
     "iopub.status.idle": "2023-12-06T05:33:13.187352Z",
     "shell.execute_reply": "2023-12-06T05:33:13.186057Z"
    },
    "papermill": {
     "duration": 0.044971,
     "end_time": "2023-12-06T05:33:13.189675",
     "exception": false,
     "start_time": "2023-12-06T05:33:13.144704",
     "status": "completed"
    },
    "tags": []
   },
   "outputs": [
    {
     "data": {
      "text/html": [
       "<div>\n",
       "<style scoped>\n",
       "    .dataframe tbody tr th:only-of-type {\n",
       "        vertical-align: middle;\n",
       "    }\n",
       "\n",
       "    .dataframe tbody tr th {\n",
       "        vertical-align: top;\n",
       "    }\n",
       "\n",
       "    .dataframe thead th {\n",
       "        text-align: right;\n",
       "    }\n",
       "</style>\n",
       "<table border=\"1\" class=\"dataframe\">\n",
       "  <thead>\n",
       "    <tr style=\"text-align: right;\">\n",
       "      <th></th>\n",
       "      <th>CreditScore</th>\n",
       "      <th>Age</th>\n",
       "      <th>Tenure</th>\n",
       "      <th>Balance</th>\n",
       "      <th>NumOfProducts</th>\n",
       "      <th>EstimatedSalary</th>\n",
       "    </tr>\n",
       "  </thead>\n",
       "  <tbody>\n",
       "    <tr>\n",
       "      <th>count</th>\n",
       "      <td>10000.000000</td>\n",
       "      <td>10000.000000</td>\n",
       "      <td>10000.000000</td>\n",
       "      <td>10000.000000</td>\n",
       "      <td>10000.000000</td>\n",
       "      <td>10000.000000</td>\n",
       "    </tr>\n",
       "    <tr>\n",
       "      <th>mean</th>\n",
       "      <td>650.528800</td>\n",
       "      <td>38.921800</td>\n",
       "      <td>5.012800</td>\n",
       "      <td>76485.889288</td>\n",
       "      <td>1.530200</td>\n",
       "      <td>100090.239881</td>\n",
       "    </tr>\n",
       "    <tr>\n",
       "      <th>std</th>\n",
       "      <td>96.653299</td>\n",
       "      <td>10.487806</td>\n",
       "      <td>2.892174</td>\n",
       "      <td>62397.405202</td>\n",
       "      <td>0.581654</td>\n",
       "      <td>57510.492818</td>\n",
       "    </tr>\n",
       "    <tr>\n",
       "      <th>min</th>\n",
       "      <td>350.000000</td>\n",
       "      <td>18.000000</td>\n",
       "      <td>0.000000</td>\n",
       "      <td>0.000000</td>\n",
       "      <td>1.000000</td>\n",
       "      <td>11.580000</td>\n",
       "    </tr>\n",
       "    <tr>\n",
       "      <th>25%</th>\n",
       "      <td>584.000000</td>\n",
       "      <td>32.000000</td>\n",
       "      <td>3.000000</td>\n",
       "      <td>0.000000</td>\n",
       "      <td>1.000000</td>\n",
       "      <td>51002.110000</td>\n",
       "    </tr>\n",
       "    <tr>\n",
       "      <th>50%</th>\n",
       "      <td>652.000000</td>\n",
       "      <td>37.000000</td>\n",
       "      <td>5.000000</td>\n",
       "      <td>97198.540000</td>\n",
       "      <td>1.000000</td>\n",
       "      <td>100193.915000</td>\n",
       "    </tr>\n",
       "    <tr>\n",
       "      <th>75%</th>\n",
       "      <td>718.000000</td>\n",
       "      <td>44.000000</td>\n",
       "      <td>7.000000</td>\n",
       "      <td>127644.240000</td>\n",
       "      <td>2.000000</td>\n",
       "      <td>149388.247500</td>\n",
       "    </tr>\n",
       "    <tr>\n",
       "      <th>max</th>\n",
       "      <td>850.000000</td>\n",
       "      <td>92.000000</td>\n",
       "      <td>10.000000</td>\n",
       "      <td>250898.090000</td>\n",
       "      <td>4.000000</td>\n",
       "      <td>199992.480000</td>\n",
       "    </tr>\n",
       "  </tbody>\n",
       "</table>\n",
       "</div>"
      ],
      "text/plain": [
       "        CreditScore           Age        Tenure        Balance  NumOfProducts  \\\n",
       "count  10000.000000  10000.000000  10000.000000   10000.000000   10000.000000   \n",
       "mean     650.528800     38.921800      5.012800   76485.889288       1.530200   \n",
       "std       96.653299     10.487806      2.892174   62397.405202       0.581654   \n",
       "min      350.000000     18.000000      0.000000       0.000000       1.000000   \n",
       "25%      584.000000     32.000000      3.000000       0.000000       1.000000   \n",
       "50%      652.000000     37.000000      5.000000   97198.540000       1.000000   \n",
       "75%      718.000000     44.000000      7.000000  127644.240000       2.000000   \n",
       "max      850.000000     92.000000     10.000000  250898.090000       4.000000   \n",
       "\n",
       "       EstimatedSalary  \n",
       "count     10000.000000  \n",
       "mean     100090.239881  \n",
       "std       57510.492818  \n",
       "min          11.580000  \n",
       "25%       51002.110000  \n",
       "50%      100193.915000  \n",
       "75%      149388.247500  \n",
       "max      199992.480000  "
      ]
     },
     "execution_count": 14,
     "metadata": {},
     "output_type": "execute_result"
    }
   ],
   "source": [
    "numeric_features=['CreditScore','Age', 'Tenure', 'Balance', 'NumOfProducts','EstimatedSalary']\n",
    "df[numeric_features].describe()"
   ]
  },
  {
   "cell_type": "markdown",
   "id": "6f3eac80",
   "metadata": {
    "papermill": {
     "duration": 0.010219,
     "end_time": "2023-12-06T05:33:13.210822",
     "exception": false,
     "start_time": "2023-12-06T05:33:13.200603",
     "status": "completed"
    },
    "tags": []
   },
   "source": [
    "Visualising Churn"
   ]
  },
  {
   "cell_type": "code",
   "execution_count": 15,
   "id": "c6d3bd22",
   "metadata": {
    "execution": {
     "iopub.execute_input": "2023-12-06T05:33:13.234211Z",
     "iopub.status.busy": "2023-12-06T05:33:13.233731Z",
     "iopub.status.idle": "2023-12-06T05:33:13.371161Z",
     "shell.execute_reply": "2023-12-06T05:33:13.369845Z"
    },
    "papermill": {
     "duration": 0.152189,
     "end_time": "2023-12-06T05:33:13.373432",
     "exception": false,
     "start_time": "2023-12-06T05:33:13.221243",
     "status": "completed"
    },
    "tags": []
   },
   "outputs": [
    {
     "data": {
      "image/png": "[encoded data removed]",
      "text/plain": [
       "<Figure size 640x480 with 1 Axes>"
      ]
     },
     "metadata": {},
     "output_type": "display_data"
    }
   ],
   "source": [
    "customer_counts = df['Exited'].value_counts()\n",
    "labels = ['Retained', 'Exited']\n",
    "colors = ['lightgreen', 'lightcoral']\n",
    "plt.pie(customer_counts, labels=labels, colors=colors, autopct='%1.1f%%', startangle=90)\n",
    "plt.title('Retention Status of Customers')\n",
    "plt.show()"
   ]
  },
  {
   "cell_type": "markdown",
   "id": "8ad32bd3",
   "metadata": {
    "papermill": {
     "duration": 0.012597,
     "end_time": "2023-12-06T05:33:13.400010",
     "exception": false,
     "start_time": "2023-12-06T05:33:13.387413",
     "status": "completed"
    },
    "tags": []
   },
   "source": [
    "Churn wrt gender and geography"
   ]
  },
  {
   "cell_type": "code",
   "execution_count": 16,
   "id": "065373b4",
   "metadata": {
    "execution": {
     "iopub.execute_input": "2023-12-06T05:33:13.428232Z",
     "iopub.status.busy": "2023-12-06T05:33:13.427490Z",
     "iopub.status.idle": "2023-12-06T05:33:13.646802Z",
     "shell.execute_reply": "2023-12-06T05:33:13.645898Z"
    },
    "papermill": {
     "duration": 0.235505,
     "end_time": "2023-12-06T05:33:13.648795",
     "exception": false,
     "start_time": "2023-12-06T05:33:13.413290",
     "status": "completed"
    },
    "tags": []
   },
   "outputs": [
    {
     "data": {
      "image/png": "[encoded data removed]",
      "text/plain": [
       "<Figure size 1000x600 with 1 Axes>"
      ]
     },
     "metadata": {},
     "output_type": "display_data"
    }
   ],
   "source": [
    "churn_data = df.groupby(['Geography', 'Gender'])['Exited'].sum().reset_index()\n",
    "plt.figure(figsize=(10, 6))\n",
    "sns.barplot(x='Geography', y='Exited', hue='Gender', data=churn_data, palette='viridis')\n",
    "plt.title('Churn Analysis by Geography and Gender')\n",
    "plt.xlabel('Geography')\n",
    "plt.ylabel('Number of Exited Customers')\n",
    "plt.show()"
   ]
  },
  {
   "cell_type": "markdown",
   "id": "1b05ccb5",
   "metadata": {
    "papermill": {
     "duration": 0.010148,
     "end_time": "2023-12-06T05:33:13.670406",
     "exception": false,
     "start_time": "2023-12-06T05:33:13.660258",
     "status": "completed"
    },
    "tags": []
   },
   "source": [
    "Churn wrt tenure"
   ]
  },
  {
   "cell_type": "code",
   "execution_count": 17,
   "id": "e15f85fc",
   "metadata": {
    "execution": {
     "iopub.execute_input": "2023-12-06T05:33:13.693024Z",
     "iopub.status.busy": "2023-12-06T05:33:13.692642Z",
     "iopub.status.idle": "2023-12-06T05:33:13.916005Z",
     "shell.execute_reply": "2023-12-06T05:33:13.914370Z"
    },
    "papermill": {
     "duration": 0.237259,
     "end_time": "2023-12-06T05:33:13.918141",
     "exception": false,
     "start_time": "2023-12-06T05:33:13.680882",
     "status": "completed"
    },
    "tags": []
   },
   "outputs": [
    {
     "data": {
      "image/png": "[encoded data removed]",
      "text/plain": [
       "<Figure size 1000x600 with 1 Axes>"
      ]
     },
     "metadata": {},
     "output_type": "display_data"
    }
   ],
   "source": [
    "churn_data = df.groupby('Tenure')['Exited'].sum().reset_index()\n",
    "plt.figure(figsize=(10, 6))\n",
    "sns.barplot(x='Tenure', y='Exited', data=churn_data, palette='coolwarm')\n",
    "plt.title('Churn Analysis by Tenure')\n",
    "plt.xlabel('Tenure')\n",
    "plt.ylabel('Number of Exited Customers')\n",
    "plt.show()"
   ]
  },
  {
   "cell_type": "markdown",
   "id": "e49e183d",
   "metadata": {
    "papermill": {
     "duration": 0.010565,
     "end_time": "2023-12-06T05:33:13.940521",
     "exception": false,
     "start_time": "2023-12-06T05:33:13.929956",
     "status": "completed"
    },
    "tags": []
   },
   "source": [
    "Churn wrt age "
   ]
  },
  {
   "cell_type": "code",
   "execution_count": 18,
   "id": "e003fc4a",
   "metadata": {
    "execution": {
     "iopub.execute_input": "2023-12-06T05:33:13.963740Z",
     "iopub.status.busy": "2023-12-06T05:33:13.963392Z",
     "iopub.status.idle": "2023-12-06T05:33:14.591352Z",
     "shell.execute_reply": "2023-12-06T05:33:14.590539Z"
    },
    "papermill": {
     "duration": 0.642416,
     "end_time": "2023-12-06T05:33:14.593683",
     "exception": false,
     "start_time": "2023-12-06T05:33:13.951267",
     "status": "completed"
    },
    "tags": []
   },
   "outputs": [
    {
     "data": {
      "image/png": "[encoded data removed]",
      "text/plain": [
       "<Figure size 1800x800 with 1 Axes>"
      ]
     },
     "metadata": {},
     "output_type": "display_data"
    }
   ],
   "source": [
    "churn_data = df.groupby('Age')['Exited'].sum().reset_index()\n",
    "plt.figure(figsize=(18, 8))\n",
    "sns.barplot(x='Age', y='Exited', data=churn_data, palette='muted')\n",
    "plt.title('Churn Analysis by Age')\n",
    "plt.xlabel('Age')\n",
    "plt.ylabel('Number of Exited Customers')\n",
    "plt.show()"
   ]
  },
  {
   "cell_type": "markdown",
   "id": "d381bb84",
   "metadata": {
    "papermill": {
     "duration": 0.010611,
     "end_time": "2023-12-06T05:33:14.616078",
     "exception": false,
     "start_time": "2023-12-06T05:33:14.605467",
     "status": "completed"
    },
    "tags": []
   },
   "source": [
    "# Encoding"
   ]
  },
  {
   "cell_type": "code",
   "execution_count": 19,
   "id": "a145ab02",
   "metadata": {
    "execution": {
     "iopub.execute_input": "2023-12-06T05:33:14.639552Z",
     "iopub.status.busy": "2023-12-06T05:33:14.639082Z",
     "iopub.status.idle": "2023-12-06T05:33:14.653144Z",
     "shell.execute_reply": "2023-12-06T05:33:14.652311Z"
    },
    "papermill": {
     "duration": 0.028228,
     "end_time": "2023-12-06T05:33:14.654924",
     "exception": false,
     "start_time": "2023-12-06T05:33:14.626696",
     "status": "completed"
    },
    "tags": []
   },
   "outputs": [
    {
     "data": {
      "text/html": [
       "<div>\n",
       "<style scoped>\n",
       "    .dataframe tbody tr th:only-of-type {\n",
       "        vertical-align: middle;\n",
       "    }\n",
       "\n",
       "    .dataframe tbody tr th {\n",
       "        vertical-align: top;\n",
       "    }\n",
       "\n",
       "    .dataframe thead th {\n",
       "        text-align: right;\n",
       "    }\n",
       "</style>\n",
       "<table border=\"1\" class=\"dataframe\">\n",
       "  <thead>\n",
       "    <tr style=\"text-align: right;\">\n",
       "      <th></th>\n",
       "      <th>CreditScore</th>\n",
       "      <th>Geography</th>\n",
       "      <th>Gender</th>\n",
       "      <th>Age</th>\n",
       "      <th>Tenure</th>\n",
       "      <th>Balance</th>\n",
       "      <th>NumOfProducts</th>\n",
       "      <th>HasCrCard</th>\n",
       "      <th>IsActiveMember</th>\n",
       "      <th>EstimatedSalary</th>\n",
       "      <th>Exited</th>\n",
       "    </tr>\n",
       "  </thead>\n",
       "  <tbody>\n",
       "    <tr>\n",
       "      <th>0</th>\n",
       "      <td>619</td>\n",
       "      <td>France</td>\n",
       "      <td>Female</td>\n",
       "      <td>42</td>\n",
       "      <td>2</td>\n",
       "      <td>0.00</td>\n",
       "      <td>1</td>\n",
       "      <td>1</td>\n",
       "      <td>1</td>\n",
       "      <td>101348.88</td>\n",
       "      <td>1</td>\n",
       "    </tr>\n",
       "    <tr>\n",
       "      <th>1</th>\n",
       "      <td>608</td>\n",
       "      <td>Spain</td>\n",
       "      <td>Female</td>\n",
       "      <td>41</td>\n",
       "      <td>1</td>\n",
       "      <td>83807.86</td>\n",
       "      <td>1</td>\n",
       "      <td>0</td>\n",
       "      <td>1</td>\n",
       "      <td>112542.58</td>\n",
       "      <td>0</td>\n",
       "    </tr>\n",
       "    <tr>\n",
       "      <th>2</th>\n",
       "      <td>502</td>\n",
       "      <td>France</td>\n",
       "      <td>Female</td>\n",
       "      <td>42</td>\n",
       "      <td>8</td>\n",
       "      <td>159660.80</td>\n",
       "      <td>3</td>\n",
       "      <td>1</td>\n",
       "      <td>0</td>\n",
       "      <td>113931.57</td>\n",
       "      <td>1</td>\n",
       "    </tr>\n",
       "    <tr>\n",
       "      <th>3</th>\n",
       "      <td>699</td>\n",
       "      <td>France</td>\n",
       "      <td>Female</td>\n",
       "      <td>39</td>\n",
       "      <td>1</td>\n",
       "      <td>0.00</td>\n",
       "      <td>2</td>\n",
       "      <td>0</td>\n",
       "      <td>0</td>\n",
       "      <td>93826.63</td>\n",
       "      <td>0</td>\n",
       "    </tr>\n",
       "    <tr>\n",
       "      <th>4</th>\n",
       "      <td>850</td>\n",
       "      <td>Spain</td>\n",
       "      <td>Female</td>\n",
       "      <td>43</td>\n",
       "      <td>2</td>\n",
       "      <td>125510.82</td>\n",
       "      <td>1</td>\n",
       "      <td>1</td>\n",
       "      <td>1</td>\n",
       "      <td>79084.10</td>\n",
       "      <td>0</td>\n",
       "    </tr>\n",
       "  </tbody>\n",
       "</table>\n",
       "</div>"
      ],
      "text/plain": [
       "   CreditScore Geography  Gender  Age  Tenure    Balance  NumOfProducts  \\\n",
       "0          619    France  Female   42       2       0.00              1   \n",
       "1          608     Spain  Female   41       1   83807.86              1   \n",
       "2          502    France  Female   42       8  159660.80              3   \n",
       "3          699    France  Female   39       1       0.00              2   \n",
       "4          850     Spain  Female   43       2  125510.82              1   \n",
       "\n",
       "   HasCrCard  IsActiveMember  EstimatedSalary  Exited  \n",
       "0          1               1        101348.88       1  \n",
       "1          0               1        112542.58       0  \n",
       "2          1               0        113931.57       1  \n",
       "3          0               0         93826.63       0  \n",
       "4          1               1         79084.10       0  "
      ]
     },
     "execution_count": 19,
     "metadata": {},
     "output_type": "execute_result"
    }
   ],
   "source": [
    "df.head()"
   ]
  },
  {
   "cell_type": "code",
   "execution_count": 20,
   "id": "76098763",
   "metadata": {
    "execution": {
     "iopub.execute_input": "2023-12-06T05:33:14.680827Z",
     "iopub.status.busy": "2023-12-06T05:33:14.680180Z",
     "iopub.status.idle": "2023-12-06T05:33:14.844675Z",
     "shell.execute_reply": "2023-12-06T05:33:14.843618Z"
    },
    "papermill": {
     "duration": 0.180301,
     "end_time": "2023-12-06T05:33:14.847093",
     "exception": false,
     "start_time": "2023-12-06T05:33:14.666792",
     "status": "completed"
    },
    "tags": []
   },
   "outputs": [],
   "source": [
    "from sklearn.preprocessing import LabelEncoder\n",
    "label_encoder_geography = LabelEncoder()\n",
    "df['Geography'] = label_encoder_geography.fit_transform(df['Geography'])\n",
    "\n",
    "label_encoder_gender = LabelEncoder()\n",
    "df['Gender'] = label_encoder_gender.fit_transform(df['Gender'])"
   ]
  },
  {
   "cell_type": "code",
   "execution_count": 21,
   "id": "a5ae85ee",
   "metadata": {
    "execution": {
     "iopub.execute_input": "2023-12-06T05:33:14.871643Z",
     "iopub.status.busy": "2023-12-06T05:33:14.871165Z",
     "iopub.status.idle": "2023-12-06T05:33:14.885208Z",
     "shell.execute_reply": "2023-12-06T05:33:14.884195Z"
    },
    "papermill": {
     "duration": 0.028919,
     "end_time": "2023-12-06T05:33:14.887448",
     "exception": false,
     "start_time": "2023-12-06T05:33:14.858529",
     "status": "completed"
    },
    "tags": []
   },
   "outputs": [
    {
     "data": {
      "text/html": [
       "<div>\n",
       "<style scoped>\n",
       "    .dataframe tbody tr th:only-of-type {\n",
       "        vertical-align: middle;\n",
       "    }\n",
       "\n",
       "    .dataframe tbody tr th {\n",
       "        vertical-align: top;\n",
       "    }\n",
       "\n",
       "    .dataframe thead th {\n",
       "        text-align: right;\n",
       "    }\n",
       "</style>\n",
       "<table border=\"1\" class=\"dataframe\">\n",
       "  <thead>\n",
       "    <tr style=\"text-align: right;\">\n",
       "      <th></th>\n",
       "      <th>CreditScore</th>\n",
       "      <th>Geography</th>\n",
       "      <th>Gender</th>\n",
       "      <th>Age</th>\n",
       "      <th>Tenure</th>\n",
       "      <th>Balance</th>\n",
       "      <th>NumOfProducts</th>\n",
       "      <th>HasCrCard</th>\n",
       "      <th>IsActiveMember</th>\n",
       "      <th>EstimatedSalary</th>\n",
       "      <th>Exited</th>\n",
       "    </tr>\n",
       "  </thead>\n",
       "  <tbody>\n",
       "    <tr>\n",
       "      <th>0</th>\n",
       "      <td>619</td>\n",
       "      <td>0</td>\n",
       "      <td>0</td>\n",
       "      <td>42</td>\n",
       "      <td>2</td>\n",
       "      <td>0.00</td>\n",
       "      <td>1</td>\n",
       "      <td>1</td>\n",
       "      <td>1</td>\n",
       "      <td>101348.88</td>\n",
       "      <td>1</td>\n",
       "    </tr>\n",
       "    <tr>\n",
       "      <th>1</th>\n",
       "      <td>608</td>\n",
       "      <td>2</td>\n",
       "      <td>0</td>\n",
       "      <td>41</td>\n",
       "      <td>1</td>\n",
       "      <td>83807.86</td>\n",
       "      <td>1</td>\n",
       "      <td>0</td>\n",
       "      <td>1</td>\n",
       "      <td>112542.58</td>\n",
       "      <td>0</td>\n",
       "    </tr>\n",
       "    <tr>\n",
       "      <th>2</th>\n",
       "      <td>502</td>\n",
       "      <td>0</td>\n",
       "      <td>0</td>\n",
       "      <td>42</td>\n",
       "      <td>8</td>\n",
       "      <td>159660.80</td>\n",
       "      <td>3</td>\n",
       "      <td>1</td>\n",
       "      <td>0</td>\n",
       "      <td>113931.57</td>\n",
       "      <td>1</td>\n",
       "    </tr>\n",
       "    <tr>\n",
       "      <th>3</th>\n",
       "      <td>699</td>\n",
       "      <td>0</td>\n",
       "      <td>0</td>\n",
       "      <td>39</td>\n",
       "      <td>1</td>\n",
       "      <td>0.00</td>\n",
       "      <td>2</td>\n",
       "      <td>0</td>\n",
       "      <td>0</td>\n",
       "      <td>93826.63</td>\n",
       "      <td>0</td>\n",
       "    </tr>\n",
       "    <tr>\n",
       "      <th>4</th>\n",
       "      <td>850</td>\n",
       "      <td>2</td>\n",
       "      <td>0</td>\n",
       "      <td>43</td>\n",
       "      <td>2</td>\n",
       "      <td>125510.82</td>\n",
       "      <td>1</td>\n",
       "      <td>1</td>\n",
       "      <td>1</td>\n",
       "      <td>79084.10</td>\n",
       "      <td>0</td>\n",
       "    </tr>\n",
       "  </tbody>\n",
       "</table>\n",
       "</div>"
      ],
      "text/plain": [
       "   CreditScore  Geography  Gender  Age  Tenure    Balance  NumOfProducts  \\\n",
       "0          619          0       0   42       2       0.00              1   \n",
       "1          608          2       0   41       1   83807.86              1   \n",
       "2          502          0       0   42       8  159660.80              3   \n",
       "3          699          0       0   39       1       0.00              2   \n",
       "4          850          2       0   43       2  125510.82              1   \n",
       "\n",
       "   HasCrCard  IsActiveMember  EstimatedSalary  Exited  \n",
       "0          1               1        101348.88       1  \n",
       "1          0               1        112542.58       0  \n",
       "2          1               0        113931.57       1  \n",
       "3          0               0         93826.63       0  \n",
       "4          1               1         79084.10       0  "
      ]
     },
     "execution_count": 21,
     "metadata": {},
     "output_type": "execute_result"
    }
   ],
   "source": [
    "df.head()"
   ]
  },
  {
   "cell_type": "code",
   "execution_count": 22,
   "id": "05c92b87",
   "metadata": {
    "execution": {
     "iopub.execute_input": "2023-12-06T05:33:14.912615Z",
     "iopub.status.busy": "2023-12-06T05:33:14.912103Z",
     "iopub.status.idle": "2023-12-06T05:33:14.919487Z",
     "shell.execute_reply": "2023-12-06T05:33:14.918452Z"
    },
    "papermill": {
     "duration": 0.021989,
     "end_time": "2023-12-06T05:33:14.921199",
     "exception": false,
     "start_time": "2023-12-06T05:33:14.899210",
     "status": "completed"
    },
    "tags": []
   },
   "outputs": [
    {
     "data": {
      "text/plain": [
       "{'France': 0, 'Germany': 1, 'Spain': 2}"
      ]
     },
     "execution_count": 22,
     "metadata": {},
     "output_type": "execute_result"
    }
   ],
   "source": [
    "geography_mapping = dict(zip(label_encoder_geography.classes_, label_encoder_geography.transform(label_encoder_geography.classes_)))\n",
    "geography_mapping"
   ]
  },
  {
   "cell_type": "code",
   "execution_count": 23,
   "id": "25bf629e",
   "metadata": {
    "execution": {
     "iopub.execute_input": "2023-12-06T05:33:14.947162Z",
     "iopub.status.busy": "2023-12-06T05:33:14.946705Z",
     "iopub.status.idle": "2023-12-06T05:33:14.953671Z",
     "shell.execute_reply": "2023-12-06T05:33:14.952767Z"
    },
    "papermill": {
     "duration": 0.022306,
     "end_time": "2023-12-06T05:33:14.955381",
     "exception": false,
     "start_time": "2023-12-06T05:33:14.933075",
     "status": "completed"
    },
    "tags": []
   },
   "outputs": [
    {
     "data": {
      "text/plain": [
       "{'Female': 0, 'Male': 1}"
      ]
     },
     "execution_count": 23,
     "metadata": {},
     "output_type": "execute_result"
    }
   ],
   "source": [
    "gender_mapping = dict(zip(label_encoder_gender.classes_, label_encoder_gender.transform(label_encoder_gender.classes_)))\n",
    "gender_mapping "
   ]
  },
  {
   "cell_type": "code",
   "execution_count": 24,
   "id": "59570c8e",
   "metadata": {
    "execution": {
     "iopub.execute_input": "2023-12-06T05:33:14.980555Z",
     "iopub.status.busy": "2023-12-06T05:33:14.980089Z",
     "iopub.status.idle": "2023-12-06T05:33:14.996725Z",
     "shell.execute_reply": "2023-12-06T05:33:14.995775Z"
    },
    "papermill": {
     "duration": 0.032188,
     "end_time": "2023-12-06T05:33:14.999067",
     "exception": false,
     "start_time": "2023-12-06T05:33:14.966879",
     "status": "completed"
    },
    "tags": []
   },
   "outputs": [
    {
     "data": {
      "text/html": [
       "<div>\n",
       "<style scoped>\n",
       "    .dataframe tbody tr th:only-of-type {\n",
       "        vertical-align: middle;\n",
       "    }\n",
       "\n",
       "    .dataframe tbody tr th {\n",
       "        vertical-align: top;\n",
       "    }\n",
       "\n",
       "    .dataframe thead th {\n",
       "        text-align: right;\n",
       "    }\n",
       "</style>\n",
       "<table border=\"1\" class=\"dataframe\">\n",
       "  <thead>\n",
       "    <tr style=\"text-align: right;\">\n",
       "      <th></th>\n",
       "      <th>CreditScore</th>\n",
       "      <th>Geography</th>\n",
       "      <th>Gender</th>\n",
       "      <th>Age</th>\n",
       "      <th>Tenure</th>\n",
       "      <th>Balance</th>\n",
       "      <th>NumOfProducts</th>\n",
       "      <th>HasCrCard</th>\n",
       "      <th>IsActiveMember</th>\n",
       "      <th>EstimatedSalary</th>\n",
       "    </tr>\n",
       "  </thead>\n",
       "  <tbody>\n",
       "    <tr>\n",
       "      <th>0</th>\n",
       "      <td>619</td>\n",
       "      <td>0</td>\n",
       "      <td>0</td>\n",
       "      <td>42</td>\n",
       "      <td>2</td>\n",
       "      <td>0.00</td>\n",
       "      <td>1</td>\n",
       "      <td>1</td>\n",
       "      <td>1</td>\n",
       "      <td>101348.88</td>\n",
       "    </tr>\n",
       "    <tr>\n",
       "      <th>1</th>\n",
       "      <td>608</td>\n",
       "      <td>2</td>\n",
       "      <td>0</td>\n",
       "      <td>41</td>\n",
       "      <td>1</td>\n",
       "      <td>83807.86</td>\n",
       "      <td>1</td>\n",
       "      <td>0</td>\n",
       "      <td>1</td>\n",
       "      <td>112542.58</td>\n",
       "    </tr>\n",
       "    <tr>\n",
       "      <th>2</th>\n",
       "      <td>502</td>\n",
       "      <td>0</td>\n",
       "      <td>0</td>\n",
       "      <td>42</td>\n",
       "      <td>8</td>\n",
       "      <td>159660.80</td>\n",
       "      <td>3</td>\n",
       "      <td>1</td>\n",
       "      <td>0</td>\n",
       "      <td>113931.57</td>\n",
       "    </tr>\n",
       "    <tr>\n",
       "      <th>3</th>\n",
       "      <td>699</td>\n",
       "      <td>0</td>\n",
       "      <td>0</td>\n",
       "      <td>39</td>\n",
       "      <td>1</td>\n",
       "      <td>0.00</td>\n",
       "      <td>2</td>\n",
       "      <td>0</td>\n",
       "      <td>0</td>\n",
       "      <td>93826.63</td>\n",
       "    </tr>\n",
       "    <tr>\n",
       "      <th>4</th>\n",
       "      <td>850</td>\n",
       "      <td>2</td>\n",
       "      <td>0</td>\n",
       "      <td>43</td>\n",
       "      <td>2</td>\n",
       "      <td>125510.82</td>\n",
       "      <td>1</td>\n",
       "      <td>1</td>\n",
       "      <td>1</td>\n",
       "      <td>79084.10</td>\n",
       "    </tr>\n",
       "  </tbody>\n",
       "</table>\n",
       "</div>"
      ],
      "text/plain": [
       "   CreditScore  Geography  Gender  Age  Tenure    Balance  NumOfProducts  \\\n",
       "0          619          0       0   42       2       0.00              1   \n",
       "1          608          2       0   41       1   83807.86              1   \n",
       "2          502          0       0   42       8  159660.80              3   \n",
       "3          699          0       0   39       1       0.00              2   \n",
       "4          850          2       0   43       2  125510.82              1   \n",
       "\n",
       "   HasCrCard  IsActiveMember  EstimatedSalary  \n",
       "0          1               1        101348.88  \n",
       "1          0               1        112542.58  \n",
       "2          1               0        113931.57  \n",
       "3          0               0         93826.63  \n",
       "4          1               1         79084.10  "
      ]
     },
     "execution_count": 24,
     "metadata": {},
     "output_type": "execute_result"
    }
   ],
   "source": [
    "x=df.drop('Exited',axis='columns')\n",
    "x.head()"
   ]
  },
  {
   "cell_type": "code",
   "execution_count": 25,
   "id": "47a1f45c",
   "metadata": {
    "execution": {
     "iopub.execute_input": "2023-12-06T05:33:15.026727Z",
     "iopub.status.busy": "2023-12-06T05:33:15.026321Z",
     "iopub.status.idle": "2023-12-06T05:33:15.033366Z",
     "shell.execute_reply": "2023-12-06T05:33:15.032473Z"
    },
    "papermill": {
     "duration": 0.022978,
     "end_time": "2023-12-06T05:33:15.035306",
     "exception": false,
     "start_time": "2023-12-06T05:33:15.012328",
     "status": "completed"
    },
    "tags": []
   },
   "outputs": [
    {
     "data": {
      "text/plain": [
       "0    1\n",
       "1    0\n",
       "2    1\n",
       "3    0\n",
       "4    0\n",
       "Name: Exited, dtype: int64"
      ]
     },
     "execution_count": 25,
     "metadata": {},
     "output_type": "execute_result"
    }
   ],
   "source": [
    "y=df['Exited']\n",
    "y.head()"
   ]
  },
  {
   "cell_type": "markdown",
   "id": "255bae62",
   "metadata": {
    "papermill": {
     "duration": 0.012079,
     "end_time": "2023-12-06T05:33:15.060053",
     "exception": false,
     "start_time": "2023-12-06T05:33:15.047974",
     "status": "completed"
    },
    "tags": []
   },
   "source": [
    "# Scaling Data "
   ]
  },
  {
   "cell_type": "code",
   "execution_count": 26,
   "id": "10c28ffe",
   "metadata": {
    "execution": {
     "iopub.execute_input": "2023-12-06T05:33:15.087636Z",
     "iopub.status.busy": "2023-12-06T05:33:15.087179Z",
     "iopub.status.idle": "2023-12-06T05:33:15.092114Z",
     "shell.execute_reply": "2023-12-06T05:33:15.091073Z"
    },
    "papermill": {
     "duration": 0.021398,
     "end_time": "2023-12-06T05:33:15.094048",
     "exception": false,
     "start_time": "2023-12-06T05:33:15.072650",
     "status": "completed"
    },
    "tags": []
   },
   "outputs": [],
   "source": [
    "from sklearn.preprocessing import MinMaxScaler\n",
    "scaler=MinMaxScaler()"
   ]
  },
  {
   "cell_type": "code",
   "execution_count": 27,
   "id": "5c151180",
   "metadata": {
    "execution": {
     "iopub.execute_input": "2023-12-06T05:33:15.121641Z",
     "iopub.status.busy": "2023-12-06T05:33:15.121172Z",
     "iopub.status.idle": "2023-12-06T05:33:15.133013Z",
     "shell.execute_reply": "2023-12-06T05:33:15.131854Z"
    },
    "papermill": {
     "duration": 0.02875,
     "end_time": "2023-12-06T05:33:15.135373",
     "exception": false,
     "start_time": "2023-12-06T05:33:15.106623",
     "status": "completed"
    },
    "tags": []
   },
   "outputs": [],
   "source": [
    "scaled_columns=['CreditScore', 'Geography', 'Age', 'Tenure', 'Balance', 'NumOfProducts', 'EstimatedSalary']\n",
    "x[scaled_columns]=scaler.fit_transform(x[scaled_columns])"
   ]
  },
  {
   "cell_type": "markdown",
   "id": "0e8b0dd3",
   "metadata": {
    "papermill": {
     "duration": 0.012094,
     "end_time": "2023-12-06T05:33:15.160291",
     "exception": false,
     "start_time": "2023-12-06T05:33:15.148197",
     "status": "completed"
    },
    "tags": []
   },
   "source": [
    "# Train test Split"
   ]
  },
  {
   "cell_type": "code",
   "execution_count": 28,
   "id": "92ca2d88",
   "metadata": {
    "execution": {
     "iopub.execute_input": "2023-12-06T05:33:15.187606Z",
     "iopub.status.busy": "2023-12-06T05:33:15.187104Z",
     "iopub.status.idle": "2023-12-06T05:33:15.300828Z",
     "shell.execute_reply": "2023-12-06T05:33:15.299357Z"
    },
    "papermill": {
     "duration": 0.131044,
     "end_time": "2023-12-06T05:33:15.303921",
     "exception": false,
     "start_time": "2023-12-06T05:33:15.172877",
     "status": "completed"
    },
    "tags": []
   },
   "outputs": [],
   "source": [
    "from sklearn.model_selection import train_test_split\n",
    "x_train,x_test, y_train, y_test = train_test_split(x, y, test_size = 0.2, random_state = 0)"
   ]
  },
  {
   "cell_type": "code",
   "execution_count": 29,
   "id": "6b4d573a",
   "metadata": {
    "execution": {
     "iopub.execute_input": "2023-12-06T05:33:15.331551Z",
     "iopub.status.busy": "2023-12-06T05:33:15.330671Z",
     "iopub.status.idle": "2023-12-06T05:33:15.337961Z",
     "shell.execute_reply": "2023-12-06T05:33:15.336773Z"
    },
    "papermill": {
     "duration": 0.023799,
     "end_time": "2023-12-06T05:33:15.341006",
     "exception": false,
     "start_time": "2023-12-06T05:33:15.317207",
     "status": "completed"
    },
    "tags": []
   },
   "outputs": [
    {
     "data": {
      "text/plain": [
       "((8000, 10), (2000, 10), (8000,), (2000,))"
      ]
     },
     "execution_count": 29,
     "metadata": {},
     "output_type": "execute_result"
    }
   ],
   "source": [
    "x_train.shape,x_test.shape,y_train.shape,y_test.shape"
   ]
  },
  {
   "cell_type": "code",
   "execution_count": 30,
   "id": "f863a3da",
   "metadata": {
    "execution": {
     "iopub.execute_input": "2023-12-06T05:33:15.369664Z",
     "iopub.status.busy": "2023-12-06T05:33:15.369259Z",
     "iopub.status.idle": "2023-12-06T05:33:15.382907Z",
     "shell.execute_reply": "2023-12-06T05:33:15.382243Z"
    },
    "papermill": {
     "duration": 0.03039,
     "end_time": "2023-12-06T05:33:15.385016",
     "exception": false,
     "start_time": "2023-12-06T05:33:15.354626",
     "status": "completed"
    },
    "tags": []
   },
   "outputs": [
    {
     "data": {
      "text/html": [
       "<div>\n",
       "<style scoped>\n",
       "    .dataframe tbody tr th:only-of-type {\n",
       "        vertical-align: middle;\n",
       "    }\n",
       "\n",
       "    .dataframe tbody tr th {\n",
       "        vertical-align: top;\n",
       "    }\n",
       "\n",
       "    .dataframe thead th {\n",
       "        text-align: right;\n",
       "    }\n",
       "</style>\n",
       "<table border=\"1\" class=\"dataframe\">\n",
       "  <thead>\n",
       "    <tr style=\"text-align: right;\">\n",
       "      <th></th>\n",
       "      <th>CreditScore</th>\n",
       "      <th>Geography</th>\n",
       "      <th>Gender</th>\n",
       "      <th>Age</th>\n",
       "      <th>Tenure</th>\n",
       "      <th>Balance</th>\n",
       "      <th>NumOfProducts</th>\n",
       "      <th>HasCrCard</th>\n",
       "      <th>IsActiveMember</th>\n",
       "      <th>EstimatedSalary</th>\n",
       "    </tr>\n",
       "  </thead>\n",
       "  <tbody>\n",
       "    <tr>\n",
       "      <th>7389</th>\n",
       "      <td>0.634</td>\n",
       "      <td>1.0</td>\n",
       "      <td>0</td>\n",
       "      <td>0.216216</td>\n",
       "      <td>0.5</td>\n",
       "      <td>0.000000</td>\n",
       "      <td>0.333333</td>\n",
       "      <td>1</td>\n",
       "      <td>0</td>\n",
       "      <td>0.819174</td>\n",
       "    </tr>\n",
       "    <tr>\n",
       "      <th>9275</th>\n",
       "      <td>0.154</td>\n",
       "      <td>0.5</td>\n",
       "      <td>1</td>\n",
       "      <td>0.324324</td>\n",
       "      <td>0.1</td>\n",
       "      <td>0.301642</td>\n",
       "      <td>0.000000</td>\n",
       "      <td>1</td>\n",
       "      <td>1</td>\n",
       "      <td>0.285459</td>\n",
       "    </tr>\n",
       "    <tr>\n",
       "      <th>2995</th>\n",
       "      <td>0.370</td>\n",
       "      <td>0.0</td>\n",
       "      <td>0</td>\n",
       "      <td>0.148649</td>\n",
       "      <td>0.2</td>\n",
       "      <td>0.447860</td>\n",
       "      <td>0.000000</td>\n",
       "      <td>1</td>\n",
       "      <td>0</td>\n",
       "      <td>0.928185</td>\n",
       "    </tr>\n",
       "    <tr>\n",
       "      <th>5316</th>\n",
       "      <td>0.608</td>\n",
       "      <td>1.0</td>\n",
       "      <td>1</td>\n",
       "      <td>0.297297</td>\n",
       "      <td>0.5</td>\n",
       "      <td>0.421221</td>\n",
       "      <td>0.000000</td>\n",
       "      <td>1</td>\n",
       "      <td>0</td>\n",
       "      <td>0.868110</td>\n",
       "    </tr>\n",
       "    <tr>\n",
       "      <th>356</th>\n",
       "      <td>1.000</td>\n",
       "      <td>1.0</td>\n",
       "      <td>0</td>\n",
       "      <td>0.527027</td>\n",
       "      <td>0.8</td>\n",
       "      <td>0.505290</td>\n",
       "      <td>0.333333</td>\n",
       "      <td>1</td>\n",
       "      <td>1</td>\n",
       "      <td>0.661498</td>\n",
       "    </tr>\n",
       "  </tbody>\n",
       "</table>\n",
       "</div>"
      ],
      "text/plain": [
       "      CreditScore  Geography  Gender       Age  Tenure   Balance  \\\n",
       "7389        0.634        1.0       0  0.216216     0.5  0.000000   \n",
       "9275        0.154        0.5       1  0.324324     0.1  0.301642   \n",
       "2995        0.370        0.0       0  0.148649     0.2  0.447860   \n",
       "5316        0.608        1.0       1  0.297297     0.5  0.421221   \n",
       "356         1.000        1.0       0  0.527027     0.8  0.505290   \n",
       "\n",
       "      NumOfProducts  HasCrCard  IsActiveMember  EstimatedSalary  \n",
       "7389       0.333333          1               0         0.819174  \n",
       "9275       0.000000          1               1         0.285459  \n",
       "2995       0.000000          1               0         0.928185  \n",
       "5316       0.000000          1               0         0.868110  \n",
       "356        0.333333          1               1         0.661498  "
      ]
     },
     "execution_count": 30,
     "metadata": {},
     "output_type": "execute_result"
    }
   ],
   "source": [
    "x_train.head()"
   ]
  },
  {
   "cell_type": "markdown",
   "id": "c7c893f1",
   "metadata": {
    "papermill": {
     "duration": 0.013238,
     "end_time": "2023-12-06T05:33:15.412807",
     "exception": false,
     "start_time": "2023-12-06T05:33:15.399569",
     "status": "completed"
    },
    "tags": []
   },
   "source": [
    "# Model Building "
   ]
  },
  {
   "cell_type": "code",
   "execution_count": 31,
   "id": "93ec6651",
   "metadata": {
    "execution": {
     "iopub.execute_input": "2023-12-06T05:33:15.441175Z",
     "iopub.status.busy": "2023-12-06T05:33:15.440815Z",
     "iopub.status.idle": "2023-12-06T05:33:54.708303Z",
     "shell.execute_reply": "2023-12-06T05:33:54.706888Z"
    },
    "papermill": {
     "duration": 39.284218,
     "end_time": "2023-12-06T05:33:54.710635",
     "exception": false,
     "start_time": "2023-12-06T05:33:15.426417",
     "status": "completed"
    },
    "tags": []
   },
   "outputs": [
    {
     "name": "stdout",
     "output_type": "stream",
     "text": [
      "Epoch 1/100\n",
      "250/250 [==============================] - 1s 2ms/step - loss: 0.5720 - accuracy: 0.7063\n",
      "Epoch 2/100\n",
      "250/250 [==============================] - 0s 1ms/step - loss: 0.4860 - accuracy: 0.7960\n",
      "Epoch 3/100\n",
      "250/250 [==============================] - 0s 2ms/step - loss: 0.4710 - accuracy: 0.7968\n",
      "Epoch 4/100\n",
      "250/250 [==============================] - 0s 2ms/step - loss: 0.4589 - accuracy: 0.8044\n",
      "Epoch 5/100\n",
      "250/250 [==============================] - 0s 1ms/step - loss: 0.4498 - accuracy: 0.8058\n",
      "Epoch 6/100\n",
      "250/250 [==============================] - 0s 2ms/step - loss: 0.4444 - accuracy: 0.8095\n",
      "Epoch 7/100\n",
      "250/250 [==============================] - 0s 1ms/step - loss: 0.4401 - accuracy: 0.8090\n",
      "Epoch 8/100\n",
      "250/250 [==============================] - 0s 2ms/step - loss: 0.4360 - accuracy: 0.8112\n",
      "Epoch 9/100\n",
      "250/250 [==============================] - 0s 2ms/step - loss: 0.4324 - accuracy: 0.8126\n",
      "Epoch 10/100\n",
      "250/250 [==============================] - 0s 2ms/step - loss: 0.4292 - accuracy: 0.8123\n",
      "Epoch 11/100\n",
      "250/250 [==============================] - 0s 1ms/step - loss: 0.4256 - accuracy: 0.8159\n",
      "Epoch 12/100\n",
      "250/250 [==============================] - 0s 2ms/step - loss: 0.4224 - accuracy: 0.8167\n",
      "Epoch 13/100\n",
      "250/250 [==============================] - 0s 2ms/step - loss: 0.4189 - accuracy: 0.8166\n",
      "Epoch 14/100\n",
      "250/250 [==============================] - 0s 2ms/step - loss: 0.4134 - accuracy: 0.8217\n",
      "Epoch 15/100\n",
      "250/250 [==============================] - 0s 2ms/step - loss: 0.4083 - accuracy: 0.8242\n",
      "Epoch 16/100\n",
      "250/250 [==============================] - 0s 2ms/step - loss: 0.4039 - accuracy: 0.8255\n",
      "Epoch 17/100\n",
      "250/250 [==============================] - 0s 2ms/step - loss: 0.3997 - accuracy: 0.8284\n",
      "Epoch 18/100\n",
      "250/250 [==============================] - 0s 2ms/step - loss: 0.3963 - accuracy: 0.8314\n",
      "Epoch 19/100\n",
      "250/250 [==============================] - 0s 2ms/step - loss: 0.3927 - accuracy: 0.8322\n",
      "Epoch 20/100\n",
      "250/250 [==============================] - 0s 1ms/step - loss: 0.3896 - accuracy: 0.8331\n",
      "Epoch 21/100\n",
      "250/250 [==============================] - 0s 1ms/step - loss: 0.3868 - accuracy: 0.8342\n",
      "Epoch 22/100\n",
      "250/250 [==============================] - 0s 1ms/step - loss: 0.3840 - accuracy: 0.8369\n",
      "Epoch 23/100\n",
      "250/250 [==============================] - 0s 1ms/step - loss: 0.3821 - accuracy: 0.8365\n",
      "Epoch 24/100\n",
      "250/250 [==============================] - 0s 2ms/step - loss: 0.3797 - accuracy: 0.8390\n",
      "Epoch 25/100\n",
      "250/250 [==============================] - 0s 1ms/step - loss: 0.3788 - accuracy: 0.8389\n",
      "Epoch 26/100\n",
      "250/250 [==============================] - 0s 2ms/step - loss: 0.3765 - accuracy: 0.8397\n",
      "Epoch 27/100\n",
      "250/250 [==============================] - 0s 2ms/step - loss: 0.3751 - accuracy: 0.8428\n",
      "Epoch 28/100\n",
      "250/250 [==============================] - 0s 1ms/step - loss: 0.3736 - accuracy: 0.8421\n",
      "Epoch 29/100\n",
      "250/250 [==============================] - 0s 2ms/step - loss: 0.3736 - accuracy: 0.8424\n",
      "Epoch 30/100\n",
      "250/250 [==============================] - 0s 1ms/step - loss: 0.3718 - accuracy: 0.8434\n",
      "Epoch 31/100\n",
      "250/250 [==============================] - 0s 2ms/step - loss: 0.3712 - accuracy: 0.8439\n",
      "Epoch 32/100\n",
      "250/250 [==============================] - 0s 1ms/step - loss: 0.3695 - accuracy: 0.8453\n",
      "Epoch 33/100\n",
      "250/250 [==============================] - 0s 1ms/step - loss: 0.3685 - accuracy: 0.8456\n",
      "Epoch 34/100\n",
      "250/250 [==============================] - 0s 2ms/step - loss: 0.3676 - accuracy: 0.8444\n",
      "Epoch 35/100\n",
      "250/250 [==============================] - 0s 2ms/step - loss: 0.3671 - accuracy: 0.8468\n",
      "Epoch 36/100\n",
      "250/250 [==============================] - 0s 1ms/step - loss: 0.3668 - accuracy: 0.8472\n",
      "Epoch 37/100\n",
      "250/250 [==============================] - 0s 2ms/step - loss: 0.3658 - accuracy: 0.8469\n",
      "Epoch 38/100\n",
      "250/250 [==============================] - 0s 1ms/step - loss: 0.3650 - accuracy: 0.8481\n",
      "Epoch 39/100\n",
      "250/250 [==============================] - 0s 2ms/step - loss: 0.3648 - accuracy: 0.8482\n",
      "Epoch 40/100\n",
      "250/250 [==============================] - 0s 2ms/step - loss: 0.3634 - accuracy: 0.8495\n",
      "Epoch 41/100\n",
      "250/250 [==============================] - 0s 1ms/step - loss: 0.3635 - accuracy: 0.8497\n",
      "Epoch 42/100\n",
      "250/250 [==============================] - 0s 2ms/step - loss: 0.3628 - accuracy: 0.8505\n",
      "Epoch 43/100\n",
      "250/250 [==============================] - 0s 2ms/step - loss: 0.3619 - accuracy: 0.8486\n",
      "Epoch 44/100\n",
      "250/250 [==============================] - 0s 1ms/step - loss: 0.3617 - accuracy: 0.8490\n",
      "Epoch 45/100\n",
      "250/250 [==============================] - 0s 2ms/step - loss: 0.3617 - accuracy: 0.8491\n",
      "Epoch 46/100\n",
      "250/250 [==============================] - 0s 2ms/step - loss: 0.3610 - accuracy: 0.8503\n",
      "Epoch 47/100\n",
      "250/250 [==============================] - 0s 2ms/step - loss: 0.3602 - accuracy: 0.8495\n",
      "Epoch 48/100\n",
      "250/250 [==============================] - 0s 2ms/step - loss: 0.3608 - accuracy: 0.8494\n",
      "Epoch 49/100\n",
      "250/250 [==============================] - 0s 1ms/step - loss: 0.3603 - accuracy: 0.8506\n",
      "Epoch 50/100\n",
      "250/250 [==============================] - 0s 2ms/step - loss: 0.3600 - accuracy: 0.8506\n",
      "Epoch 51/100\n",
      "250/250 [==============================] - 0s 2ms/step - loss: 0.3590 - accuracy: 0.8494\n",
      "Epoch 52/100\n",
      "250/250 [==============================] - 0s 2ms/step - loss: 0.3589 - accuracy: 0.8501\n",
      "Epoch 53/100\n",
      "250/250 [==============================] - 0s 2ms/step - loss: 0.3581 - accuracy: 0.8509\n",
      "Epoch 54/100\n",
      "250/250 [==============================] - 0s 2ms/step - loss: 0.3581 - accuracy: 0.8506\n",
      "Epoch 55/100\n",
      "250/250 [==============================] - 0s 2ms/step - loss: 0.3580 - accuracy: 0.8511\n",
      "Epoch 56/100\n",
      "250/250 [==============================] - 0s 2ms/step - loss: 0.3578 - accuracy: 0.8533\n",
      "Epoch 57/100\n",
      "250/250 [==============================] - 0s 2ms/step - loss: 0.3576 - accuracy: 0.8508\n",
      "Epoch 58/100\n",
      "250/250 [==============================] - 0s 2ms/step - loss: 0.3571 - accuracy: 0.8522\n",
      "Epoch 59/100\n",
      "250/250 [==============================] - 0s 2ms/step - loss: 0.3567 - accuracy: 0.8537\n",
      "Epoch 60/100\n",
      "250/250 [==============================] - 0s 1ms/step - loss: 0.3566 - accuracy: 0.8526\n",
      "Epoch 61/100\n",
      "250/250 [==============================] - 0s 1ms/step - loss: 0.3564 - accuracy: 0.8533\n",
      "Epoch 62/100\n",
      "250/250 [==============================] - 0s 1ms/step - loss: 0.3558 - accuracy: 0.8533\n",
      "Epoch 63/100\n",
      "250/250 [==============================] - 0s 2ms/step - loss: 0.3565 - accuracy: 0.8530\n",
      "Epoch 64/100\n",
      "250/250 [==============================] - 0s 2ms/step - loss: 0.3558 - accuracy: 0.8539\n",
      "Epoch 65/100\n",
      "250/250 [==============================] - 0s 2ms/step - loss: 0.3551 - accuracy: 0.8535\n",
      "Epoch 66/100\n",
      "250/250 [==============================] - 0s 1ms/step - loss: 0.3546 - accuracy: 0.8526\n",
      "Epoch 67/100\n",
      "250/250 [==============================] - 0s 1ms/step - loss: 0.3549 - accuracy: 0.8525\n",
      "Epoch 68/100\n",
      "250/250 [==============================] - 0s 2ms/step - loss: 0.3547 - accuracy: 0.8543\n",
      "Epoch 69/100\n",
      "250/250 [==============================] - 0s 2ms/step - loss: 0.3544 - accuracy: 0.8551\n",
      "Epoch 70/100\n",
      "250/250 [==============================] - 0s 1ms/step - loss: 0.3542 - accuracy: 0.8549\n",
      "Epoch 71/100\n",
      "250/250 [==============================] - 0s 1ms/step - loss: 0.3538 - accuracy: 0.8558\n",
      "Epoch 72/100\n",
      "250/250 [==============================] - 0s 2ms/step - loss: 0.3539 - accuracy: 0.8561\n",
      "Epoch 73/100\n",
      "250/250 [==============================] - 0s 1ms/step - loss: 0.3539 - accuracy: 0.8549\n",
      "Epoch 74/100\n",
      "250/250 [==============================] - 0s 1ms/step - loss: 0.3533 - accuracy: 0.8544\n",
      "Epoch 75/100\n",
      "250/250 [==============================] - 0s 1ms/step - loss: 0.3533 - accuracy: 0.8544\n",
      "Epoch 76/100\n",
      "250/250 [==============================] - 0s 2ms/step - loss: 0.3527 - accuracy: 0.8543\n",
      "Epoch 77/100\n",
      "250/250 [==============================] - 0s 1ms/step - loss: 0.3532 - accuracy: 0.8556\n",
      "Epoch 78/100\n",
      "250/250 [==============================] - 0s 1ms/step - loss: 0.3535 - accuracy: 0.8550\n",
      "Epoch 79/100\n",
      "250/250 [==============================] - 0s 2ms/step - loss: 0.3523 - accuracy: 0.8564\n",
      "Epoch 80/100\n",
      "250/250 [==============================] - 0s 2ms/step - loss: 0.3524 - accuracy: 0.8555\n",
      "Epoch 81/100\n",
      "250/250 [==============================] - 0s 1ms/step - loss: 0.3522 - accuracy: 0.8559\n",
      "Epoch 82/100\n",
      "250/250 [==============================] - 0s 2ms/step - loss: 0.3517 - accuracy: 0.8570\n",
      "Epoch 83/100\n",
      "250/250 [==============================] - 0s 1ms/step - loss: 0.3526 - accuracy: 0.8566\n",
      "Epoch 84/100\n",
      "250/250 [==============================] - 0s 2ms/step - loss: 0.3518 - accuracy: 0.8564\n",
      "Epoch 85/100\n",
      "250/250 [==============================] - 0s 1ms/step - loss: 0.3519 - accuracy: 0.8572\n",
      "Epoch 86/100\n",
      "250/250 [==============================] - 0s 1ms/step - loss: 0.3516 - accuracy: 0.8568\n",
      "Epoch 87/100\n",
      "250/250 [==============================] - 0s 2ms/step - loss: 0.3519 - accuracy: 0.8579\n",
      "Epoch 88/100\n",
      "250/250 [==============================] - 0s 1ms/step - loss: 0.3513 - accuracy: 0.8566\n",
      "Epoch 89/100\n",
      "250/250 [==============================] - 0s 1ms/step - loss: 0.3510 - accuracy: 0.8558\n",
      "Epoch 90/100\n",
      "250/250 [==============================] - 0s 1ms/step - loss: 0.3511 - accuracy: 0.8558\n",
      "Epoch 91/100\n",
      "250/250 [==============================] - 0s 1ms/step - loss: 0.3507 - accuracy: 0.8572\n",
      "Epoch 92/100\n",
      "250/250 [==============================] - 0s 2ms/step - loss: 0.3509 - accuracy: 0.8570\n",
      "Epoch 93/100\n",
      "250/250 [==============================] - 0s 1ms/step - loss: 0.3509 - accuracy: 0.8550\n",
      "Epoch 94/100\n",
      "250/250 [==============================] - 0s 1ms/step - loss: 0.3505 - accuracy: 0.8574\n",
      "Epoch 95/100\n",
      "250/250 [==============================] - 0s 1ms/step - loss: 0.3500 - accuracy: 0.8569\n",
      "Epoch 96/100\n",
      "250/250 [==============================] - 0s 1ms/step - loss: 0.3499 - accuracy: 0.8579\n",
      "Epoch 97/100\n",
      "250/250 [==============================] - 0s 1ms/step - loss: 0.3495 - accuracy: 0.8590\n",
      "Epoch 98/100\n",
      "250/250 [==============================] - 0s 2ms/step - loss: 0.3495 - accuracy: 0.8561\n",
      "Epoch 99/100\n",
      "250/250 [==============================] - 0s 2ms/step - loss: 0.3506 - accuracy: 0.8580\n",
      "Epoch 100/100\n",
      "250/250 [==============================] - 0s 2ms/step - loss: 0.3490 - accuracy: 0.8577\n"
     ]
    },
    {
     "data": {
      "text/plain": [
       "<keras.src.callbacks.History at 0x7e361862cf70>"
      ]
     },
     "execution_count": 31,
     "metadata": {},
     "output_type": "execute_result"
    }
   ],
   "source": [
    "model=keras.Sequential([\n",
    "    keras.layers.Dense(20,input_shape=(10,),activation='relu'),\n",
    "    keras.layers.Dense(1,activation='sigmoid'),\n",
    "])\n",
    "model.compile(optimizer='adam',loss='binary_crossentropy',metrics=['accuracy'])\n",
    "\n",
    "model.fit(x_train,y_train,epochs=100)"
   ]
  },
  {
   "cell_type": "code",
   "execution_count": 32,
   "id": "9da124af",
   "metadata": {
    "execution": {
     "iopub.execute_input": "2023-12-06T05:33:54.856950Z",
     "iopub.status.busy": "2023-12-06T05:33:54.855801Z",
     "iopub.status.idle": "2023-12-06T05:33:55.122947Z",
     "shell.execute_reply": "2023-12-06T05:33:55.121342Z"
    },
    "papermill": {
     "duration": 0.343342,
     "end_time": "2023-12-06T05:33:55.125354",
     "exception": false,
     "start_time": "2023-12-06T05:33:54.782012",
     "status": "completed"
    },
    "tags": []
   },
   "outputs": [
    {
     "name": "stdout",
     "output_type": "stream",
     "text": [
      "63/63 [==============================] - 0s 1ms/step - loss: 0.3512 - accuracy: 0.8560\n"
     ]
    },
    {
     "data": {
      "text/plain": [
       "[0.35123327374458313, 0.8560000061988831]"
      ]
     },
     "execution_count": 32,
     "metadata": {},
     "output_type": "execute_result"
    }
   ],
   "source": [
    "model.evaluate(x_test,y_test)"
   ]
  },
  {
   "cell_type": "markdown",
   "id": "a2749c1f",
   "metadata": {
    "papermill": {
     "duration": 0.071167,
     "end_time": "2023-12-06T05:33:55.268755",
     "exception": false,
     "start_time": "2023-12-06T05:33:55.197588",
     "status": "completed"
    },
    "tags": []
   },
   "source": [
    "# Prediction"
   ]
  },
  {
   "cell_type": "code",
   "execution_count": 33,
   "id": "a5e60584",
   "metadata": {
    "execution": {
     "iopub.execute_input": "2023-12-06T05:33:55.416259Z",
     "iopub.status.busy": "2023-12-06T05:33:55.415291Z",
     "iopub.status.idle": "2023-12-06T05:33:55.624901Z",
     "shell.execute_reply": "2023-12-06T05:33:55.624048Z"
    },
    "papermill": {
     "duration": 0.285705,
     "end_time": "2023-12-06T05:33:55.627307",
     "exception": false,
     "start_time": "2023-12-06T05:33:55.341602",
     "status": "completed"
    },
    "tags": []
   },
   "outputs": [
    {
     "name": "stdout",
     "output_type": "stream",
     "text": [
      "63/63 [==============================] - 0s 1ms/step\n"
     ]
    }
   ],
   "source": [
    "y_pred=model.predict(x_test)"
   ]
  },
  {
   "cell_type": "code",
   "execution_count": 34,
   "id": "04c20440",
   "metadata": {
    "execution": {
     "iopub.execute_input": "2023-12-06T05:33:55.765301Z",
     "iopub.status.busy": "2023-12-06T05:33:55.763863Z",
     "iopub.status.idle": "2023-12-06T05:33:55.772885Z",
     "shell.execute_reply": "2023-12-06T05:33:55.772069Z"
    },
    "papermill": {
     "duration": 0.079158,
     "end_time": "2023-12-06T05:33:55.774501",
     "exception": false,
     "start_time": "2023-12-06T05:33:55.695343",
     "status": "completed"
    },
    "tags": []
   },
   "outputs": [],
   "source": [
    "y_prediction=[]\n",
    "for pred in y_pred:\n",
    "    if pred>0.5:\n",
    "        y_prediction.append(1)\n",
    "    else:\n",
    "        y_prediction.append(0)"
   ]
  },
  {
   "cell_type": "code",
   "execution_count": 35,
   "id": "5e95621d",
   "metadata": {
    "execution": {
     "iopub.execute_input": "2023-12-06T05:33:55.912119Z",
     "iopub.status.busy": "2023-12-06T05:33:55.910845Z",
     "iopub.status.idle": "2023-12-06T05:33:55.918602Z",
     "shell.execute_reply": "2023-12-06T05:33:55.917659Z"
    },
    "papermill": {
     "duration": 0.078228,
     "end_time": "2023-12-06T05:33:55.920589",
     "exception": false,
     "start_time": "2023-12-06T05:33:55.842361",
     "status": "completed"
    },
    "tags": []
   },
   "outputs": [
    {
     "data": {
      "text/plain": [
       "[0, 0, 0, 0, 0]"
      ]
     },
     "execution_count": 35,
     "metadata": {},
     "output_type": "execute_result"
    }
   ],
   "source": [
    "y_prediction[:5]"
   ]
  },
  {
   "cell_type": "markdown",
   "id": "9b27142c",
   "metadata": {
    "papermill": {
     "duration": 0.071231,
     "end_time": "2023-12-06T05:33:56.064329",
     "exception": false,
     "start_time": "2023-12-06T05:33:55.993098",
     "status": "completed"
    },
    "tags": []
   },
   "source": [
    "# Classification report"
   ]
  },
  {
   "cell_type": "code",
   "execution_count": 36,
   "id": "77218ab2",
   "metadata": {
    "execution": {
     "iopub.execute_input": "2023-12-06T05:33:56.207179Z",
     "iopub.status.busy": "2023-12-06T05:33:56.206065Z",
     "iopub.status.idle": "2023-12-06T05:33:56.219825Z",
     "shell.execute_reply": "2023-12-06T05:33:56.219045Z"
    },
    "papermill": {
     "duration": 0.08728,
     "end_time": "2023-12-06T05:33:56.221664",
     "exception": false,
     "start_time": "2023-12-06T05:33:56.134384",
     "status": "completed"
    },
    "tags": []
   },
   "outputs": [
    {
     "name": "stdout",
     "output_type": "stream",
     "text": [
      "              precision    recall  f1-score   support\n",
      "\n",
      "           0       0.88      0.95      0.91      1595\n",
      "           1       0.72      0.48      0.57       405\n",
      "\n",
      "    accuracy                           0.86      2000\n",
      "   macro avg       0.80      0.72      0.74      2000\n",
      "weighted avg       0.85      0.86      0.84      2000\n",
      "\n"
     ]
    }
   ],
   "source": [
    "from sklearn.metrics import confusion_matrix,classification_report\n",
    "\n",
    "print(classification_report(y_test,y_prediction))"
   ]
  }
 ],
 "metadata": {
  "kaggle": {
   "accelerator": "none",
   "dataSources": [
    {
     "datasetId": 4108604,
     "sourceId": 7122830,
     "sourceType": "datasetVersion"
    }
   ],
   "dockerImageVersionId": 30587,
   "isGpuEnabled": false,
   "isInternetEnabled": true,
   "language": "python",
   "sourceType": "notebook"
  },
  "kernelspec": {
   "display_name": "Python 3",
   "language": "python",
   "name": "python3"
  },
  "language_info": {
   "codemirror_mode": {
    "name": "ipython",
    "version": 3
   },
   "file_extension": ".py",
   "mimetype": "text/x-python",
   "name": "python",
   "nbconvert_exporter": "python",
   "pygments_lexer": "ipython3",
   "version": "3.10.12"
  },
  "papermill": {
   "default_parameters": {},
   "duration": 60.504018,
   "end_time": "2023-12-06T05:33:57.821968",
   "environment_variables": {},
   "exception": null,
   "input_path": "__notebook__.ipynb",
   "output_path": "__notebook__.ipynb",
   "parameters": {},
   "start_time": "2023-12-06T05:32:57.317950",
   "version": "2.4.0"
  }
 },
 "nbformat": 4,
 "nbformat_minor": 5
}
